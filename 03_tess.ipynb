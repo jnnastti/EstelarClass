{
 "cells": [
  {
   "cell_type": "markdown",
   "metadata": {},
   "source": [
    "03 - Tratamento dos dados da base TESS."
   ]
  },
  {
   "cell_type": "code",
   "execution_count": 1,
   "metadata": {},
   "outputs": [],
   "source": [
    "import pandas as pd\n",
    "import numpy as np\n",
    "import matplotlib.pyplot as plt\n",
    "\n",
    "from sklearn.preprocessing import MinMaxScaler\n",
    "from functions import *"
   ]
  },
  {
   "cell_type": "markdown",
   "metadata": {},
   "source": [
    "Tratamento das colunas"
   ]
  },
  {
   "cell_type": "code",
   "execution_count": 2,
   "metadata": {},
   "outputs": [
    {
     "data": {
      "text/html": [
       "<div>\n",
       "<style scoped>\n",
       "    .dataframe tbody tr th:only-of-type {\n",
       "        vertical-align: middle;\n",
       "    }\n",
       "\n",
       "    .dataframe tbody tr th {\n",
       "        vertical-align: top;\n",
       "    }\n",
       "\n",
       "    .dataframe thead th {\n",
       "        text-align: right;\n",
       "    }\n",
       "</style>\n",
       "<table border=\"1\" class=\"dataframe\">\n",
       "  <thead>\n",
       "    <tr style=\"text-align: right;\">\n",
       "      <th></th>\n",
       "      <th>classification</th>\n",
       "      <th>longitude</th>\n",
       "      <th>latitude</th>\n",
       "      <th>stellar_temperature</th>\n",
       "      <th>stellar_radius</th>\n",
       "      <th>planet_radius</th>\n",
       "      <th>eq_temperature</th>\n",
       "      <th>distance</th>\n",
       "      <th>stellar_sur_gravity</th>\n",
       "      <th>orbital_period</th>\n",
       "      <th>depth</th>\n",
       "      <th>insol_flux</th>\n",
       "    </tr>\n",
       "  </thead>\n",
       "  <tbody>\n",
       "    <tr>\n",
       "      <th>0</th>\n",
       "      <td>FP</td>\n",
       "      <td>112.357708</td>\n",
       "      <td>-12.695960</td>\n",
       "      <td>10249.0</td>\n",
       "      <td>2.16986</td>\n",
       "      <td>5.818163</td>\n",
       "      <td>3127.204052</td>\n",
       "      <td>485.735</td>\n",
       "      <td>4.19</td>\n",
       "      <td>2.171348</td>\n",
       "      <td>656.886099</td>\n",
       "      <td>22601.948581</td>\n",
       "    </tr>\n",
       "    <tr>\n",
       "      <th>1</th>\n",
       "      <td>PC</td>\n",
       "      <td>122.580465</td>\n",
       "      <td>-5.513852</td>\n",
       "      <td>7070.0</td>\n",
       "      <td>2.01000</td>\n",
       "      <td>11.215400</td>\n",
       "      <td>4045.000000</td>\n",
       "      <td>295.862</td>\n",
       "      <td>4.03</td>\n",
       "      <td>1.931646</td>\n",
       "      <td>1286.000000</td>\n",
       "      <td>44464.500000</td>\n",
       "    </tr>\n",
       "    <tr>\n",
       "      <th>2</th>\n",
       "      <td>FP</td>\n",
       "      <td>104.726966</td>\n",
       "      <td>-10.580455</td>\n",
       "      <td>8924.0</td>\n",
       "      <td>5.73000</td>\n",
       "      <td>23.752900</td>\n",
       "      <td>2037.000000</td>\n",
       "      <td>943.109</td>\n",
       "      <td>NaN</td>\n",
       "      <td>1.867557</td>\n",
       "      <td>1500.000000</td>\n",
       "      <td>2860.610000</td>\n",
       "    </tr>\n",
       "    <tr>\n",
       "      <th>3</th>\n",
       "      <td>FP</td>\n",
       "      <td>110.559945</td>\n",
       "      <td>-25.207017</td>\n",
       "      <td>5388.5</td>\n",
       "      <td>NaN</td>\n",
       "      <td>NaN</td>\n",
       "      <td>1631.000000</td>\n",
       "      <td>7728.170</td>\n",
       "      <td>4.15</td>\n",
       "      <td>2.743230</td>\n",
       "      <td>383.410000</td>\n",
       "      <td>1177.360000</td>\n",
       "    </tr>\n",
       "    <tr>\n",
       "      <th>4</th>\n",
       "      <td>FP</td>\n",
       "      <td>122.178195</td>\n",
       "      <td>-48.802811</td>\n",
       "      <td>9219.0</td>\n",
       "      <td>2.15000</td>\n",
       "      <td>11.311300</td>\n",
       "      <td>4260.000000</td>\n",
       "      <td>356.437</td>\n",
       "      <td>4.14</td>\n",
       "      <td>3.573014</td>\n",
       "      <td>755.000000</td>\n",
       "      <td>54679.300000</td>\n",
       "    </tr>\n",
       "  </tbody>\n",
       "</table>\n",
       "</div>"
      ],
      "text/plain": [
       "  classification   longitude   latitude  stellar_temperature  stellar_radius  \\\n",
       "0             FP  112.357708 -12.695960              10249.0         2.16986   \n",
       "1             PC  122.580465  -5.513852               7070.0         2.01000   \n",
       "2             FP  104.726966 -10.580455               8924.0         5.73000   \n",
       "3             FP  110.559945 -25.207017               5388.5             NaN   \n",
       "4             FP  122.178195 -48.802811               9219.0         2.15000   \n",
       "\n",
       "   planet_radius  eq_temperature  distance  stellar_sur_gravity  \\\n",
       "0       5.818163     3127.204052   485.735                 4.19   \n",
       "1      11.215400     4045.000000   295.862                 4.03   \n",
       "2      23.752900     2037.000000   943.109                  NaN   \n",
       "3            NaN     1631.000000  7728.170                 4.15   \n",
       "4      11.311300     4260.000000   356.437                 4.14   \n",
       "\n",
       "   orbital_period        depth    insol_flux  \n",
       "0        2.171348   656.886099  22601.948581  \n",
       "1        1.931646  1286.000000  44464.500000  \n",
       "2        1.867557  1500.000000   2860.610000  \n",
       "3        2.743230   383.410000   1177.360000  \n",
       "4        3.573014   755.000000  54679.300000  "
      ]
     },
     "execution_count": 2,
     "metadata": {},
     "output_type": "execute_result"
    }
   ],
   "source": [
    "tess = pd.read_csv('./data/tess/tess.csv')\n",
    "\n",
    "tess_columns = [\n",
    "    'tfopwg_disp',\n",
    "    'ra',\n",
    "    'dec',\n",
    "    'st_teff',\n",
    "    'st_rad',\n",
    "    'pl_rade',\n",
    "    'pl_eqt',\n",
    "    'st_dist',\n",
    "    'st_logg',\n",
    "    'pl_orbper',\n",
    "    'pl_trandep',\n",
    "    'pl_insol'\n",
    "]\n",
    "\n",
    "tess_data = tess[tess_columns].copy()\n",
    "\n",
    "tess_columns_name = {\n",
    "    'tfopwg_disp': 'classification',\n",
    "    'ra' : 'longitude',\n",
    "    'dec' : 'latitude',\n",
    "    'st_teff' : 'stellar_temperature',\n",
    "    'st_rad' : 'stellar_radius',\n",
    "    'pl_rade' : 'planet_radius',\n",
    "    'pl_eqt' : 'eq_temperature',\n",
    "    'st_dist' : 'distance',\n",
    "    'st_logg' : 'stellar_sur_gravity',\n",
    "    'pl_orbper' : 'orbital_period',\n",
    "    'pl_trandep' : 'depth',\n",
    "    'pl_insol' : 'insol_flux'\n",
    "}\n",
    "\n",
    "tess_data.rename(columns=tess_columns_name, inplace=True)\n",
    "\n",
    "\n",
    "tess_data.head(5)"
   ]
  },
  {
   "cell_type": "code",
   "execution_count": 3,
   "metadata": {},
   "outputs": [],
   "source": [
    "tess_data['mission'] = 'tess'"
   ]
  },
  {
   "cell_type": "markdown",
   "metadata": {},
   "source": [
    "Visualizar"
   ]
  },
  {
   "cell_type": "code",
   "execution_count": 4,
   "metadata": {},
   "outputs": [
    {
     "name": "stdout",
     "output_type": "stream",
     "text": [
      "<class 'pandas.core.frame.DataFrame'>\n",
      "RangeIndex: 7027 entries, 0 to 7026\n",
      "Data columns (total 13 columns):\n",
      " #   Column               Non-Null Count  Dtype  \n",
      "---  ------               --------------  -----  \n",
      " 0   classification       7025 non-null   object \n",
      " 1   longitude            7027 non-null   float64\n",
      " 2   latitude             7027 non-null   float64\n",
      " 3   stellar_temperature  6897 non-null   float64\n",
      " 4   stellar_radius       6559 non-null   float64\n",
      " 5   planet_radius        6559 non-null   float64\n",
      " 6   eq_temperature       6748 non-null   float64\n",
      " 7   distance             6823 non-null   float64\n",
      " 8   stellar_sur_gravity  6235 non-null   float64\n",
      " 9   orbital_period       6927 non-null   float64\n",
      " 10  depth                7027 non-null   float64\n",
      " 11  insol_flux           6871 non-null   float64\n",
      " 12  mission              7027 non-null   object \n",
      "dtypes: float64(11), object(2)\n",
      "memory usage: 713.8+ KB\n"
     ]
    }
   ],
   "source": [
    "tess_data.info()"
   ]
  },
  {
   "cell_type": "markdown",
   "metadata": {},
   "source": [
    "Tratamento de INFINITOS no DISTANCE"
   ]
  },
  {
   "cell_type": "code",
   "execution_count": 5,
   "metadata": {},
   "outputs": [],
   "source": [
    "tess_data['distance'] = np.where(tess_data['distance']==np.inf,np.nan,tess_data['distance'])"
   ]
  },
  {
   "cell_type": "markdown",
   "metadata": {},
   "source": [
    "Tratamento de NULOS"
   ]
  },
  {
   "cell_type": "code",
   "execution_count": 6,
   "metadata": {},
   "outputs": [],
   "source": [
    "colunas_dados_faltantes = ['stellar_temperature','stellar_radius','planet_radius','eq_temperature','distance','stellar_sur_gravity','orbital_period','insol_flux','depth']"
   ]
  },
  {
   "cell_type": "markdown",
   "metadata": {},
   "source": [
    "Visualizar normalização dos dados"
   ]
  },
  {
   "cell_type": "code",
   "execution_count": 7,
   "metadata": {},
   "outputs": [
    {
     "data": {
      "image/png": "[encoded data removed]",
      "text/plain": [
       "<Figure size 700x700 with 9 Axes>"
      ]
     },
     "metadata": {},
     "output_type": "display_data"
    }
   ],
   "source": [
    "fig,ax = plt.subplots(3,3,figsize = (7,7),dpi = 100)\n",
    "\n",
    "ax[0,0].hist(tess_data.stellar_temperature,bins = 30,density = True)\n",
    "ax[0,0].set_title('stellar_temperature')\n",
    "\n",
    "ax[0,1].hist(tess_data.stellar_radius,bins = 30,density = True)\n",
    "ax[0,1].set_title('stellar_radius')\n",
    "\n",
    "ax[0,2].hist(tess_data.planet_radius,bins = 30,density = True)\n",
    "ax[0,2].set_title('planet_radius')\n",
    "\n",
    "ax[1,0].hist(tess_data.eq_temperature,bins = 30,density = True)\n",
    "ax[1,0].set_title('eq_temperature')\n",
    "\n",
    "ax[1,1].hist(tess_data[tess_data.distance!=np.inf].distance,bins = 30,density = True) ## adicionei um filtro nesse plot, pois há dados de distance iguais a infinito\n",
    "ax[1,1].set_title('distance')\n",
    "\n",
    "ax[1,2].hist(tess_data.stellar_sur_gravity,bins = 30,density = True)\n",
    "ax[1,2].set_title('stellar_sur_gravity')\n",
    "\n",
    "ax[2,0].hist(tess_data.orbital_period,bins = 30,density = True)\n",
    "ax[2,0].set_title('orbital_period')\n",
    "\n",
    "ax[2,1].hist(tess_data.insol_flux,bins = 30,density = True)\n",
    "ax[2,1].set_title('insol_flux')\n",
    "\n",
    "ax[2,2].hist(tess_data.depth,bins = 30,density = True)\n",
    "ax[2,2].set_title('depth')\n",
    "\n",
    "plt.tight_layout()"
   ]
  },
  {
   "cell_type": "code",
   "execution_count": 8,
   "metadata": {},
   "outputs": [],
   "source": [
    "dfx = tess_data.copy()\n",
    "for coluna in colunas_dados_faltantes:\n",
    "    dfx = imput_random(dfx,coluna)\n",
    "tess_data = dfx.copy()"
   ]
  },
  {
   "cell_type": "code",
   "execution_count": 9,
   "metadata": {},
   "outputs": [
    {
     "name": "stdout",
     "output_type": "stream",
     "text": [
      "<class 'pandas.core.frame.DataFrame'>\n",
      "RangeIndex: 7027 entries, 0 to 7026\n",
      "Data columns (total 13 columns):\n",
      " #   Column               Non-Null Count  Dtype  \n",
      "---  ------               --------------  -----  \n",
      " 0   classification       7025 non-null   object \n",
      " 1   longitude            7027 non-null   float64\n",
      " 2   latitude             7027 non-null   float64\n",
      " 3   stellar_temperature  7027 non-null   float64\n",
      " 4   stellar_radius       7027 non-null   float64\n",
      " 5   planet_radius        7027 non-null   float64\n",
      " 6   eq_temperature       7027 non-null   float64\n",
      " 7   distance             7027 non-null   float64\n",
      " 8   stellar_sur_gravity  7027 non-null   float64\n",
      " 9   orbital_period       7027 non-null   float64\n",
      " 10  depth                7027 non-null   float64\n",
      " 11  insol_flux           7027 non-null   float64\n",
      " 12  mission              7027 non-null   object \n",
      "dtypes: float64(11), object(2)\n",
      "memory usage: 713.8+ KB\n"
     ]
    }
   ],
   "source": [
    "tess_data.info()"
   ]
  },
  {
   "cell_type": "markdown",
   "metadata": {},
   "source": [
    "Tratamento das classificações dos planetas"
   ]
  },
  {
   "cell_type": "code",
   "execution_count": 10,
   "metadata": {},
   "outputs": [
    {
     "name": "stdout",
     "output_type": "stream",
     "text": [
      "classification\n",
      "planet        5106\n",
      "not planet    1089\n",
      "candidate      830\n",
      "Name: count, dtype: int64\n"
     ]
    }
   ],
   "source": [
    "tess_data['classification'].value_counts()\n",
    "\n",
    "mapeamento = {('PC', 'KP'): 'planet', ('FP', 'FA'): 'not planet', ('CP', 'APC'): 'candidate'}\n",
    "\n",
    "for chaves, valor in mapeamento.items():\n",
    "    tess_data['classification'] = tess_data['classification'].replace(to_replace=chaves, value=valor)\n",
    "\n",
    "# Verifique se a substituição foi feita corretamente\n",
    "print(tess_data['classification'].value_counts())"
   ]
  },
  {
   "cell_type": "markdown",
   "metadata": {},
   "source": [
    "Corrigir ordem das colunas"
   ]
  },
  {
   "cell_type": "code",
   "execution_count": 11,
   "metadata": {},
   "outputs": [
    {
     "data": {
      "text/plain": [
       "13"
      ]
     },
     "execution_count": 11,
     "metadata": {},
     "output_type": "execute_result"
    }
   ],
   "source": [
    "len(tess_data.columns)"
   ]
  },
  {
   "cell_type": "code",
   "execution_count": 12,
   "metadata": {},
   "outputs": [
    {
     "data": {
      "text/plain": [
       "Index(['classification', 'longitude', 'latitude', 'stellar_temperature',\n",
       "       'stellar_radius', 'planet_radius', 'eq_temperature', 'distance',\n",
       "       'stellar_sur_gravity', 'orbital_period', 'depth', 'insol_flux',\n",
       "       'mission'],\n",
       "      dtype='object')"
      ]
     },
     "execution_count": 12,
     "metadata": {},
     "output_type": "execute_result"
    }
   ],
   "source": [
    "tess_data.columns"
   ]
  },
  {
   "cell_type": "code",
   "execution_count": 13,
   "metadata": {},
   "outputs": [],
   "source": [
    "colunas = ['classification', 'mission', 'longitude', 'latitude', 'stellar_temperature',\n",
    "       'stellar_radius', 'planet_radius', 'eq_temperature', 'distance',\n",
    "       'stellar_sur_gravity', 'orbital_period', 'insol_flux',\n",
    "       'depth']\n",
    "\n",
    "tess_data = tess_data.reindex(columns=colunas)"
   ]
  },
  {
   "cell_type": "markdown",
   "metadata": {},
   "source": [
    "Escalonamento com MinMaxScaler() onde a 1a coluna mantida no lugar e as demais escalonadas dentro dos seus próprios limites cada"
   ]
  },
  {
   "cell_type": "code",
   "execution_count": 14,
   "metadata": {},
   "outputs": [
    {
     "data": {
      "text/html": [
       "<div>\n",
       "<style scoped>\n",
       "    .dataframe tbody tr th:only-of-type {\n",
       "        vertical-align: middle;\n",
       "    }\n",
       "\n",
       "    .dataframe tbody tr th {\n",
       "        vertical-align: top;\n",
       "    }\n",
       "\n",
       "    .dataframe thead th {\n",
       "        text-align: right;\n",
       "    }\n",
       "</style>\n",
       "<table border=\"1\" class=\"dataframe\">\n",
       "  <thead>\n",
       "    <tr style=\"text-align: right;\">\n",
       "      <th></th>\n",
       "      <th>classification</th>\n",
       "      <th>mission</th>\n",
       "      <th>longitude</th>\n",
       "      <th>latitude</th>\n",
       "      <th>stellar_temperature</th>\n",
       "      <th>stellar_radius</th>\n",
       "      <th>planet_radius</th>\n",
       "      <th>eq_temperature</th>\n",
       "      <th>distance</th>\n",
       "      <th>stellar_sur_gravity</th>\n",
       "      <th>orbital_period</th>\n",
       "      <th>insol_flux</th>\n",
       "      <th>depth</th>\n",
       "    </tr>\n",
       "  </thead>\n",
       "  <tbody>\n",
       "    <tr>\n",
       "      <th>0</th>\n",
       "      <td>not planet</td>\n",
       "      <td>tess</td>\n",
       "      <td>112.357708</td>\n",
       "      <td>-12.695960</td>\n",
       "      <td>10249.0</td>\n",
       "      <td>2.169860</td>\n",
       "      <td>5.818163</td>\n",
       "      <td>3127.204052</td>\n",
       "      <td>485.735</td>\n",
       "      <td>4.190000</td>\n",
       "      <td>2.171348</td>\n",
       "      <td>22601.948581</td>\n",
       "      <td>656.886099</td>\n",
       "    </tr>\n",
       "    <tr>\n",
       "      <th>1</th>\n",
       "      <td>planet</td>\n",
       "      <td>tess</td>\n",
       "      <td>122.580465</td>\n",
       "      <td>-5.513852</td>\n",
       "      <td>7070.0</td>\n",
       "      <td>2.010000</td>\n",
       "      <td>11.215400</td>\n",
       "      <td>4045.000000</td>\n",
       "      <td>295.862</td>\n",
       "      <td>4.030000</td>\n",
       "      <td>1.931646</td>\n",
       "      <td>44464.500000</td>\n",
       "      <td>1286.000000</td>\n",
       "    </tr>\n",
       "    <tr>\n",
       "      <th>2</th>\n",
       "      <td>not planet</td>\n",
       "      <td>tess</td>\n",
       "      <td>104.726966</td>\n",
       "      <td>-10.580455</td>\n",
       "      <td>8924.0</td>\n",
       "      <td>5.730000</td>\n",
       "      <td>23.752900</td>\n",
       "      <td>2037.000000</td>\n",
       "      <td>943.109</td>\n",
       "      <td>4.332271</td>\n",
       "      <td>1.867557</td>\n",
       "      <td>2860.610000</td>\n",
       "      <td>1500.000000</td>\n",
       "    </tr>\n",
       "    <tr>\n",
       "      <th>3</th>\n",
       "      <td>not planet</td>\n",
       "      <td>tess</td>\n",
       "      <td>110.559945</td>\n",
       "      <td>-25.207017</td>\n",
       "      <td>5388.5</td>\n",
       "      <td>1.595695</td>\n",
       "      <td>13.718178</td>\n",
       "      <td>1631.000000</td>\n",
       "      <td>7728.170</td>\n",
       "      <td>4.150000</td>\n",
       "      <td>2.743230</td>\n",
       "      <td>1177.360000</td>\n",
       "      <td>383.410000</td>\n",
       "    </tr>\n",
       "    <tr>\n",
       "      <th>4</th>\n",
       "      <td>not planet</td>\n",
       "      <td>tess</td>\n",
       "      <td>122.178195</td>\n",
       "      <td>-48.802811</td>\n",
       "      <td>9219.0</td>\n",
       "      <td>2.150000</td>\n",
       "      <td>11.311300</td>\n",
       "      <td>4260.000000</td>\n",
       "      <td>356.437</td>\n",
       "      <td>4.140000</td>\n",
       "      <td>3.573014</td>\n",
       "      <td>54679.300000</td>\n",
       "      <td>755.000000</td>\n",
       "    </tr>\n",
       "  </tbody>\n",
       "</table>\n",
       "</div>"
      ],
      "text/plain": [
       "  classification mission   longitude   latitude  stellar_temperature  \\\n",
       "0     not planet    tess  112.357708 -12.695960              10249.0   \n",
       "1         planet    tess  122.580465  -5.513852               7070.0   \n",
       "2     not planet    tess  104.726966 -10.580455               8924.0   \n",
       "3     not planet    tess  110.559945 -25.207017               5388.5   \n",
       "4     not planet    tess  122.178195 -48.802811               9219.0   \n",
       "\n",
       "   stellar_radius  planet_radius  eq_temperature  distance  \\\n",
       "0        2.169860       5.818163     3127.204052   485.735   \n",
       "1        2.010000      11.215400     4045.000000   295.862   \n",
       "2        5.730000      23.752900     2037.000000   943.109   \n",
       "3        1.595695      13.718178     1631.000000  7728.170   \n",
       "4        2.150000      11.311300     4260.000000   356.437   \n",
       "\n",
       "   stellar_sur_gravity  orbital_period    insol_flux        depth  \n",
       "0             4.190000        2.171348  22601.948581   656.886099  \n",
       "1             4.030000        1.931646  44464.500000  1286.000000  \n",
       "2             4.332271        1.867557   2860.610000  1500.000000  \n",
       "3             4.150000        2.743230   1177.360000   383.410000  \n",
       "4             4.140000        3.573014  54679.300000   755.000000  "
      ]
     },
     "execution_count": 14,
     "metadata": {},
     "output_type": "execute_result"
    }
   ],
   "source": [
    "tess_data.head(5)"
   ]
  },
  {
   "cell_type": "code",
   "execution_count": 15,
   "metadata": {},
   "outputs": [
    {
     "data": {
      "text/html": [
       "<div>\n",
       "<style scoped>\n",
       "    .dataframe tbody tr th:only-of-type {\n",
       "        vertical-align: middle;\n",
       "    }\n",
       "\n",
       "    .dataframe tbody tr th {\n",
       "        vertical-align: top;\n",
       "    }\n",
       "\n",
       "    .dataframe thead th {\n",
       "        text-align: right;\n",
       "    }\n",
       "</style>\n",
       "<table border=\"1\" class=\"dataframe\">\n",
       "  <thead>\n",
       "    <tr style=\"text-align: right;\">\n",
       "      <th></th>\n",
       "      <th>classification</th>\n",
       "      <th>mission</th>\n",
       "      <th>longitude</th>\n",
       "      <th>latitude</th>\n",
       "      <th>stellar_temperature</th>\n",
       "      <th>stellar_radius</th>\n",
       "      <th>planet_radius</th>\n",
       "      <th>eq_temperature</th>\n",
       "      <th>distance</th>\n",
       "      <th>stellar_sur_gravity</th>\n",
       "      <th>orbital_period</th>\n",
       "      <th>insol_flux</th>\n",
       "      <th>depth</th>\n",
       "    </tr>\n",
       "  </thead>\n",
       "  <tbody>\n",
       "    <tr>\n",
       "      <th>0</th>\n",
       "      <td>not planet</td>\n",
       "      <td>tess</td>\n",
       "      <td>0.312001</td>\n",
       "      <td>0.429974</td>\n",
       "      <td>0.157675</td>\n",
       "      <td>0.020164</td>\n",
       "      <td>0.017756</td>\n",
       "      <td>0.484662</td>\n",
       "      <td>0.032551</td>\n",
       "      <td>0.697875</td>\n",
       "      <td>0.001107</td>\n",
       "      <td>0.080482</td>\n",
       "      <td>0.001254</td>\n",
       "    </tr>\n",
       "    <tr>\n",
       "      <th>1</th>\n",
       "      <td>planet</td>\n",
       "      <td>tess</td>\n",
       "      <td>0.340409</td>\n",
       "      <td>0.470197</td>\n",
       "      <td>0.090312</td>\n",
       "      <td>0.018596</td>\n",
       "      <td>0.035955</td>\n",
       "      <td>0.628607</td>\n",
       "      <td>0.019653</td>\n",
       "      <td>0.670574</td>\n",
       "      <td>0.000975</td>\n",
       "      <td>0.158331</td>\n",
       "      <td>0.002502</td>\n",
       "    </tr>\n",
       "    <tr>\n",
       "      <th>2</th>\n",
       "      <td>not planet</td>\n",
       "      <td>tess</td>\n",
       "      <td>0.290796</td>\n",
       "      <td>0.441822</td>\n",
       "      <td>0.129598</td>\n",
       "      <td>0.055097</td>\n",
       "      <td>0.078232</td>\n",
       "      <td>0.313676</td>\n",
       "      <td>0.063619</td>\n",
       "      <td>0.722150</td>\n",
       "      <td>0.000940</td>\n",
       "      <td>0.010186</td>\n",
       "      <td>0.002927</td>\n",
       "    </tr>\n",
       "    <tr>\n",
       "      <th>3</th>\n",
       "      <td>not planet</td>\n",
       "      <td>tess</td>\n",
       "      <td>0.307005</td>\n",
       "      <td>0.359907</td>\n",
       "      <td>0.054681</td>\n",
       "      <td>0.014530</td>\n",
       "      <td>0.044395</td>\n",
       "      <td>0.250000</td>\n",
       "      <td>0.524505</td>\n",
       "      <td>0.691050</td>\n",
       "      <td>0.001420</td>\n",
       "      <td>0.004192</td>\n",
       "      <td>0.000711</td>\n",
       "    </tr>\n",
       "    <tr>\n",
       "      <th>4</th>\n",
       "      <td>not planet</td>\n",
       "      <td>tess</td>\n",
       "      <td>0.339292</td>\n",
       "      <td>0.227761</td>\n",
       "      <td>0.135849</td>\n",
       "      <td>0.019969</td>\n",
       "      <td>0.036279</td>\n",
       "      <td>0.662327</td>\n",
       "      <td>0.023768</td>\n",
       "      <td>0.689343</td>\n",
       "      <td>0.001875</td>\n",
       "      <td>0.194704</td>\n",
       "      <td>0.001449</td>\n",
       "    </tr>\n",
       "  </tbody>\n",
       "</table>\n",
       "</div>"
      ],
      "text/plain": [
       "  classification mission  longitude  latitude  stellar_temperature  \\\n",
       "0     not planet    tess   0.312001  0.429974             0.157675   \n",
       "1         planet    tess   0.340409  0.470197             0.090312   \n",
       "2     not planet    tess   0.290796  0.441822             0.129598   \n",
       "3     not planet    tess   0.307005  0.359907             0.054681   \n",
       "4     not planet    tess   0.339292  0.227761             0.135849   \n",
       "\n",
       "   stellar_radius  planet_radius  eq_temperature  distance  \\\n",
       "0        0.020164       0.017756        0.484662  0.032551   \n",
       "1        0.018596       0.035955        0.628607  0.019653   \n",
       "2        0.055097       0.078232        0.313676  0.063619   \n",
       "3        0.014530       0.044395        0.250000  0.524505   \n",
       "4        0.019969       0.036279        0.662327  0.023768   \n",
       "\n",
       "   stellar_sur_gravity  orbital_period  insol_flux     depth  \n",
       "0             0.697875        0.001107    0.080482  0.001254  \n",
       "1             0.670574        0.000975    0.158331  0.002502  \n",
       "2             0.722150        0.000940    0.010186  0.002927  \n",
       "3             0.691050        0.001420    0.004192  0.000711  \n",
       "4             0.689343        0.001875    0.194704  0.001449  "
      ]
     },
     "execution_count": 15,
     "metadata": {},
     "output_type": "execute_result"
    }
   ],
   "source": [
    "scaler = MinMaxScaler()\n",
    "\n",
    "tess_scaled = tess_data.copy()\n",
    "\n",
    "cols_to_scale = tess_scaled.columns[1:] ## isso define as colunas a escalonar, mas nao tira a coluna categorica mission\n",
    "col_to_skip = 'mission'\n",
    "cols_to_scale = cols_to_scale.drop(col_to_skip) ## isso retira a coluna mission da lista de colunas a serem escalonadas\n",
    "\n",
    "tess_scaled[cols_to_scale] = scaler.fit_transform(tess_scaled[cols_to_scale].values) ## isso escalona as colunas a serem escalonadas\n",
    "\n",
    "tess_scaled_data = pd.DataFrame(tess_scaled, columns=tess_scaled.columns)\n",
    "tess_scaled_data.head(5)"
   ]
  },
  {
   "cell_type": "code",
   "execution_count": 16,
   "metadata": {},
   "outputs": [],
   "source": [
    "tess_scaled_data.to_pickle('data\\\\tess\\\\tess_data_treated.pkl')"
   ]
  }
 ],
 "metadata": {
  "kernelspec": {
   "display_name": "Python 3",
   "language": "python",
   "name": "python3"
  },
  "language_info": {
   "codemirror_mode": {
    "name": "ipython",
    "version": 3
   },
   "file_extension": ".py",
   "mimetype": "text/x-python",
   "name": "python",
   "nbconvert_exporter": "python",
   "pygments_lexer": "ipython3",
   "version": "3.9.13"
  }
 },
 "nbformat": 4,
 "nbformat_minor": 2
}

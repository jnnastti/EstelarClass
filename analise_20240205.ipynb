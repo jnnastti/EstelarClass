{
 "cells": [
  {
   "cell_type": "code",
   "execution_count": 1,
   "metadata": {},
   "outputs": [],
   "source": [
    "import pandas as pd"
   ]
  },
  {
   "cell_type": "code",
   "execution_count": 3,
   "metadata": {},
   "outputs": [],
   "source": [
    "k2_data = pd.read_pickle('data/k2_data_treated.pkl')\n",
    "kepler_data = pd.read_pickle('data/kepler_data_treated.pkl')\n",
    "tess_data = pd.read_pickle('data/tess_data_treated.pkl')"
   ]
  },
  {
   "cell_type": "code",
   "execution_count": 7,
   "metadata": {},
   "outputs": [],
   "source": [
    "k2_columns = k2_data.columns.tolist()\n",
    "kepler_columns = kepler_data.columns.tolist()\n",
    "tess_columns = tess_data.columns.tolist()"
   ]
  },
  {
   "cell_type": "markdown",
   "metadata": {},
   "source": [
    "O código abaixo apresenta as colunas que são comuns ao 3 dataframes"
   ]
  },
  {
   "cell_type": "code",
   "execution_count": 10,
   "metadata": {},
   "outputs": [
    {
     "data": {
      "text/plain": [
       "['classification',\n",
       " 'orbital_period',\n",
       " 'longitude',\n",
       " 'stellar_radius',\n",
       " 'stellar_sur_gravity',\n",
       " 'planet_radius',\n",
       " 'latitude',\n",
       " 'insol_flux',\n",
       " 'stellar_temperature',\n",
       " 'eq_temperature']"
      ]
     },
     "execution_count": 10,
     "metadata": {},
     "output_type": "execute_result"
    }
   ],
   "source": [
    "k2_columns = set(k2_columns)\n",
    "kepler_columns = set(kepler_columns)\n",
    "tess_columns = set(tess_columns)\n",
    "\n",
    "column_intersection = k2_columns.intersection(kepler_columns,tess_columns)\n",
    "column_intersection = list(column_intersection)\n",
    "column_intersection"
   ]
  },
  {
   "cell_type": "markdown",
   "metadata": {},
   "source": [
    "Filtrando os dataframes"
   ]
  },
  {
   "cell_type": "code",
   "execution_count": 11,
   "metadata": {},
   "outputs": [],
   "source": [
    "k2_data = k2_data[column_intersection]\n",
    "kepler_data = kepler_data[column_intersection]\n",
    "tess_data = tess_data[column_intersection]"
   ]
  },
  {
   "cell_type": "markdown",
   "metadata": {},
   "source": [
    "Concatenando os dataframes"
   ]
  },
  {
   "cell_type": "code",
   "execution_count": 33,
   "metadata": {},
   "outputs": [],
   "source": [
    "general_data = pd.concat([k2_data,kepler_data,tess_data],axis=0)\n",
    "general_data = general_data.reset_index(drop=True)"
   ]
  },
  {
   "cell_type": "code",
   "execution_count": 34,
   "metadata": {},
   "outputs": [
    {
     "data": {
      "text/html": [
       "<div>\n",
       "<style scoped>\n",
       "    .dataframe tbody tr th:only-of-type {\n",
       "        vertical-align: middle;\n",
       "    }\n",
       "\n",
       "    .dataframe tbody tr th {\n",
       "        vertical-align: top;\n",
       "    }\n",
       "\n",
       "    .dataframe thead th {\n",
       "        text-align: right;\n",
       "    }\n",
       "</style>\n",
       "<table border=\"1\" class=\"dataframe\">\n",
       "  <thead>\n",
       "    <tr style=\"text-align: right;\">\n",
       "      <th></th>\n",
       "      <th>classification</th>\n",
       "      <th>orbital_period</th>\n",
       "      <th>longitude</th>\n",
       "      <th>stellar_radius</th>\n",
       "      <th>stellar_sur_gravity</th>\n",
       "      <th>planet_radius</th>\n",
       "      <th>latitude</th>\n",
       "      <th>insol_flux</th>\n",
       "      <th>stellar_temperature</th>\n",
       "      <th>eq_temperature</th>\n",
       "    </tr>\n",
       "  </thead>\n",
       "  <tbody>\n",
       "    <tr>\n",
       "      <th>0</th>\n",
       "      <td>CONFIRMED</td>\n",
       "      <td>41.685500</td>\n",
       "      <td>53.651123</td>\n",
       "      <td>1.080000</td>\n",
       "      <td>4.50</td>\n",
       "      <td>2.578000</td>\n",
       "      <td>20.599021</td>\n",
       "      <td>NaN</td>\n",
       "      <td>5766.00</td>\n",
       "      <td>NaN</td>\n",
       "    </tr>\n",
       "    <tr>\n",
       "      <th>1</th>\n",
       "      <td>CONFIRMED</td>\n",
       "      <td>41.685500</td>\n",
       "      <td>53.651123</td>\n",
       "      <td>0.930000</td>\n",
       "      <td>4.50</td>\n",
       "      <td>2.230000</td>\n",
       "      <td>20.599021</td>\n",
       "      <td>NaN</td>\n",
       "      <td>5766.00</td>\n",
       "      <td>546.000000</td>\n",
       "    </tr>\n",
       "    <tr>\n",
       "      <th>2</th>\n",
       "      <td>CONFIRMED</td>\n",
       "      <td>41.688644</td>\n",
       "      <td>53.651123</td>\n",
       "      <td>0.960000</td>\n",
       "      <td>4.38</td>\n",
       "      <td>2.355000</td>\n",
       "      <td>20.599021</td>\n",
       "      <td>NaN</td>\n",
       "      <td>5703.00</td>\n",
       "      <td>NaN</td>\n",
       "    </tr>\n",
       "    <tr>\n",
       "      <th>3</th>\n",
       "      <td>CANDIDATE</td>\n",
       "      <td>2.301830</td>\n",
       "      <td>183.846245</td>\n",
       "      <td>0.760000</td>\n",
       "      <td>4.54</td>\n",
       "      <td>1.120000</td>\n",
       "      <td>-6.268329</td>\n",
       "      <td>NaN</td>\n",
       "      <td>4616.52</td>\n",
       "      <td>1054.000000</td>\n",
       "    </tr>\n",
       "    <tr>\n",
       "      <th>4</th>\n",
       "      <td>CANDIDATE</td>\n",
       "      <td>2.302368</td>\n",
       "      <td>183.846245</td>\n",
       "      <td>0.710000</td>\n",
       "      <td>4.50</td>\n",
       "      <td>1.313000</td>\n",
       "      <td>-6.268329</td>\n",
       "      <td>NaN</td>\n",
       "      <td>4720.00</td>\n",
       "      <td>NaN</td>\n",
       "    </tr>\n",
       "    <tr>\n",
       "      <th>...</th>\n",
       "      <td>...</td>\n",
       "      <td>...</td>\n",
       "      <td>...</td>\n",
       "      <td>...</td>\n",
       "      <td>...</td>\n",
       "      <td>...</td>\n",
       "      <td>...</td>\n",
       "      <td>...</td>\n",
       "      <td>...</td>\n",
       "      <td>...</td>\n",
       "    </tr>\n",
       "    <tr>\n",
       "      <th>20359</th>\n",
       "      <td>FP</td>\n",
       "      <td>3.443800</td>\n",
       "      <td>110.811443</td>\n",
       "      <td>NaN</td>\n",
       "      <td>NaN</td>\n",
       "      <td>NaN</td>\n",
       "      <td>5.562850</td>\n",
       "      <td>1413.670000</td>\n",
       "      <td>4805.20</td>\n",
       "      <td>1708.000000</td>\n",
       "    </tr>\n",
       "    <tr>\n",
       "      <th>20360</th>\n",
       "      <td>FP</td>\n",
       "      <td>14.537800</td>\n",
       "      <td>119.349948</td>\n",
       "      <td>2.050000</td>\n",
       "      <td>NaN</td>\n",
       "      <td>16.052300</td>\n",
       "      <td>-19.516015</td>\n",
       "      <td>NaN</td>\n",
       "      <td>8007.00</td>\n",
       "      <td>NaN</td>\n",
       "    </tr>\n",
       "    <tr>\n",
       "      <th>20361</th>\n",
       "      <td>FP</td>\n",
       "      <td>8.413486</td>\n",
       "      <td>121.319521</td>\n",
       "      <td>0.926261</td>\n",
       "      <td>4.52</td>\n",
       "      <td>20.510696</td>\n",
       "      <td>-59.579798</td>\n",
       "      <td>127.916421</td>\n",
       "      <td>5786.00</td>\n",
       "      <td>857.731431</td>\n",
       "    </tr>\n",
       "    <tr>\n",
       "      <th>20362</th>\n",
       "      <td>FP</td>\n",
       "      <td>0.941436</td>\n",
       "      <td>118.319555</td>\n",
       "      <td>2.349860</td>\n",
       "      <td>4.01</td>\n",
       "      <td>4.529209</td>\n",
       "      <td>-14.218823</td>\n",
       "      <td>41562.587811</td>\n",
       "      <td>8322.00</td>\n",
       "      <td>3641.626449</td>\n",
       "    </tr>\n",
       "    <tr>\n",
       "      <th>20363</th>\n",
       "      <td>FP</td>\n",
       "      <td>1.507896</td>\n",
       "      <td>118.864086</td>\n",
       "      <td>1.300000</td>\n",
       "      <td>4.35</td>\n",
       "      <td>5.530910</td>\n",
       "      <td>-58.222060</td>\n",
       "      <td>9662.800000</td>\n",
       "      <td>6635.00</td>\n",
       "      <td>2762.000000</td>\n",
       "    </tr>\n",
       "  </tbody>\n",
       "</table>\n",
       "<p>20364 rows × 10 columns</p>\n",
       "</div>"
      ],
      "text/plain": [
       "      classification  orbital_period   longitude  stellar_radius  \\\n",
       "0          CONFIRMED       41.685500   53.651123        1.080000   \n",
       "1          CONFIRMED       41.685500   53.651123        0.930000   \n",
       "2          CONFIRMED       41.688644   53.651123        0.960000   \n",
       "3          CANDIDATE        2.301830  183.846245        0.760000   \n",
       "4          CANDIDATE        2.302368  183.846245        0.710000   \n",
       "...              ...             ...         ...             ...   \n",
       "20359             FP        3.443800  110.811443             NaN   \n",
       "20360             FP       14.537800  119.349948        2.050000   \n",
       "20361             FP        8.413486  121.319521        0.926261   \n",
       "20362             FP        0.941436  118.319555        2.349860   \n",
       "20363             FP        1.507896  118.864086        1.300000   \n",
       "\n",
       "       stellar_sur_gravity  planet_radius   latitude    insol_flux  \\\n",
       "0                     4.50       2.578000  20.599021           NaN   \n",
       "1                     4.50       2.230000  20.599021           NaN   \n",
       "2                     4.38       2.355000  20.599021           NaN   \n",
       "3                     4.54       1.120000  -6.268329           NaN   \n",
       "4                     4.50       1.313000  -6.268329           NaN   \n",
       "...                    ...            ...        ...           ...   \n",
       "20359                  NaN            NaN   5.562850   1413.670000   \n",
       "20360                  NaN      16.052300 -19.516015           NaN   \n",
       "20361                 4.52      20.510696 -59.579798    127.916421   \n",
       "20362                 4.01       4.529209 -14.218823  41562.587811   \n",
       "20363                 4.35       5.530910 -58.222060   9662.800000   \n",
       "\n",
       "       stellar_temperature  eq_temperature  \n",
       "0                  5766.00             NaN  \n",
       "1                  5766.00      546.000000  \n",
       "2                  5703.00             NaN  \n",
       "3                  4616.52     1054.000000  \n",
       "4                  4720.00             NaN  \n",
       "...                    ...             ...  \n",
       "20359              4805.20     1708.000000  \n",
       "20360              8007.00             NaN  \n",
       "20361              5786.00      857.731431  \n",
       "20362              8322.00     3641.626449  \n",
       "20363              6635.00     2762.000000  \n",
       "\n",
       "[20364 rows x 10 columns]"
      ]
     },
     "execution_count": 34,
     "metadata": {},
     "output_type": "execute_result"
    }
   ],
   "source": [
    "general_data"
   ]
  },
  {
   "cell_type": "code",
   "execution_count": 35,
   "metadata": {},
   "outputs": [
    {
     "data": {
      "text/plain": [
       "classification\n",
       "FALSE POSITIVE    5150\n",
       "CONFIRMED         4833\n",
       "PC                4578\n",
       "CANDIDATE         3354\n",
       "FP                 998\n",
       "KP                 528\n",
       "CP                 426\n",
       "APC                404\n",
       "FA                  91\n",
       "Name: count, dtype: int64"
      ]
     },
     "execution_count": 35,
     "metadata": {},
     "output_type": "execute_result"
    }
   ],
   "source": [
    "general_data.classification.value_counts()"
   ]
  },
  {
   "cell_type": "markdown",
   "metadata": {},
   "source": [
    "No DF concatenado acima, bem como para qualquer um deles, precisamos normalizar essas classificações. Ler o .md para mais detalhes"
   ]
  },
  {
   "cell_type": "code",
   "execution_count": null,
   "metadata": {},
   "outputs": [],
   "source": []
  }
 ],
 "metadata": {
  "kernelspec": {
   "display_name": "venv",
   "language": "python",
   "name": "python3"
  },
  "language_info": {
   "codemirror_mode": {
    "name": "ipython",
    "version": 3
   },
   "file_extension": ".py",
   "mimetype": "text/x-python",
   "name": "python",
   "nbconvert_exporter": "python",
   "pygments_lexer": "ipython3",
   "version": "3.9.13"
  }
 },
 "nbformat": 4,
 "nbformat_minor": 2
}

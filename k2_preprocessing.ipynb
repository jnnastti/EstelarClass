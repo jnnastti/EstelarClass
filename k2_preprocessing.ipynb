{
 "cells": [
  {
   "cell_type": "markdown",
   "metadata": {},
   "source": [
    "01 - Tratamento dos dados da base K2."
   ]
  },
  {
   "cell_type": "code",
   "execution_count": 1,
   "metadata": {},
   "outputs": [],
   "source": [
    "import pandas as pd\n",
    "import numpy as np\n",
    "import matplotlib.pyplot as plt\n",
    "\n",
    "from sklearn.preprocessing import MinMaxScaler\n",
    "from functions import *"
   ]
  },
  {
   "cell_type": "markdown",
   "metadata": {},
   "source": [
    "Tratamento das colunas"
   ]
  },
  {
   "cell_type": "code",
   "execution_count": 2,
   "metadata": {},
   "outputs": [
    {
     "data": {
      "text/html": [
       "<div>\n",
       "<style scoped>\n",
       "    .dataframe tbody tr th:only-of-type {\n",
       "        vertical-align: middle;\n",
       "    }\n",
       "\n",
       "    .dataframe tbody tr th {\n",
       "        vertical-align: top;\n",
       "    }\n",
       "\n",
       "    .dataframe thead th {\n",
       "        text-align: right;\n",
       "    }\n",
       "</style>\n",
       "<table border=\"1\" class=\"dataframe\">\n",
       "  <thead>\n",
       "    <tr style=\"text-align: right;\">\n",
       "      <th></th>\n",
       "      <th>classification</th>\n",
       "      <th>longitude</th>\n",
       "      <th>latitude</th>\n",
       "      <th>stellar_temperature</th>\n",
       "      <th>stellar_radius</th>\n",
       "      <th>planet_radius</th>\n",
       "      <th>eq_temperature</th>\n",
       "      <th>distance</th>\n",
       "      <th>stellar_sur_gravity</th>\n",
       "      <th>orbital_period</th>\n",
       "      <th>insol_flux</th>\n",
       "    </tr>\n",
       "  </thead>\n",
       "  <tbody>\n",
       "    <tr>\n",
       "      <th>0</th>\n",
       "      <td>CONFIRMED</td>\n",
       "      <td>53.651123</td>\n",
       "      <td>20.599021</td>\n",
       "      <td>5766.00</td>\n",
       "      <td>1.08</td>\n",
       "      <td>2.578</td>\n",
       "      <td>NaN</td>\n",
       "      <td>179.4610</td>\n",
       "      <td>4.50</td>\n",
       "      <td>41.685500</td>\n",
       "      <td>NaN</td>\n",
       "    </tr>\n",
       "    <tr>\n",
       "      <th>1</th>\n",
       "      <td>CONFIRMED</td>\n",
       "      <td>53.651123</td>\n",
       "      <td>20.599021</td>\n",
       "      <td>5766.00</td>\n",
       "      <td>0.93</td>\n",
       "      <td>2.230</td>\n",
       "      <td>546.0</td>\n",
       "      <td>179.4610</td>\n",
       "      <td>4.50</td>\n",
       "      <td>41.685500</td>\n",
       "      <td>NaN</td>\n",
       "    </tr>\n",
       "    <tr>\n",
       "      <th>2</th>\n",
       "      <td>CONFIRMED</td>\n",
       "      <td>53.651123</td>\n",
       "      <td>20.599021</td>\n",
       "      <td>5703.00</td>\n",
       "      <td>0.96</td>\n",
       "      <td>2.355</td>\n",
       "      <td>NaN</td>\n",
       "      <td>179.4610</td>\n",
       "      <td>4.38</td>\n",
       "      <td>41.688644</td>\n",
       "      <td>NaN</td>\n",
       "    </tr>\n",
       "    <tr>\n",
       "      <th>3</th>\n",
       "      <td>CANDIDATE</td>\n",
       "      <td>183.846245</td>\n",
       "      <td>-6.268329</td>\n",
       "      <td>4616.52</td>\n",
       "      <td>0.76</td>\n",
       "      <td>1.120</td>\n",
       "      <td>1054.0</td>\n",
       "      <td>97.1795</td>\n",
       "      <td>4.54</td>\n",
       "      <td>2.301830</td>\n",
       "      <td>NaN</td>\n",
       "    </tr>\n",
       "    <tr>\n",
       "      <th>4</th>\n",
       "      <td>CANDIDATE</td>\n",
       "      <td>183.846245</td>\n",
       "      <td>-6.268329</td>\n",
       "      <td>4720.00</td>\n",
       "      <td>0.71</td>\n",
       "      <td>1.313</td>\n",
       "      <td>NaN</td>\n",
       "      <td>97.1795</td>\n",
       "      <td>4.50</td>\n",
       "      <td>2.302368</td>\n",
       "      <td>NaN</td>\n",
       "    </tr>\n",
       "  </tbody>\n",
       "</table>\n",
       "</div>"
      ],
      "text/plain": [
       "  classification   longitude   latitude  stellar_temperature  stellar_radius  \\\n",
       "0      CONFIRMED   53.651123  20.599021              5766.00            1.08   \n",
       "1      CONFIRMED   53.651123  20.599021              5766.00            0.93   \n",
       "2      CONFIRMED   53.651123  20.599021              5703.00            0.96   \n",
       "3      CANDIDATE  183.846245  -6.268329              4616.52            0.76   \n",
       "4      CANDIDATE  183.846245  -6.268329              4720.00            0.71   \n",
       "\n",
       "   planet_radius  eq_temperature  distance  stellar_sur_gravity  \\\n",
       "0          2.578             NaN  179.4610                 4.50   \n",
       "1          2.230           546.0  179.4610                 4.50   \n",
       "2          2.355             NaN  179.4610                 4.38   \n",
       "3          1.120          1054.0   97.1795                 4.54   \n",
       "4          1.313             NaN   97.1795                 4.50   \n",
       "\n",
       "   orbital_period  insol_flux  \n",
       "0       41.685500         NaN  \n",
       "1       41.685500         NaN  \n",
       "2       41.688644         NaN  \n",
       "3        2.301830         NaN  \n",
       "4        2.302368         NaN  "
      ]
     },
     "execution_count": 2,
     "metadata": {},
     "output_type": "execute_result"
    }
   ],
   "source": [
    "k2 = pd.read_csv('./data/k2/k2.csv')\n",
    "\n",
    "k2_columns = [\n",
    "    'disposition',\n",
    "    'ra',\n",
    "    'dec',\n",
    "    'st_teff',\n",
    "    'st_rad',\n",
    "    'pl_rade',\n",
    "    'pl_eqt',\n",
    "    'sy_dist',\n",
    "    'st_logg',\n",
    "    'pl_orbper',\n",
    "    'pl_insol'\n",
    "]\n",
    "\n",
    "k2_data = k2[k2_columns].copy()\n",
    "\n",
    "k2_columns_name = {\n",
    "    'disposition': 'classification',\n",
    "    'ra' : 'longitude',\n",
    "    'dec' : 'latitude',\n",
    "    'st_teff' : 'stellar_temperature',\n",
    "    'st_rad' : 'stellar_radius',\n",
    "    'pl_rade' : 'planet_radius',\n",
    "    'pl_eqt' : 'eq_temperature',\n",
    "    'sy_dist' : 'distance',\n",
    "    'st_logg' : 'stellar_sur_gravity',\n",
    "    'pl_orbper' : 'orbital_period',\n",
    "    'pl_insol' : 'insol_flux'\n",
    "}\n",
    "\n",
    "k2_data.rename(columns=k2_columns_name, inplace=True)\n",
    "\n",
    "k2_data.head(5)"
   ]
  },
  {
   "cell_type": "code",
   "execution_count": 3,
   "metadata": {},
   "outputs": [],
   "source": [
    "k2_data['mission'] = 'k2'"
   ]
  },
  {
   "cell_type": "markdown",
   "metadata": {},
   "source": [
    "Calculo do campo depth"
   ]
  },
  {
   "cell_type": "code",
   "execution_count": 4,
   "metadata": {},
   "outputs": [],
   "source": [
    "k2_data['depth'] = transit_depth(k2_data['planet_radius'], k2_data['stellar_radius'])"
   ]
  },
  {
   "cell_type": "markdown",
   "metadata": {},
   "source": [
    "Visualizar"
   ]
  },
  {
   "cell_type": "code",
   "execution_count": 5,
   "metadata": {},
   "outputs": [
    {
     "name": "stdout",
     "output_type": "stream",
     "text": [
      "<class 'pandas.core.frame.DataFrame'>\n",
      "RangeIndex: 3773 entries, 0 to 3772\n",
      "Data columns (total 13 columns):\n",
      " #   Column               Non-Null Count  Dtype  \n",
      "---  ------               --------------  -----  \n",
      " 0   classification       3773 non-null   object \n",
      " 1   longitude            3773 non-null   float64\n",
      " 2   latitude             3773 non-null   float64\n",
      " 3   stellar_temperature  2669 non-null   float64\n",
      " 4   stellar_radius       3651 non-null   float64\n",
      " 5   planet_radius        3016 non-null   float64\n",
      " 6   eq_temperature       700 non-null    float64\n",
      " 7   distance             3650 non-null   float64\n",
      " 8   stellar_sur_gravity  2148 non-null   float64\n",
      " 9   orbital_period       3734 non-null   float64\n",
      " 10  insol_flux           513 non-null    float64\n",
      " 11  mission              3773 non-null   object \n",
      " 12  depth                2975 non-null   float64\n",
      "dtypes: float64(11), object(2)\n",
      "memory usage: 383.3+ KB\n"
     ]
    }
   ],
   "source": [
    "k2_data.info()"
   ]
  },
  {
   "cell_type": "markdown",
   "metadata": {},
   "source": [
    "Tratamento de INFINITOS em DISTANCE"
   ]
  },
  {
   "cell_type": "code",
   "execution_count": 6,
   "metadata": {},
   "outputs": [],
   "source": [
    "k2_data['distance'] = np.where(k2_data['distance']==np.inf,np.nan,k2_data['distance'])"
   ]
  },
  {
   "cell_type": "markdown",
   "metadata": {},
   "source": [
    "Tratamento de NULOS"
   ]
  },
  {
   "cell_type": "code",
   "execution_count": 7,
   "metadata": {},
   "outputs": [],
   "source": [
    "colunas_dados_faltantes = ['stellar_temperature','stellar_radius','planet_radius','eq_temperature','distance','stellar_sur_gravity','orbital_period','insol_flux','depth']"
   ]
  },
  {
   "cell_type": "markdown",
   "metadata": {},
   "source": [
    "Visualizar normalização dos dados"
   ]
  },
  {
   "cell_type": "code",
   "execution_count": 8,
   "metadata": {},
   "outputs": [
    {
     "data": {
      "image/png": "[encoded data removed]",
      "text/plain": [
       "<Figure size 700x700 with 9 Axes>"
      ]
     },
     "metadata": {},
     "output_type": "display_data"
    }
   ],
   "source": [
    "fig,ax = plt.subplots(3,3,figsize = (7,7),dpi = 100)\n",
    "\n",
    "ax[0,0].hist(k2_data.stellar_temperature,bins = 30,density = True)\n",
    "ax[0,0].set_title('stellar_temperature')\n",
    "\n",
    "ax[0,1].hist(k2_data.stellar_radius,bins = 30,density = True)\n",
    "ax[0,1].set_title('stellar_radius')\n",
    "\n",
    "ax[0,2].hist(k2_data.planet_radius,bins = 30,density = True)\n",
    "ax[0,2].set_title('planet_radius')\n",
    "\n",
    "ax[1,0].hist(k2_data.eq_temperature,bins = 30,density = True)\n",
    "ax[1,0].set_title('eq_temperature')\n",
    "\n",
    "ax[1,1].hist(k2_data[k2_data.distance!=np.inf].distance,bins = 30,density = True) ## adicionei um filtro nesse plot, pois há dados de distance iguais a infinito\n",
    "ax[1,1].set_title('distance')\n",
    "\n",
    "ax[1,2].hist(k2_data.stellar_sur_gravity,bins = 30,density = True)\n",
    "ax[1,2].set_title('stellar_sur_gravity')\n",
    "\n",
    "ax[2,0].hist(k2_data.orbital_period,bins = 30,density = True)\n",
    "ax[2,0].set_title('orbital_period')\n",
    "\n",
    "ax[2,1].hist(k2_data.insol_flux,bins = 30,density = True)\n",
    "ax[2,1].set_title('insol_flux')\n",
    "\n",
    "ax[2,2].hist(k2_data.depth,bins = 30,density = True)\n",
    "ax[2,2].set_title('depth')\n",
    "\n",
    "plt.tight_layout()"
   ]
  },
  {
   "cell_type": "code",
   "execution_count": 9,
   "metadata": {},
   "outputs": [],
   "source": [
    "dfx = k2_data.copy()\n",
    "for coluna in colunas_dados_faltantes:\n",
    "    dfx = imput_random(dfx,coluna)\n",
    "\n",
    "k2_data = dfx.copy()"
   ]
  },
  {
   "cell_type": "code",
   "execution_count": 10,
   "metadata": {},
   "outputs": [
    {
     "name": "stdout",
     "output_type": "stream",
     "text": [
      "<class 'pandas.core.frame.DataFrame'>\n",
      "RangeIndex: 3773 entries, 0 to 3772\n",
      "Data columns (total 13 columns):\n",
      " #   Column               Non-Null Count  Dtype  \n",
      "---  ------               --------------  -----  \n",
      " 0   classification       3773 non-null   object \n",
      " 1   longitude            3773 non-null   float64\n",
      " 2   latitude             3773 non-null   float64\n",
      " 3   stellar_temperature  3773 non-null   float64\n",
      " 4   stellar_radius       3773 non-null   float64\n",
      " 5   planet_radius        3773 non-null   float64\n",
      " 6   eq_temperature       3773 non-null   float64\n",
      " 7   distance             3773 non-null   float64\n",
      " 8   stellar_sur_gravity  3773 non-null   float64\n",
      " 9   orbital_period       3773 non-null   float64\n",
      " 10  insol_flux           3773 non-null   float64\n",
      " 11  mission              3773 non-null   object \n",
      " 12  depth                3773 non-null   float64\n",
      "dtypes: float64(11), object(2)\n",
      "memory usage: 383.3+ KB\n"
     ]
    }
   ],
   "source": [
    "k2_data.info()"
   ]
  },
  {
   "cell_type": "markdown",
   "metadata": {},
   "source": [
    "Comparação"
   ]
  },
  {
   "cell_type": "code",
   "execution_count": 11,
   "metadata": {},
   "outputs": [
    {
     "data": {
      "image/png": "[encoded data removed]",
      "text/plain": [
       "<Figure size 700x700 with 9 Axes>"
      ]
     },
     "metadata": {},
     "output_type": "display_data"
    }
   ],
   "source": [
    "fig,ax = plt.subplots(3,3,figsize = (7,7),dpi = 100)\n",
    "ax[0,0].hist(dfx.stellar_temperature,bins = 30,density = True)\n",
    "ax[0,0].set_title('stellar_temperature')\n",
    "\n",
    "ax[0,1].hist(dfx.stellar_radius,bins = 30,density = True)\n",
    "ax[0,1].set_title('stellar_radius')\n",
    "\n",
    "ax[0,2].hist(dfx.planet_radius,bins = 30,density = True)\n",
    "ax[0,2].set_title('planet_radius')\n",
    "\n",
    "ax[1,0].hist(dfx.eq_temperature,bins = 30,density = True)\n",
    "ax[1,0].set_title('eq_temperature')\n",
    "\n",
    "ax[1,1].hist(dfx[dfx.distance!=np.inf].distance,bins = 30,density = True) ## adicionei um filtro nesse plot, pois há dados de distance iguais a infinito\n",
    "ax[1,1].set_title('distance')\n",
    "\n",
    "ax[1,2].hist(dfx.stellar_sur_gravity,bins = 30,density = True)\n",
    "ax[1,2].set_title('stellar_sur_gravity')\n",
    "\n",
    "ax[2,0].hist(dfx.orbital_period,bins = 30,density = True)\n",
    "ax[2,0].set_title('orbital_period')\n",
    "\n",
    "ax[2,1].hist(dfx.insol_flux,bins = 30,density = True)\n",
    "ax[2,1].set_title('insol_flux')\n",
    "\n",
    "ax[2,2].hist(dfx.depth,bins = 30,density = True)\n",
    "ax[2,2].set_title('depth')\n",
    "\n",
    "plt.tight_layout()"
   ]
  },
  {
   "cell_type": "markdown",
   "metadata": {},
   "source": [
    "Tratamento das classificações dos planetas"
   ]
  },
  {
   "cell_type": "code",
   "execution_count": 12,
   "metadata": {},
   "outputs": [
    {
     "name": "stdout",
     "output_type": "stream",
     "text": [
      "classification\n",
      "planet        2092\n",
      "candidate     1370\n",
      "not planet     311\n",
      "Name: count, dtype: int64\n"
     ]
    }
   ],
   "source": [
    "k2_data['classification'].value_counts()\n",
    "\n",
    "mapeamento = {'CONFIRMED': 'planet', 'FALSE POSITIVE': 'not planet', 'CANDIDATE': 'candidate'}\n",
    "\n",
    "k2_data['classification'] = k2_data['classification'].replace(mapeamento)\n",
    "\n",
    "# Verifique se a substituição foi feita corretamente\n",
    "print(k2_data['classification'].value_counts())"
   ]
  },
  {
   "cell_type": "markdown",
   "metadata": {},
   "source": [
    "Corrigir ordem das colunas"
   ]
  },
  {
   "cell_type": "code",
   "execution_count": 13,
   "metadata": {},
   "outputs": [
    {
     "data": {
      "text/plain": [
       "13"
      ]
     },
     "execution_count": 13,
     "metadata": {},
     "output_type": "execute_result"
    }
   ],
   "source": [
    "len(k2_data.columns)"
   ]
  },
  {
   "cell_type": "code",
   "execution_count": 14,
   "metadata": {},
   "outputs": [
    {
     "data": {
      "text/plain": [
       "Index(['classification', 'longitude', 'latitude', 'stellar_temperature',\n",
       "       'stellar_radius', 'planet_radius', 'eq_temperature', 'distance',\n",
       "       'stellar_sur_gravity', 'orbital_period', 'insol_flux', 'mission',\n",
       "       'depth'],\n",
       "      dtype='object')"
      ]
     },
     "execution_count": 14,
     "metadata": {},
     "output_type": "execute_result"
    }
   ],
   "source": [
    "k2_data.columns"
   ]
  },
  {
   "cell_type": "code",
   "execution_count": 15,
   "metadata": {},
   "outputs": [],
   "source": [
    "colunas = ['classification', 'mission', 'longitude', 'latitude', 'stellar_temperature',\n",
    "       'stellar_radius', 'planet_radius', 'eq_temperature', 'distance',\n",
    "       'stellar_sur_gravity', 'orbital_period', 'insol_flux',\n",
    "       'depth']\n",
    "\n",
    "k2_data = k2_data.reindex(columns=colunas)"
   ]
  },
  {
   "cell_type": "markdown",
   "metadata": {},
   "source": [
    "Escalonamento com MinMaxScaler() onde a 1a coluna mantida no lugar e as demais escalonadas dentro dos seus próprios limites cada"
   ]
  },
  {
   "cell_type": "code",
   "execution_count": 16,
   "metadata": {},
   "outputs": [
    {
     "data": {
      "text/html": [
       "<div>\n",
       "<style scoped>\n",
       "    .dataframe tbody tr th:only-of-type {\n",
       "        vertical-align: middle;\n",
       "    }\n",
       "\n",
       "    .dataframe tbody tr th {\n",
       "        vertical-align: top;\n",
       "    }\n",
       "\n",
       "    .dataframe thead th {\n",
       "        text-align: right;\n",
       "    }\n",
       "</style>\n",
       "<table border=\"1\" class=\"dataframe\">\n",
       "  <thead>\n",
       "    <tr style=\"text-align: right;\">\n",
       "      <th></th>\n",
       "      <th>classification</th>\n",
       "      <th>mission</th>\n",
       "      <th>longitude</th>\n",
       "      <th>latitude</th>\n",
       "      <th>stellar_temperature</th>\n",
       "      <th>stellar_radius</th>\n",
       "      <th>planet_radius</th>\n",
       "      <th>eq_temperature</th>\n",
       "      <th>distance</th>\n",
       "      <th>stellar_sur_gravity</th>\n",
       "      <th>orbital_period</th>\n",
       "      <th>insol_flux</th>\n",
       "      <th>depth</th>\n",
       "    </tr>\n",
       "  </thead>\n",
       "  <tbody>\n",
       "    <tr>\n",
       "      <th>0</th>\n",
       "      <td>planet</td>\n",
       "      <td>k2</td>\n",
       "      <td>53.651123</td>\n",
       "      <td>20.599021</td>\n",
       "      <td>5766.00</td>\n",
       "      <td>1.08</td>\n",
       "      <td>2.578</td>\n",
       "      <td>1080.903634</td>\n",
       "      <td>179.4610</td>\n",
       "      <td>4.50</td>\n",
       "      <td>41.685500</td>\n",
       "      <td>192.331376</td>\n",
       "      <td>5.697946e+06</td>\n",
       "    </tr>\n",
       "    <tr>\n",
       "      <th>1</th>\n",
       "      <td>planet</td>\n",
       "      <td>k2</td>\n",
       "      <td>53.651123</td>\n",
       "      <td>20.599021</td>\n",
       "      <td>5766.00</td>\n",
       "      <td>0.93</td>\n",
       "      <td>2.230</td>\n",
       "      <td>546.000000</td>\n",
       "      <td>179.4610</td>\n",
       "      <td>4.50</td>\n",
       "      <td>41.685500</td>\n",
       "      <td>165.873599</td>\n",
       "      <td>5.749682e+06</td>\n",
       "    </tr>\n",
       "    <tr>\n",
       "      <th>2</th>\n",
       "      <td>planet</td>\n",
       "      <td>k2</td>\n",
       "      <td>53.651123</td>\n",
       "      <td>20.599021</td>\n",
       "      <td>5703.00</td>\n",
       "      <td>0.96</td>\n",
       "      <td>2.355</td>\n",
       "      <td>934.294625</td>\n",
       "      <td>179.4610</td>\n",
       "      <td>4.38</td>\n",
       "      <td>41.688644</td>\n",
       "      <td>106.236395</td>\n",
       "      <td>6.017822e+06</td>\n",
       "    </tr>\n",
       "    <tr>\n",
       "      <th>3</th>\n",
       "      <td>candidate</td>\n",
       "      <td>k2</td>\n",
       "      <td>183.846245</td>\n",
       "      <td>-6.268329</td>\n",
       "      <td>4616.52</td>\n",
       "      <td>0.76</td>\n",
       "      <td>1.120</td>\n",
       "      <td>1054.000000</td>\n",
       "      <td>97.1795</td>\n",
       "      <td>4.54</td>\n",
       "      <td>2.301830</td>\n",
       "      <td>182.931170</td>\n",
       "      <td>2.171745e+06</td>\n",
       "    </tr>\n",
       "    <tr>\n",
       "      <th>4</th>\n",
       "      <td>candidate</td>\n",
       "      <td>k2</td>\n",
       "      <td>183.846245</td>\n",
       "      <td>-6.268329</td>\n",
       "      <td>4720.00</td>\n",
       "      <td>0.71</td>\n",
       "      <td>1.313</td>\n",
       "      <td>1020.021549</td>\n",
       "      <td>97.1795</td>\n",
       "      <td>4.50</td>\n",
       "      <td>2.302368</td>\n",
       "      <td>226.487685</td>\n",
       "      <td>3.419895e+06</td>\n",
       "    </tr>\n",
       "  </tbody>\n",
       "</table>\n",
       "</div>"
      ],
      "text/plain": [
       "  classification mission   longitude   latitude  stellar_temperature  \\\n",
       "0         planet      k2   53.651123  20.599021              5766.00   \n",
       "1         planet      k2   53.651123  20.599021              5766.00   \n",
       "2         planet      k2   53.651123  20.599021              5703.00   \n",
       "3      candidate      k2  183.846245  -6.268329              4616.52   \n",
       "4      candidate      k2  183.846245  -6.268329              4720.00   \n",
       "\n",
       "   stellar_radius  planet_radius  eq_temperature  distance  \\\n",
       "0            1.08          2.578     1080.903634  179.4610   \n",
       "1            0.93          2.230      546.000000  179.4610   \n",
       "2            0.96          2.355      934.294625  179.4610   \n",
       "3            0.76          1.120     1054.000000   97.1795   \n",
       "4            0.71          1.313     1020.021549   97.1795   \n",
       "\n",
       "   stellar_sur_gravity  orbital_period  insol_flux         depth  \n",
       "0                 4.50       41.685500  192.331376  5.697946e+06  \n",
       "1                 4.50       41.685500  165.873599  5.749682e+06  \n",
       "2                 4.38       41.688644  106.236395  6.017822e+06  \n",
       "3                 4.54        2.301830  182.931170  2.171745e+06  \n",
       "4                 4.50        2.302368  226.487685  3.419895e+06  "
      ]
     },
     "execution_count": 16,
     "metadata": {},
     "output_type": "execute_result"
    }
   ],
   "source": [
    "k2_data.head(5)"
   ]
  },
  {
   "cell_type": "code",
   "execution_count": 17,
   "metadata": {},
   "outputs": [
    {
     "data": {
      "text/html": [
       "<div>\n",
       "<style scoped>\n",
       "    .dataframe tbody tr th:only-of-type {\n",
       "        vertical-align: middle;\n",
       "    }\n",
       "\n",
       "    .dataframe tbody tr th {\n",
       "        vertical-align: top;\n",
       "    }\n",
       "\n",
       "    .dataframe thead th {\n",
       "        text-align: right;\n",
       "    }\n",
       "</style>\n",
       "<table border=\"1\" class=\"dataframe\">\n",
       "  <thead>\n",
       "    <tr style=\"text-align: right;\">\n",
       "      <th></th>\n",
       "      <th>classification</th>\n",
       "      <th>mission</th>\n",
       "      <th>longitude</th>\n",
       "      <th>latitude</th>\n",
       "      <th>stellar_temperature</th>\n",
       "      <th>stellar_radius</th>\n",
       "      <th>planet_radius</th>\n",
       "      <th>eq_temperature</th>\n",
       "      <th>distance</th>\n",
       "      <th>stellar_sur_gravity</th>\n",
       "      <th>orbital_period</th>\n",
       "      <th>insol_flux</th>\n",
       "      <th>depth</th>\n",
       "    </tr>\n",
       "  </thead>\n",
       "  <tbody>\n",
       "    <tr>\n",
       "      <th>0</th>\n",
       "      <td>planet</td>\n",
       "      <td>k2</td>\n",
       "      <td>0.129039</td>\n",
       "      <td>0.872136</td>\n",
       "      <td>0.073479</td>\n",
       "      <td>0.011427</td>\n",
       "      <td>0.002012</td>\n",
       "      <td>0.408216</td>\n",
       "      <td>0.018901</td>\n",
       "      <td>0.777778</td>\n",
       "      <td>0.000495</td>\n",
       "      <td>0.019879</td>\n",
       "      <td>0.000822</td>\n",
       "    </tr>\n",
       "    <tr>\n",
       "      <th>1</th>\n",
       "      <td>planet</td>\n",
       "      <td>k2</td>\n",
       "      <td>0.129039</td>\n",
       "      <td>0.872136</td>\n",
       "      <td>0.073479</td>\n",
       "      <td>0.009660</td>\n",
       "      <td>0.001690</td>\n",
       "      <td>0.189620</td>\n",
       "      <td>0.018901</td>\n",
       "      <td>0.777778</td>\n",
       "      <td>0.000495</td>\n",
       "      <td>0.017143</td>\n",
       "      <td>0.000830</td>\n",
       "    </tr>\n",
       "    <tr>\n",
       "      <th>2</th>\n",
       "      <td>planet</td>\n",
       "      <td>k2</td>\n",
       "      <td>0.129039</td>\n",
       "      <td>0.872136</td>\n",
       "      <td>0.072053</td>\n",
       "      <td>0.010013</td>\n",
       "      <td>0.001805</td>\n",
       "      <td>0.348302</td>\n",
       "      <td>0.018901</td>\n",
       "      <td>0.743590</td>\n",
       "      <td>0.000495</td>\n",
       "      <td>0.010974</td>\n",
       "      <td>0.000872</td>\n",
       "    </tr>\n",
       "    <tr>\n",
       "      <th>3</th>\n",
       "      <td>candidate</td>\n",
       "      <td>k2</td>\n",
       "      <td>0.502759</td>\n",
       "      <td>0.414973</td>\n",
       "      <td>0.047458</td>\n",
       "      <td>0.007657</td>\n",
       "      <td>0.000661</td>\n",
       "      <td>0.397221</td>\n",
       "      <td>0.010069</td>\n",
       "      <td>0.789174</td>\n",
       "      <td>0.000025</td>\n",
       "      <td>0.018907</td>\n",
       "      <td>0.000276</td>\n",
       "    </tr>\n",
       "    <tr>\n",
       "      <th>4</th>\n",
       "      <td>candidate</td>\n",
       "      <td>k2</td>\n",
       "      <td>0.502759</td>\n",
       "      <td>0.414973</td>\n",
       "      <td>0.049801</td>\n",
       "      <td>0.007068</td>\n",
       "      <td>0.000840</td>\n",
       "      <td>0.383335</td>\n",
       "      <td>0.010069</td>\n",
       "      <td>0.777778</td>\n",
       "      <td>0.000025</td>\n",
       "      <td>0.023412</td>\n",
       "      <td>0.000469</td>\n",
       "    </tr>\n",
       "  </tbody>\n",
       "</table>\n",
       "</div>"
      ],
      "text/plain": [
       "  classification mission  longitude  latitude  stellar_temperature  \\\n",
       "0         planet      k2   0.129039  0.872136             0.073479   \n",
       "1         planet      k2   0.129039  0.872136             0.073479   \n",
       "2         planet      k2   0.129039  0.872136             0.072053   \n",
       "3      candidate      k2   0.502759  0.414973             0.047458   \n",
       "4      candidate      k2   0.502759  0.414973             0.049801   \n",
       "\n",
       "   stellar_radius  planet_radius  eq_temperature  distance  \\\n",
       "0        0.011427       0.002012        0.408216  0.018901   \n",
       "1        0.009660       0.001690        0.189620  0.018901   \n",
       "2        0.010013       0.001805        0.348302  0.018901   \n",
       "3        0.007657       0.000661        0.397221  0.010069   \n",
       "4        0.007068       0.000840        0.383335  0.010069   \n",
       "\n",
       "   stellar_sur_gravity  orbital_period  insol_flux     depth  \n",
       "0             0.777778        0.000495    0.019879  0.000822  \n",
       "1             0.777778        0.000495    0.017143  0.000830  \n",
       "2             0.743590        0.000495    0.010974  0.000872  \n",
       "3             0.789174        0.000025    0.018907  0.000276  \n",
       "4             0.777778        0.000025    0.023412  0.000469  "
      ]
     },
     "execution_count": 17,
     "metadata": {},
     "output_type": "execute_result"
    }
   ],
   "source": [
    "scaler = MinMaxScaler()\n",
    "\n",
    "k2_scaled = k2_data.copy()\n",
    "\n",
    "cols_to_scale = k2_scaled.columns[1:] ## isso define as colunas a escalonar, mas nao tira a coluna categorica mission\n",
    "col_to_skip = 'mission'\n",
    "cols_to_scale = cols_to_scale.drop(col_to_skip) ## isso retira a coluna mission da lista de colunas a serem escalonadas\n",
    "\n",
    "k2_scaled[cols_to_scale] = scaler.fit_transform(k2_scaled[cols_to_scale].values) ## isso escalona as colunas a serem escalonadas\n",
    "\n",
    "k2_scaled_data = pd.DataFrame(k2_scaled, columns=k2_scaled.columns)\n",
    "k2_scaled_data.head(5)"
   ]
  },
  {
   "cell_type": "code",
   "execution_count": 18,
   "metadata": {},
   "outputs": [],
   "source": [
    "k2_scaled_data.to_pickle('data\\\\k2\\\\k2_data_treated.pkl')"
   ]
  }
 ],
 "metadata": {
  "kernelspec": {
   "display_name": "Python 3",
   "language": "python",
   "name": "python3"
  },
  "language_info": {
   "codemirror_mode": {
    "name": "ipython",
    "version": 3
   },
   "file_extension": ".py",
   "mimetype": "text/x-python",
   "name": "python",
   "nbconvert_exporter": "python",
   "pygments_lexer": "ipython3",
   "version": "3.11.9"
  }
 },
 "nbformat": 4,
 "nbformat_minor": 2
}

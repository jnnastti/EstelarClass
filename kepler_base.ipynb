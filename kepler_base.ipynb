{
 "cells": [
  {
   "cell_type": "markdown",
   "metadata": {},
   "source": [
    "Carregar dados"
   ]
  },
  {
   "cell_type": "code",
   "execution_count": 10,
   "metadata": {},
   "outputs": [],
   "source": [
    "import pandas as pd\n",
    "\n",
    "kepler = pd.read_pickle('data\\\\kepler\\\\kepler_data_treated.pkl')"
   ]
  },
  {
   "cell_type": "markdown",
   "metadata": {},
   "source": [
    "Separar dados em treinamento e teste"
   ]
  },
  {
   "cell_type": "code",
   "execution_count": 11,
   "metadata": {},
   "outputs": [],
   "source": [
    "# dados de treinamento (classificados como PLANETAS e NÃO PLANETAS)\n",
    "\n",
    "kepler_classification = kepler[kepler['classification'].isin(['planet', 'not planet'])]"
   ]
  },
  {
   "cell_type": "markdown",
   "metadata": {},
   "source": [
    "Separar os dados em features e rótulos"
   ]
  },
  {
   "cell_type": "code",
   "execution_count": 12,
   "metadata": {},
   "outputs": [],
   "source": [
    "x_kepler = kepler_classification.drop(['classification', 'mission'], axis=1)  # Features\n",
    "y_kepler = kepler_classification['classification']  # Rótulos"
   ]
  },
  {
   "cell_type": "code",
   "execution_count": 13,
   "metadata": {},
   "outputs": [],
   "source": [
    "from sklearn.model_selection import train_test_split\n",
    "\n",
    "x_kepler_treino, x_kepler_teste, y_kepler_treino, y_kepler_teste = train_test_split(x_kepler, y_kepler, test_size=0.2, random_state=42)"
   ]
  },
  {
   "cell_type": "markdown",
   "metadata": {},
   "source": [
    "Averiguando a distribuição de classes antes e depois da separação"
   ]
  },
  {
   "cell_type": "code",
   "execution_count": 14,
   "metadata": {},
   "outputs": [
    {
     "name": "stdout",
     "output_type": "stream",
     "text": [
      "['not planet' 'planet'] [4839 2741] [0.6383905 0.3616095]\n"
     ]
    }
   ],
   "source": [
    "import numpy as np\n",
    "\n",
    "# Base original KEPLER\n",
    "unique_values, counts = np.unique(y_kepler, return_counts=True)\n",
    "prop = counts/y_kepler.size\n",
    "print(unique_values,counts,prop)"
   ]
  },
  {
   "cell_type": "code",
   "execution_count": 15,
   "metadata": {},
   "outputs": [
    {
     "name": "stdout",
     "output_type": "stream",
     "text": [
      "['not planet' 'planet'] [3890 2174] [0.64149077 0.35850923]\n"
     ]
    }
   ],
   "source": [
    "# Base de treino KEPLER\n",
    "unique_values, counts = np.unique(y_kepler_treino, return_counts=True)\n",
    "prop = counts/y_kepler_treino.size\n",
    "print(unique_values,counts,prop)"
   ]
  },
  {
   "cell_type": "code",
   "execution_count": 16,
   "metadata": {},
   "outputs": [],
   "source": [
    "### Base de treino balanceada KEPLER\n",
    "from imblearn.combine import SMOTETomek\n",
    "smt = SMOTETomek(random_state=42)\n",
    "x_kepler_treino_bal, y_kepler_treino_bal = smt.fit_resample(x_kepler_treino, y_kepler_treino)"
   ]
  },
  {
   "cell_type": "code",
   "execution_count": 17,
   "metadata": {},
   "outputs": [
    {
     "name": "stdout",
     "output_type": "stream",
     "text": [
      "['not planet' 'planet'] [949 567] [0.62598945 0.37401055]\n"
     ]
    }
   ],
   "source": [
    "# Base de teste KEPLER\n",
    "unique_values, counts = np.unique(y_kepler_teste, return_counts=True)\n",
    "prop = counts/y_kepler_teste.size\n",
    "print(unique_values,counts,prop)"
   ]
  },
  {
   "cell_type": "code",
   "execution_count": 18,
   "metadata": {},
   "outputs": [],
   "source": [
    "# dados final (candidatos)\n",
    "\n",
    "kepler_candidate = kepler[kepler['classification'].isin(['candidate'])]\n",
    "\n",
    "kepler_candidate = kepler_candidate.drop(['classification', 'mission'], axis=1)"
   ]
  }
 ],
 "metadata": {
  "kernelspec": {
   "display_name": "venv",
   "language": "python",
   "name": "python3"
  },
  "language_info": {
   "codemirror_mode": {
    "name": "ipython",
    "version": 3
   },
   "file_extension": ".py",
   "mimetype": "text/x-python",
   "name": "python",
   "nbconvert_exporter": "python",
   "pygments_lexer": "ipython3",
   "version": "3.11.9"
  }
 },
 "nbformat": 4,
 "nbformat_minor": 2
}

{
 "cells": [
  {
   "cell_type": "markdown",
   "metadata": {},
   "source": [
    "02 - Tratamento dos dados da base KEPLER."
   ]
  },
  {
   "cell_type": "code",
   "execution_count": 1,
   "metadata": {},
   "outputs": [],
   "source": [
    "import pandas as pd\n",
    "import numpy as np\n",
    "import matplotlib.pyplot as plt\n",
    "\n",
    "from sklearn.preprocessing import MinMaxScaler\n",
    "from functions import *"
   ]
  },
  {
   "cell_type": "markdown",
   "metadata": {},
   "source": [
    "Tratamento das colunas"
   ]
  },
  {
   "cell_type": "code",
   "execution_count": 2,
   "metadata": {},
   "outputs": [
    {
     "data": {
      "text/html": [
       "<div>\n",
       "<style scoped>\n",
       "    .dataframe tbody tr th:only-of-type {\n",
       "        vertical-align: middle;\n",
       "    }\n",
       "\n",
       "    .dataframe tbody tr th {\n",
       "        vertical-align: top;\n",
       "    }\n",
       "\n",
       "    .dataframe thead th {\n",
       "        text-align: right;\n",
       "    }\n",
       "</style>\n",
       "<table border=\"1\" class=\"dataframe\">\n",
       "  <thead>\n",
       "    <tr style=\"text-align: right;\">\n",
       "      <th></th>\n",
       "      <th>classification</th>\n",
       "      <th>longitude</th>\n",
       "      <th>latitude</th>\n",
       "      <th>stellar_temperature</th>\n",
       "      <th>stellar_radius</th>\n",
       "      <th>planet_radius</th>\n",
       "      <th>eq_temperature</th>\n",
       "      <th>stellar_sur_gravity</th>\n",
       "      <th>orbital_period</th>\n",
       "      <th>depth</th>\n",
       "      <th>insol_flux</th>\n",
       "    </tr>\n",
       "  </thead>\n",
       "  <tbody>\n",
       "    <tr>\n",
       "      <th>0</th>\n",
       "      <td>CONFIRMED</td>\n",
       "      <td>291.93423</td>\n",
       "      <td>48.141651</td>\n",
       "      <td>5455.0</td>\n",
       "      <td>0.927</td>\n",
       "      <td>2.26</td>\n",
       "      <td>793.0</td>\n",
       "      <td>4.467</td>\n",
       "      <td>9.488036</td>\n",
       "      <td>615.8</td>\n",
       "      <td>93.59</td>\n",
       "    </tr>\n",
       "    <tr>\n",
       "      <th>1</th>\n",
       "      <td>CONFIRMED</td>\n",
       "      <td>291.93423</td>\n",
       "      <td>48.141651</td>\n",
       "      <td>5455.0</td>\n",
       "      <td>0.927</td>\n",
       "      <td>2.83</td>\n",
       "      <td>443.0</td>\n",
       "      <td>4.467</td>\n",
       "      <td>54.418383</td>\n",
       "      <td>874.8</td>\n",
       "      <td>9.11</td>\n",
       "    </tr>\n",
       "    <tr>\n",
       "      <th>2</th>\n",
       "      <td>CANDIDATE</td>\n",
       "      <td>297.00482</td>\n",
       "      <td>48.134129</td>\n",
       "      <td>5853.0</td>\n",
       "      <td>0.868</td>\n",
       "      <td>14.60</td>\n",
       "      <td>638.0</td>\n",
       "      <td>4.544</td>\n",
       "      <td>19.899140</td>\n",
       "      <td>10829.0</td>\n",
       "      <td>39.30</td>\n",
       "    </tr>\n",
       "    <tr>\n",
       "      <th>3</th>\n",
       "      <td>FALSE POSITIVE</td>\n",
       "      <td>285.53461</td>\n",
       "      <td>48.285210</td>\n",
       "      <td>5805.0</td>\n",
       "      <td>0.791</td>\n",
       "      <td>33.46</td>\n",
       "      <td>1395.0</td>\n",
       "      <td>4.564</td>\n",
       "      <td>1.736952</td>\n",
       "      <td>8079.2</td>\n",
       "      <td>891.96</td>\n",
       "    </tr>\n",
       "    <tr>\n",
       "      <th>4</th>\n",
       "      <td>CONFIRMED</td>\n",
       "      <td>288.75488</td>\n",
       "      <td>48.226200</td>\n",
       "      <td>6031.0</td>\n",
       "      <td>1.046</td>\n",
       "      <td>2.75</td>\n",
       "      <td>1406.0</td>\n",
       "      <td>4.438</td>\n",
       "      <td>2.525592</td>\n",
       "      <td>603.3</td>\n",
       "      <td>926.16</td>\n",
       "    </tr>\n",
       "  </tbody>\n",
       "</table>\n",
       "</div>"
      ],
      "text/plain": [
       "   classification  longitude   latitude  stellar_temperature  stellar_radius  \\\n",
       "0       CONFIRMED  291.93423  48.141651               5455.0           0.927   \n",
       "1       CONFIRMED  291.93423  48.141651               5455.0           0.927   \n",
       "2       CANDIDATE  297.00482  48.134129               5853.0           0.868   \n",
       "3  FALSE POSITIVE  285.53461  48.285210               5805.0           0.791   \n",
       "4       CONFIRMED  288.75488  48.226200               6031.0           1.046   \n",
       "\n",
       "   planet_radius  eq_temperature  stellar_sur_gravity  orbital_period  \\\n",
       "0           2.26           793.0                4.467        9.488036   \n",
       "1           2.83           443.0                4.467       54.418383   \n",
       "2          14.60           638.0                4.544       19.899140   \n",
       "3          33.46          1395.0                4.564        1.736952   \n",
       "4           2.75          1406.0                4.438        2.525592   \n",
       "\n",
       "     depth  insol_flux  \n",
       "0    615.8       93.59  \n",
       "1    874.8        9.11  \n",
       "2  10829.0       39.30  \n",
       "3   8079.2      891.96  \n",
       "4    603.3      926.16  "
      ]
     },
     "execution_count": 2,
     "metadata": {},
     "output_type": "execute_result"
    }
   ],
   "source": [
    "kepler = pd.read_csv('./data/kepler/kepler.csv')\n",
    "\n",
    "kepler_columns = [\n",
    "    'koi_disposition',\n",
    "    'ra',\n",
    "    'dec',\n",
    "    'koi_steff',\n",
    "    'koi_srad',\n",
    "    'koi_prad',\n",
    "    'koi_teq',\n",
    "    'koi_slogg',\n",
    "    'koi_period',\n",
    "    'koi_depth',\n",
    "    'koi_insol'\n",
    "]\n",
    "\n",
    "kepler_data = kepler[kepler_columns].copy()\n",
    "\n",
    "kepler_columns_name = {\n",
    "    'koi_disposition': 'classification',\n",
    "    'ra' : 'longitude',\n",
    "    'dec' : 'latitude',\n",
    "    'koi_steff' : 'stellar_temperature',\n",
    "    'koi_srad' : 'stellar_radius',\n",
    "    'koi_prad' : 'planet_radius',\n",
    "    'koi_teq' : 'eq_temperature',\n",
    "    'koi_slogg' : 'stellar_sur_gravity',\n",
    "    'koi_period' : 'orbital_period',\n",
    "    'koi_depth' : 'depth',\n",
    "    'koi_insol' : 'insol_flux'\n",
    "}\n",
    "\n",
    "kepler_data.rename(columns=kepler_columns_name, inplace=True)\n",
    "\n",
    "kepler_data.head(5)"
   ]
  },
  {
   "cell_type": "code",
   "execution_count": 3,
   "metadata": {},
   "outputs": [],
   "source": [
    "kepler_data['mission'] = 'kepler'"
   ]
  },
  {
   "cell_type": "markdown",
   "metadata": {},
   "source": [
    "Definindo a distance da missão Kepler em pc"
   ]
  },
  {
   "cell_type": "code",
   "execution_count": 4,
   "metadata": {},
   "outputs": [],
   "source": [
    "# Calcular a luminosidade da estrela\n",
    "luminosidade = calculate_luminosity(kepler_data['stellar_radius'], kepler_data['stellar_temperature'])\n",
    "\n",
    "# Calcular a distância estelar em parsecs\n",
    "kepler_data['distance'] = calculate_stellar_distance(luminosidade, kepler_data['insol_flux'])"
   ]
  },
  {
   "cell_type": "markdown",
   "metadata": {},
   "source": [
    "Visualizar"
   ]
  },
  {
   "cell_type": "code",
   "execution_count": 5,
   "metadata": {},
   "outputs": [
    {
     "name": "stdout",
     "output_type": "stream",
     "text": [
      "<class 'pandas.core.frame.DataFrame'>\n",
      "RangeIndex: 9564 entries, 0 to 9563\n",
      "Data columns (total 13 columns):\n",
      " #   Column               Non-Null Count  Dtype  \n",
      "---  ------               --------------  -----  \n",
      " 0   classification       9564 non-null   object \n",
      " 1   longitude            9564 non-null   float64\n",
      " 2   latitude             9564 non-null   float64\n",
      " 3   stellar_temperature  9201 non-null   float64\n",
      " 4   stellar_radius       9201 non-null   float64\n",
      " 5   planet_radius        9201 non-null   float64\n",
      " 6   eq_temperature       9201 non-null   float64\n",
      " 7   stellar_sur_gravity  9201 non-null   float64\n",
      " 8   orbital_period       9564 non-null   float64\n",
      " 9   depth                9201 non-null   float64\n",
      " 10  insol_flux           9243 non-null   float64\n",
      " 11  mission              9564 non-null   object \n",
      " 12  distance             9201 non-null   float64\n",
      "dtypes: float64(11), object(2)\n",
      "memory usage: 971.5+ KB\n"
     ]
    }
   ],
   "source": [
    "\n",
    "kepler_data.info()"
   ]
  },
  {
   "cell_type": "markdown",
   "metadata": {},
   "source": [
    "Tratamento de INFINITOS no DISTANCE"
   ]
  },
  {
   "cell_type": "code",
   "execution_count": 6,
   "metadata": {},
   "outputs": [],
   "source": [
    "kepler_data['distance'] = np.where(kepler_data['distance']==np.inf,np.nan,kepler_data['distance'])"
   ]
  },
  {
   "cell_type": "markdown",
   "metadata": {},
   "source": [
    "Tratamento de NULOS"
   ]
  },
  {
   "cell_type": "code",
   "execution_count": 7,
   "metadata": {},
   "outputs": [],
   "source": [
    "colunas_dados_faltantes = ['stellar_temperature','stellar_radius','planet_radius','eq_temperature','distance','stellar_sur_gravity','orbital_period','insol_flux','depth']"
   ]
  },
  {
   "cell_type": "markdown",
   "metadata": {},
   "source": [
    "Visualizar normalização dos dados"
   ]
  },
  {
   "cell_type": "code",
   "execution_count": 8,
   "metadata": {},
   "outputs": [
    {
     "data": {
      "image/png": "[encoded data removed]",
      "text/plain": [
       "<Figure size 700x700 with 9 Axes>"
      ]
     },
     "metadata": {},
     "output_type": "display_data"
    }
   ],
   "source": [
    "fig,ax = plt.subplots(3,3,figsize = (7,7),dpi = 100)\n",
    "\n",
    "ax[0,0].hist(kepler_data.stellar_temperature,bins = 30,density = True)\n",
    "ax[0,0].set_title('stellar_temperature')\n",
    "\n",
    "ax[0,1].hist(kepler_data.stellar_radius,bins = 30,density = True)\n",
    "ax[0,1].set_title('stellar_radius')\n",
    "\n",
    "ax[0,2].hist(kepler_data.planet_radius,bins = 30,density = True)\n",
    "ax[0,2].set_title('planet_radius')\n",
    "\n",
    "ax[1,0].hist(kepler_data.eq_temperature,bins = 30,density = True)\n",
    "ax[1,0].set_title('eq_temperature')\n",
    "\n",
    "ax[1,1].hist(kepler_data[kepler_data.distance!=np.inf].distance,bins = 30,density = True) ## adicionei um filtro nesse plot, pois há dados de distance iguais a infinito\n",
    "ax[1,1].set_title('distance')\n",
    "\n",
    "ax[1,2].hist(kepler_data.stellar_sur_gravity,bins = 30,density = True)\n",
    "ax[1,2].set_title('stellar_sur_gravity')\n",
    "\n",
    "ax[2,0].hist(kepler_data.orbital_period,bins = 30,density = True)\n",
    "ax[2,0].set_title('orbital_period')\n",
    "\n",
    "ax[2,1].hist(kepler_data.insol_flux,bins = 30,density = True)\n",
    "ax[2,1].set_title('insol_flux')\n",
    "\n",
    "ax[2,2].hist(kepler_data.depth,bins = 30,density = True)\n",
    "ax[2,2].set_title('depth')\n",
    "\n",
    "plt.tight_layout()"
   ]
  },
  {
   "cell_type": "code",
   "execution_count": 9,
   "metadata": {},
   "outputs": [],
   "source": [
    "dfx = kepler_data.copy()\n",
    "for coluna in colunas_dados_faltantes:\n",
    "    dfx = imput_random(dfx,coluna)"
   ]
  },
  {
   "cell_type": "code",
   "execution_count": 10,
   "metadata": {},
   "outputs": [
    {
     "name": "stdout",
     "output_type": "stream",
     "text": [
      "<class 'pandas.core.frame.DataFrame'>\n",
      "RangeIndex: 9564 entries, 0 to 9563\n",
      "Data columns (total 13 columns):\n",
      " #   Column               Non-Null Count  Dtype  \n",
      "---  ------               --------------  -----  \n",
      " 0   classification       9564 non-null   object \n",
      " 1   longitude            9564 non-null   float64\n",
      " 2   latitude             9564 non-null   float64\n",
      " 3   stellar_temperature  9564 non-null   float64\n",
      " 4   stellar_radius       9564 non-null   float64\n",
      " 5   planet_radius        9564 non-null   float64\n",
      " 6   eq_temperature       9564 non-null   float64\n",
      " 7   stellar_sur_gravity  9564 non-null   float64\n",
      " 8   orbital_period       9564 non-null   float64\n",
      " 9   depth                9564 non-null   float64\n",
      " 10  insol_flux           9564 non-null   float64\n",
      " 11  mission              9564 non-null   object \n",
      " 12  distance             9564 non-null   float64\n",
      "dtypes: float64(11), object(2)\n",
      "memory usage: 971.5+ KB\n"
     ]
    }
   ],
   "source": [
    "dfx.info()"
   ]
  },
  {
   "cell_type": "markdown",
   "metadata": {},
   "source": [
    "Tratamento das classificações dos planetas"
   ]
  },
  {
   "cell_type": "code",
   "execution_count": 11,
   "metadata": {},
   "outputs": [
    {
     "name": "stdout",
     "output_type": "stream",
     "text": [
      "classification\n",
      "not planet    4839\n",
      "planet        2741\n",
      "candidate     1984\n",
      "Name: count, dtype: int64\n"
     ]
    }
   ],
   "source": [
    "kepler_data['classification'].value_counts()\n",
    "\n",
    "mapeamento = {'CONFIRMED': 'planet', 'FALSE POSITIVE': 'not planet', 'CANDIDATE': 'candidate'}\n",
    "\n",
    "\n",
    "kepler_data['classification'] = kepler_data['classification'].replace(mapeamento)\n",
    "\n",
    "# Verifique se a substituição foi feita corretamente\n",
    "print(kepler_data['classification'].value_counts())"
   ]
  },
  {
   "cell_type": "markdown",
   "metadata": {},
   "source": [
    "Corrigir ordem das colunas"
   ]
  },
  {
   "cell_type": "code",
   "execution_count": 12,
   "metadata": {},
   "outputs": [
    {
     "data": {
      "text/plain": [
       "13"
      ]
     },
     "execution_count": 12,
     "metadata": {},
     "output_type": "execute_result"
    }
   ],
   "source": [
    "len(kepler_data.columns)"
   ]
  },
  {
   "cell_type": "code",
   "execution_count": 13,
   "metadata": {},
   "outputs": [
    {
     "data": {
      "text/plain": [
       "Index(['classification', 'longitude', 'latitude', 'stellar_temperature',\n",
       "       'stellar_radius', 'planet_radius', 'eq_temperature',\n",
       "       'stellar_sur_gravity', 'orbital_period', 'depth', 'insol_flux',\n",
       "       'mission', 'distance'],\n",
       "      dtype='object')"
      ]
     },
     "execution_count": 13,
     "metadata": {},
     "output_type": "execute_result"
    }
   ],
   "source": [
    "kepler_data.columns"
   ]
  },
  {
   "cell_type": "code",
   "execution_count": 14,
   "metadata": {},
   "outputs": [],
   "source": [
    "colunas = ['classification', 'mission', 'longitude', 'latitude', 'stellar_temperature',\n",
    "       'stellar_radius', 'planet_radius', 'eq_temperature', 'distance',\n",
    "       'stellar_sur_gravity', 'orbital_period', 'insol_flux',\n",
    "       'depth']\n",
    "\n",
    "kepler_data = kepler_data.reindex(columns=colunas)"
   ]
  },
  {
   "cell_type": "markdown",
   "metadata": {},
   "source": [
    "Escalonamento com MinMaxScaler() onde a 1a coluna mantida no lugar e as demais escalonadas dentro dos seus próprios limites cada"
   ]
  },
  {
   "cell_type": "code",
   "execution_count": 15,
   "metadata": {},
   "outputs": [
    {
     "data": {
      "text/html": [
       "<div>\n",
       "<style scoped>\n",
       "    .dataframe tbody tr th:only-of-type {\n",
       "        vertical-align: middle;\n",
       "    }\n",
       "\n",
       "    .dataframe tbody tr th {\n",
       "        vertical-align: top;\n",
       "    }\n",
       "\n",
       "    .dataframe thead th {\n",
       "        text-align: right;\n",
       "    }\n",
       "</style>\n",
       "<table border=\"1\" class=\"dataframe\">\n",
       "  <thead>\n",
       "    <tr style=\"text-align: right;\">\n",
       "      <th></th>\n",
       "      <th>classification</th>\n",
       "      <th>mission</th>\n",
       "      <th>longitude</th>\n",
       "      <th>latitude</th>\n",
       "      <th>stellar_temperature</th>\n",
       "      <th>stellar_radius</th>\n",
       "      <th>planet_radius</th>\n",
       "      <th>eq_temperature</th>\n",
       "      <th>distance</th>\n",
       "      <th>stellar_sur_gravity</th>\n",
       "      <th>orbital_period</th>\n",
       "      <th>insol_flux</th>\n",
       "      <th>depth</th>\n",
       "    </tr>\n",
       "  </thead>\n",
       "  <tbody>\n",
       "    <tr>\n",
       "      <th>0</th>\n",
       "      <td>planet</td>\n",
       "      <td>kepler</td>\n",
       "      <td>291.93423</td>\n",
       "      <td>48.141651</td>\n",
       "      <td>5455.0</td>\n",
       "      <td>0.927</td>\n",
       "      <td>2.26</td>\n",
       "      <td>793.0</td>\n",
       "      <td>678.962909</td>\n",
       "      <td>4.467</td>\n",
       "      <td>9.488036</td>\n",
       "      <td>93.59</td>\n",
       "      <td>615.8</td>\n",
       "    </tr>\n",
       "    <tr>\n",
       "      <th>1</th>\n",
       "      <td>planet</td>\n",
       "      <td>kepler</td>\n",
       "      <td>291.93423</td>\n",
       "      <td>48.141651</td>\n",
       "      <td>5455.0</td>\n",
       "      <td>0.927</td>\n",
       "      <td>2.83</td>\n",
       "      <td>443.0</td>\n",
       "      <td>2176.213925</td>\n",
       "      <td>4.467</td>\n",
       "      <td>54.418383</td>\n",
       "      <td>9.11</td>\n",
       "      <td>874.8</td>\n",
       "    </tr>\n",
       "    <tr>\n",
       "      <th>2</th>\n",
       "      <td>candidate</td>\n",
       "      <td>kepler</td>\n",
       "      <td>297.00482</td>\n",
       "      <td>48.134129</td>\n",
       "      <td>5853.0</td>\n",
       "      <td>0.868</td>\n",
       "      <td>14.60</td>\n",
       "      <td>638.0</td>\n",
       "      <td>1129.463050</td>\n",
       "      <td>4.544</td>\n",
       "      <td>19.899140</td>\n",
       "      <td>39.30</td>\n",
       "      <td>10829.0</td>\n",
       "    </tr>\n",
       "    <tr>\n",
       "      <th>3</th>\n",
       "      <td>not planet</td>\n",
       "      <td>kepler</td>\n",
       "      <td>285.53461</td>\n",
       "      <td>48.285210</td>\n",
       "      <td>5805.0</td>\n",
       "      <td>0.791</td>\n",
       "      <td>33.46</td>\n",
       "      <td>1395.0</td>\n",
       "      <td>212.519983</td>\n",
       "      <td>4.564</td>\n",
       "      <td>1.736952</td>\n",
       "      <td>891.96</td>\n",
       "      <td>8079.2</td>\n",
       "    </tr>\n",
       "    <tr>\n",
       "      <th>4</th>\n",
       "      <td>planet</td>\n",
       "      <td>kepler</td>\n",
       "      <td>288.75488</td>\n",
       "      <td>48.226200</td>\n",
       "      <td>6031.0</td>\n",
       "      <td>1.046</td>\n",
       "      <td>2.75</td>\n",
       "      <td>1406.0</td>\n",
       "      <td>297.686309</td>\n",
       "      <td>4.438</td>\n",
       "      <td>2.525592</td>\n",
       "      <td>926.16</td>\n",
       "      <td>603.3</td>\n",
       "    </tr>\n",
       "  </tbody>\n",
       "</table>\n",
       "</div>"
      ],
      "text/plain": [
       "  classification mission  longitude   latitude  stellar_temperature  \\\n",
       "0         planet  kepler  291.93423  48.141651               5455.0   \n",
       "1         planet  kepler  291.93423  48.141651               5455.0   \n",
       "2      candidate  kepler  297.00482  48.134129               5853.0   \n",
       "3     not planet  kepler  285.53461  48.285210               5805.0   \n",
       "4         planet  kepler  288.75488  48.226200               6031.0   \n",
       "\n",
       "   stellar_radius  planet_radius  eq_temperature     distance  \\\n",
       "0           0.927           2.26           793.0   678.962909   \n",
       "1           0.927           2.83           443.0  2176.213925   \n",
       "2           0.868          14.60           638.0  1129.463050   \n",
       "3           0.791          33.46          1395.0   212.519983   \n",
       "4           1.046           2.75          1406.0   297.686309   \n",
       "\n",
       "   stellar_sur_gravity  orbital_period  insol_flux    depth  \n",
       "0                4.467        9.488036       93.59    615.8  \n",
       "1                4.467       54.418383        9.11    874.8  \n",
       "2                4.544       19.899140       39.30  10829.0  \n",
       "3                4.564        1.736952      891.96   8079.2  \n",
       "4                4.438        2.525592      926.16    603.3  "
      ]
     },
     "execution_count": 15,
     "metadata": {},
     "output_type": "execute_result"
    }
   ],
   "source": [
    "kepler_data.head(5)"
   ]
  },
  {
   "cell_type": "code",
   "execution_count": 16,
   "metadata": {},
   "outputs": [
    {
     "data": {
      "text/html": [
       "<div>\n",
       "<style scoped>\n",
       "    .dataframe tbody tr th:only-of-type {\n",
       "        vertical-align: middle;\n",
       "    }\n",
       "\n",
       "    .dataframe tbody tr th {\n",
       "        vertical-align: top;\n",
       "    }\n",
       "\n",
       "    .dataframe thead th {\n",
       "        text-align: right;\n",
       "    }\n",
       "</style>\n",
       "<table border=\"1\" class=\"dataframe\">\n",
       "  <thead>\n",
       "    <tr style=\"text-align: right;\">\n",
       "      <th></th>\n",
       "      <th>classification</th>\n",
       "      <th>mission</th>\n",
       "      <th>longitude</th>\n",
       "      <th>latitude</th>\n",
       "      <th>stellar_temperature</th>\n",
       "      <th>stellar_radius</th>\n",
       "      <th>planet_radius</th>\n",
       "      <th>eq_temperature</th>\n",
       "      <th>distance</th>\n",
       "      <th>stellar_sur_gravity</th>\n",
       "      <th>orbital_period</th>\n",
       "      <th>insol_flux</th>\n",
       "      <th>depth</th>\n",
       "    </tr>\n",
       "  </thead>\n",
       "  <tbody>\n",
       "    <tr>\n",
       "      <th>0</th>\n",
       "      <td>planet</td>\n",
       "      <td>kepler</td>\n",
       "      <td>0.552473</td>\n",
       "      <td>0.733837</td>\n",
       "      <td>0.211107</td>\n",
       "      <td>0.003560</td>\n",
       "      <td>0.000011</td>\n",
       "      <td>0.052452</td>\n",
       "      <td>0.025386</td>\n",
       "      <td>0.831296</td>\n",
       "      <td>0.000071</td>\n",
       "      <td>8.548941e-06</td>\n",
       "      <td>0.000400</td>\n",
       "    </tr>\n",
       "    <tr>\n",
       "      <th>1</th>\n",
       "      <td>planet</td>\n",
       "      <td>kepler</td>\n",
       "      <td>0.552473</td>\n",
       "      <td>0.733837</td>\n",
       "      <td>0.211107</td>\n",
       "      <td>0.003560</td>\n",
       "      <td>0.000014</td>\n",
       "      <td>0.028548</td>\n",
       "      <td>0.085526</td>\n",
       "      <td>0.831296</td>\n",
       "      <td>0.000417</td>\n",
       "      <td>8.321493e-07</td>\n",
       "      <td>0.000568</td>\n",
       "    </tr>\n",
       "    <tr>\n",
       "      <th>2</th>\n",
       "      <td>candidate</td>\n",
       "      <td>kepler</td>\n",
       "      <td>0.784346</td>\n",
       "      <td>0.733360</td>\n",
       "      <td>0.241179</td>\n",
       "      <td>0.003303</td>\n",
       "      <td>0.000072</td>\n",
       "      <td>0.041866</td>\n",
       "      <td>0.043481</td>\n",
       "      <td>0.845778</td>\n",
       "      <td>0.000151</td>\n",
       "      <td>3.589843e-06</td>\n",
       "      <td>0.007025</td>\n",
       "    </tr>\n",
       "    <tr>\n",
       "      <th>3</th>\n",
       "      <td>not planet</td>\n",
       "      <td>kepler</td>\n",
       "      <td>0.259826</td>\n",
       "      <td>0.742947</td>\n",
       "      <td>0.237552</td>\n",
       "      <td>0.002968</td>\n",
       "      <td>0.000167</td>\n",
       "      <td>0.093566</td>\n",
       "      <td>0.006650</td>\n",
       "      <td>0.849539</td>\n",
       "      <td>0.000012</td>\n",
       "      <td>8.147573e-05</td>\n",
       "      <td>0.005241</td>\n",
       "    </tr>\n",
       "    <tr>\n",
       "      <th>4</th>\n",
       "      <td>planet</td>\n",
       "      <td>kepler</td>\n",
       "      <td>0.407085</td>\n",
       "      <td>0.739203</td>\n",
       "      <td>0.254628</td>\n",
       "      <td>0.004077</td>\n",
       "      <td>0.000013</td>\n",
       "      <td>0.094318</td>\n",
       "      <td>0.010071</td>\n",
       "      <td>0.825842</td>\n",
       "      <td>0.000018</td>\n",
       "      <td>8.459972e-05</td>\n",
       "      <td>0.000391</td>\n",
       "    </tr>\n",
       "  </tbody>\n",
       "</table>\n",
       "</div>"
      ],
      "text/plain": [
       "  classification mission  longitude  latitude  stellar_temperature  \\\n",
       "0         planet  kepler   0.552473  0.733837             0.211107   \n",
       "1         planet  kepler   0.552473  0.733837             0.211107   \n",
       "2      candidate  kepler   0.784346  0.733360             0.241179   \n",
       "3     not planet  kepler   0.259826  0.742947             0.237552   \n",
       "4         planet  kepler   0.407085  0.739203             0.254628   \n",
       "\n",
       "   stellar_radius  planet_radius  eq_temperature  distance  \\\n",
       "0        0.003560       0.000011        0.052452  0.025386   \n",
       "1        0.003560       0.000014        0.028548  0.085526   \n",
       "2        0.003303       0.000072        0.041866  0.043481   \n",
       "3        0.002968       0.000167        0.093566  0.006650   \n",
       "4        0.004077       0.000013        0.094318  0.010071   \n",
       "\n",
       "   stellar_sur_gravity  orbital_period    insol_flux     depth  \n",
       "0             0.831296        0.000071  8.548941e-06  0.000400  \n",
       "1             0.831296        0.000417  8.321493e-07  0.000568  \n",
       "2             0.845778        0.000151  3.589843e-06  0.007025  \n",
       "3             0.849539        0.000012  8.147573e-05  0.005241  \n",
       "4             0.825842        0.000018  8.459972e-05  0.000391  "
      ]
     },
     "execution_count": 16,
     "metadata": {},
     "output_type": "execute_result"
    }
   ],
   "source": [
    "scaler = MinMaxScaler()\n",
    "\n",
    "kepler_scaled = kepler_data.copy()\n",
    "\n",
    "cols_to_scale = kepler_scaled.columns[1:] ## isso define as colunas a escalonar, mas nao tira a coluna categorica mission\n",
    "col_to_skip = 'mission'\n",
    "cols_to_scale = cols_to_scale.drop(col_to_skip) ## isso retira a coluna mission da lista de colunas a serem escalonadas\n",
    "\n",
    "kepler_scaled[cols_to_scale] = scaler.fit_transform(kepler_scaled[cols_to_scale].values) ## isso escalona as colunas a serem escalonadas\n",
    "\n",
    "kepler_scaled_data = pd.DataFrame(kepler_scaled, columns=kepler_scaled.columns)\n",
    "kepler_scaled_data.head(5)"
   ]
  },
  {
   "cell_type": "code",
   "execution_count": 17,
   "metadata": {},
   "outputs": [],
   "source": [
    "# kepler_data.to_pickle('data\\\\kepler_data_treated.pkl')"
   ]
  }
 ],
 "metadata": {
  "kernelspec": {
   "display_name": "Python 3",
   "language": "python",
   "name": "python3"
  },
  "language_info": {
   "codemirror_mode": {
    "name": "ipython",
    "version": 3
   },
   "file_extension": ".py",
   "mimetype": "text/x-python",
   "name": "python",
   "nbconvert_exporter": "python",
   "pygments_lexer": "ipython3",
   "version": "3.11.9"
  }
 },
 "nbformat": 4,
 "nbformat_minor": 2
}

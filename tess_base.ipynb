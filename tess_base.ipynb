{
 "cells": [
  {
   "cell_type": "markdown",
   "metadata": {},
   "source": [
    "Carregar dados"
   ]
  },
  {
   "cell_type": "code",
   "execution_count": 1,
   "metadata": {},
   "outputs": [],
   "source": [
    "import pandas as pd\n",
    "\n",
    "tess = pd.read_pickle('data\\\\tess\\\\tess_data_treated.pkl')"
   ]
  },
  {
   "cell_type": "markdown",
   "metadata": {},
   "source": [
    "Separar dados em treinamento e teste"
   ]
  },
  {
   "cell_type": "code",
   "execution_count": 2,
   "metadata": {},
   "outputs": [],
   "source": [
    "# dados de treinamento (classificados como PLANETAS e NÃO PLANETAS)\n",
    "\n",
    "tess_classification = tess[tess['classification'].isin(['planet', 'not planet'])]"
   ]
  },
  {
   "cell_type": "markdown",
   "metadata": {},
   "source": [
    "Separar os dados em features e rótulos"
   ]
  },
  {
   "cell_type": "code",
   "execution_count": 3,
   "metadata": {},
   "outputs": [],
   "source": [
    "x_tess = tess_classification.drop(['classification', 'mission'], axis=1)  # Features\n",
    "y_tess = tess_classification['classification']  # Rótulos"
   ]
  },
  {
   "cell_type": "code",
   "execution_count": 4,
   "metadata": {},
   "outputs": [],
   "source": [
    "from sklearn.model_selection import train_test_split\n",
    "\n",
    "x_tess_treino, x_tess_teste, y_tess_treino, y_tess_teste = train_test_split(x_tess, y_tess, test_size=0.2, random_state=42)"
   ]
  },
  {
   "cell_type": "markdown",
   "metadata": {},
   "source": [
    "Averiguando a distribuição de classes antes e depois da separação"
   ]
  },
  {
   "cell_type": "code",
   "execution_count": 5,
   "metadata": {},
   "outputs": [
    {
     "name": "stdout",
     "output_type": "stream",
     "text": [
      "['not planet' 'planet'] [1089 5106] [0.17578692 0.82421308]\n"
     ]
    }
   ],
   "source": [
    "import numpy as np\n",
    "\n",
    "# Base original TESS\n",
    "unique_values, counts = np.unique(y_tess, return_counts=True)\n",
    "prop = counts/y_tess.size\n",
    "print(unique_values,counts,prop)"
   ]
  },
  {
   "cell_type": "code",
   "execution_count": 6,
   "metadata": {},
   "outputs": [
    {
     "name": "stdout",
     "output_type": "stream",
     "text": [
      "['not planet' 'planet'] [ 864 4092] [0.17433414 0.82566586]\n"
     ]
    }
   ],
   "source": [
    "# Base de treino TESS\n",
    "unique_values, counts = np.unique(y_tess_treino, return_counts=True)\n",
    "prop = counts/y_tess_treino.size\n",
    "print(unique_values,counts,prop)"
   ]
  },
  {
   "cell_type": "code",
   "execution_count": 7,
   "metadata": {},
   "outputs": [],
   "source": [
    "### Base de treino balanceada TESS\n",
    "from imblearn.combine import SMOTETomek\n",
    "smt = SMOTETomek(random_state=42)\n",
    "x_tess_treino_bal, y_tess_treino_bal = smt.fit_resample(x_tess_treino, y_tess_treino)"
   ]
  },
  {
   "cell_type": "code",
   "execution_count": 8,
   "metadata": {},
   "outputs": [
    {
     "name": "stdout",
     "output_type": "stream",
     "text": [
      "['not planet' 'planet'] [ 225 1014] [0.18159806 0.81840194]\n"
     ]
    }
   ],
   "source": [
    "# Base de teste TESS\n",
    "unique_values, counts = np.unique(y_tess_teste, return_counts=True)\n",
    "prop = counts/y_tess_teste.size\n",
    "print(unique_values,counts,prop)"
   ]
  },
  {
   "cell_type": "code",
   "execution_count": 9,
   "metadata": {},
   "outputs": [],
   "source": [
    "# dados final (candidatos)\n",
    "\n",
    "tess_candidate = tess[tess['classification'].isin(['candidate'])]\n",
    "\n",
    "tess_candidate = tess_candidate.drop(['classification', 'mission'], axis=1)"
   ]
  }
 ],
 "metadata": {
  "kernelspec": {
   "display_name": "venv",
   "language": "python",
   "name": "python3"
  },
  "language_info": {
   "codemirror_mode": {
    "name": "ipython",
    "version": 3
   },
   "file_extension": ".py",
   "mimetype": "text/x-python",
   "name": "python",
   "nbconvert_exporter": "python",
   "pygments_lexer": "ipython3",
   "version": "3.11.9"
  }
 },
 "nbformat": 4,
 "nbformat_minor": 2
}

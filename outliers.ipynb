{
 "cells": [
  {
   "cell_type": "code",
   "execution_count": 1,
   "metadata": {},
   "outputs": [],
   "source": [
    "import pandas as pd\n",
    "k2 = pd.read_pickle('data\\\\k2\\\\k2_data_treated.pkl')\n",
    "k2_classification = k2[k2['classification'].isin(['planet', 'not planet'])]\n",
    "x_k2 = k2_classification.drop(['classification', 'mission'], axis=1)  # Features\n",
    "y_k2 = k2_classification['classification']  # Rótulos\n",
    "\n",
    "from sklearn.model_selection import train_test_split\n",
    "\n",
    "x_k2_treino, x_k2_teste, y_k2_treino, y_k2_teste = train_test_split(x_k2, y_k2, test_size=0.2, random_state=42)"
   ]
  },
  {
   "cell_type": "code",
   "execution_count": 2,
   "metadata": {},
   "outputs": [
    {
     "name": "stdout",
     "output_type": "stream",
     "text": [
      "['not planet' 'planet'] [ 245 1677] [0.12747138 0.87252862]\n"
     ]
    }
   ],
   "source": [
    "import numpy as np\n",
    "\n",
    "# Base treino não balanceada. Proporção\n",
    "unique_values, counts = np.unique(y_k2_treino, return_counts=True)\n",
    "prop = counts/y_k2_treino.size\n",
    "print(unique_values,counts,prop)"
   ]
  },
  {
   "cell_type": "code",
   "execution_count": 3,
   "metadata": {},
   "outputs": [
    {
     "ename": "ModuleNotFoundError",
     "evalue": "No module named 'imblearn'",
     "output_type": "error",
     "traceback": [
      "\u001b[1;31m---------------------------------------------------------------------------\u001b[0m",
      "\u001b[1;31mModuleNotFoundError\u001b[0m                       Traceback (most recent call last)",
      "Cell \u001b[1;32mIn[3], line 3\u001b[0m\n\u001b[0;32m      1\u001b[0m \u001b[38;5;66;03m### montando base de treino balanceada\u001b[39;00m\n\u001b[1;32m----> 3\u001b[0m \u001b[38;5;28;01mfrom\u001b[39;00m \u001b[38;5;21;01mimblearn\u001b[39;00m\u001b[38;5;21;01m.\u001b[39;00m\u001b[38;5;21;01mcombine\u001b[39;00m \u001b[38;5;28;01mimport\u001b[39;00m SMOTETomek\n\u001b[0;32m      5\u001b[0m smt \u001b[38;5;241m=\u001b[39m SMOTETomek(random_state\u001b[38;5;241m=\u001b[39m\u001b[38;5;241m42\u001b[39m)\n\u001b[0;32m      6\u001b[0m x_k2_treino_bal, y_k2_treino_bal \u001b[38;5;241m=\u001b[39m smt\u001b[38;5;241m.\u001b[39mfit_resample(x_k2_treino, y_k2_treino)\n",
      "\u001b[1;31mModuleNotFoundError\u001b[0m: No module named 'imblearn'"
     ]
    }
   ],
   "source": [
    "### montando base de treino balanceada\n",
    "\n",
    "from imblearn.combine import SMOTETomek\n",
    "\n",
    "smt = SMOTETomek(random_state=42)\n",
    "x_k2_treino_bal, y_k2_treino_bal = smt.fit_resample(x_k2_treino, y_k2_treino)"
   ]
  },
  {
   "cell_type": "code",
   "execution_count": null,
   "metadata": {},
   "outputs": [],
   "source": [
    "# base de treino balanceada. Proporção\n",
    "unique_values, counts = np.unique(y_k2_treino_bal, return_counts=True)\n",
    "prop = counts/y_k2_treino_bal.size\n",
    "print(unique_values,counts,prop)"
   ]
  },
  {
   "cell_type": "code",
   "execution_count": null,
   "metadata": {},
   "outputs": [],
   "source": [
    "from sklearn.naive_bayes import GaussianNB\n",
    "### treinando modelo com dados nao balanceados e gerando previsoes com o modelo nao balanceado\n",
    "modeloNB_nao_balanceado = GaussianNB()\n",
    "modeloNB_nao_balanceado.fit(x_k2_treino,y_k2_treino)\n",
    "y_k2_previsto_nao_balanceado = modeloNB_nao_balanceado.predict(x_k2_teste)\n",
    "\n",
    "### treinando modelo com dados balanceados e gerando previsões com modelo balanceado\n",
    "modeloNB_balanceado = GaussianNB()\n",
    "modeloNB_balanceado.fit(x_k2_treino_bal,y_k2_treino_bal)\n",
    "y_k2_previsto_balanceado = modeloNB_balanceado.predict(x_k2_teste)"
   ]
  },
  {
   "cell_type": "code",
   "execution_count": null,
   "metadata": {},
   "outputs": [],
   "source": [
    "from sklearn.metrics import accuracy_score,precision_score,recall_score,f1_score"
   ]
  },
  {
   "cell_type": "code",
   "execution_count": null,
   "metadata": {},
   "outputs": [],
   "source": [
    "acc_nao_balanceado = accuracy_score(y_k2_teste,y_k2_previsto_nao_balanceado)\n",
    "pre_nao_balanceado = precision_score(y_k2_teste,y_k2_previsto_nao_balanceado,pos_label='planet') \n",
    "rec_nao_balanceado = recall_score(y_k2_teste,y_k2_previsto_nao_balanceado,pos_label='planet')\n",
    "f1_nao_balanceado = f1_score(y_k2_teste,y_k2_previsto_nao_balanceado,pos_label='planet')\n",
    "\n",
    "acc_balanceado = accuracy_score(y_k2_teste,y_k2_previsto_balanceado)\n",
    "pre_balanceado = precision_score(y_k2_teste,y_k2_previsto_balanceado,pos_label='planet')\n",
    "rec_balanceado = recall_score(y_k2_teste,y_k2_previsto_balanceado,pos_label='planet')\n",
    "f1_balanceado = f1_score(y_k2_teste,y_k2_previsto_balanceado,pos_label='planet')\n",
    "\n",
    "### obs.: como nosso target não é 1 e 0, temos que informar às métricas precision, recall e f1_score quem é o target positivo. Por isso o argumento pos_label = 'planet'"
   ]
  },
  {
   "cell_type": "code",
   "execution_count": null,
   "metadata": {},
   "outputs": [],
   "source": [
    "acc_nao_balanceado, acc_balanceado"
   ]
  },
  {
   "cell_type": "code",
   "execution_count": null,
   "metadata": {},
   "outputs": [],
   "source": [
    "pre_nao_balanceado,pre_balanceado"
   ]
  },
  {
   "cell_type": "code",
   "execution_count": null,
   "metadata": {},
   "outputs": [],
   "source": [
    "rec_nao_balanceado,rec_balanceado"
   ]
  },
  {
   "cell_type": "code",
   "execution_count": null,
   "metadata": {},
   "outputs": [],
   "source": [
    "f1_nao_balanceado,f1_balanceado"
   ]
  },
  {
   "cell_type": "code",
   "execution_count": null,
   "metadata": {},
   "outputs": [],
   "source": [
    "### tratamento de outliers\n",
    "### é necessário transformar o target em númeors, pois a tecnica de identificação de outliers IsolationForest só trabalha com números\n",
    "from sklearn.preprocessing import LabelEncoder\n",
    "encoder = LabelEncoder()\n",
    "y_encoded = encoder.fit_transform(y_k2_treino) \n",
    "### juntar dados de treinos\n",
    "dados_para_analisar_outliers = np.column_stack((x_k2_treino, y_encoded))  \n",
    "### identificar os outliers (supondo 5% de contaminação na base (ajustável))\n",
    "from sklearn.ensemble import IsolationForest\n",
    "clf = IsolationForest(contamination=0.01)\n",
    "labels = clf.fit_predict(dados_para_analisar_outliers)\n",
    "### rearrumando a base removendo outliers\n",
    "dados_filtrados = dados_para_analisar_outliers[labels == 1]\n",
    "x_k2_treino_filtrado = dados_filtrados[:, :-1]\n",
    "y_k2_treino_filtrado = dados_filtrados[:, 1]\n",
    "### Utilizamos o mesmo objeto de encode para retransformar os target numéricos em categoricos\n",
    "y_k2_treino_filtrado = encoder.inverse_transform(y_k2_treino_filtrado.astype(int))"
   ]
  },
  {
   "cell_type": "code",
   "execution_count": null,
   "metadata": {},
   "outputs": [],
   "source": [
    "x_k2_treino_filtrado"
   ]
  },
  {
   "cell_type": "code",
   "execution_count": null,
   "metadata": {},
   "outputs": [],
   "source": [
    "### treinando modelo com dados com outliers removidos\n",
    "modeloNB_limpo = GaussianNB()\n",
    "modeloNB_limpo.fit(x_k2_treino_filtrado, y_k2_treino_filtrado)\n",
    "y_k2_previsto_limpo = modeloNB_limpo.predict(x_k2_teste.to_numpy())"
   ]
  },
  {
   "cell_type": "code",
   "execution_count": null,
   "metadata": {},
   "outputs": [],
   "source": [
    "valores_unicos, contagens = np.unique(y_k2_treino_filtrado, return_counts=True)\n",
    "valores_unicos, contagens"
   ]
  },
  {
   "cell_type": "code",
   "execution_count": null,
   "metadata": {},
   "outputs": [],
   "source": [
    "acc_limpo = accuracy_score(y_k2_teste,y_k2_previsto_limpo)\n",
    "pre_limpo = precision_score(y_k2_teste,y_k2_previsto_limpo,pos_label='planet')\n",
    "rec_limpo = recall_score(y_k2_teste,y_k2_previsto_limpo,pos_label='planet')\n",
    "f1_limpo = f1_score(y_k2_teste,y_k2_previsto_limpo,pos_label='planet')"
   ]
  },
  {
   "cell_type": "code",
   "execution_count": null,
   "metadata": {},
   "outputs": [],
   "source": [
    "acc_nao_balanceado,acc_limpo"
   ]
  },
  {
   "cell_type": "code",
   "execution_count": null,
   "metadata": {},
   "outputs": [],
   "source": [
    "pre_nao_balanceado,pre_limpo"
   ]
  },
  {
   "cell_type": "code",
   "execution_count": null,
   "metadata": {},
   "outputs": [],
   "source": [
    "rec_nao_balanceado,rec_limpo"
   ]
  },
  {
   "cell_type": "code",
   "execution_count": null,
   "metadata": {},
   "outputs": [],
   "source": [
    "f1_nao_balanceado,f1_limpo"
   ]
  }
 ],
 "metadata": {
  "kernelspec": {
   "display_name": "Python 3",
   "language": "python",
   "name": "python3"
  },
  "language_info": {
   "codemirror_mode": {
    "name": "ipython",
    "version": 3
   },
   "file_extension": ".py",
   "mimetype": "text/x-python",
   "name": "python",
   "nbconvert_exporter": "python",
   "pygments_lexer": "ipython3",
   "version": "3.11.9"
  }
 },
 "nbformat": 4,
 "nbformat_minor": 2
}

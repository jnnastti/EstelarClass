{
 "cells": [
  {
   "cell_type": "markdown",
   "metadata": {},
   "source": [
    "Carregar dados"
   ]
  },
  {
   "cell_type": "code",
   "execution_count": 1,
   "metadata": {},
   "outputs": [],
   "source": [
    "import pandas as pd\n",
    "\n",
    "general = pd.read_pickle('data\\\\general\\\\general_data_treated.pkl')"
   ]
  },
  {
   "cell_type": "markdown",
   "metadata": {},
   "source": [
    "Separar dados em treinamento e teste"
   ]
  },
  {
   "cell_type": "code",
   "execution_count": 2,
   "metadata": {},
   "outputs": [],
   "source": [
    "# dados de treinamento (classificados como PLANETAS e NÃO PLANETAS)\n",
    "\n",
    "general_classification = general[general['classification'].isin(['planet', 'not planet'])]"
   ]
  },
  {
   "cell_type": "markdown",
   "metadata": {},
   "source": [
    "Separar os dados em features e rótulos"
   ]
  },
  {
   "cell_type": "code",
   "execution_count": 3,
   "metadata": {},
   "outputs": [],
   "source": [
    "x_general = general_classification.drop(['classification', 'mission'], axis=1)  # Features\n",
    "y_general = general_classification['classification']  # Rótulos"
   ]
  },
  {
   "cell_type": "code",
   "execution_count": 4,
   "metadata": {},
   "outputs": [],
   "source": [
    "from sklearn.model_selection import train_test_split\n",
    "\n",
    "x_general_treino, x_general_teste, y_general_treino, y_general_teste = train_test_split(x_general, y_general, test_size=0.2, random_state=42)"
   ]
  },
  {
   "cell_type": "markdown",
   "metadata": {},
   "source": [
    "Averiguando a distribuição de classes antes e depois da separação"
   ]
  },
  {
   "cell_type": "code",
   "execution_count": 5,
   "metadata": {},
   "outputs": [
    {
     "name": "stdout",
     "output_type": "stream",
     "text": [
      "['not planet' 'planet'] [6239 9939] [0.38564718 0.61435282]\n"
     ]
    }
   ],
   "source": [
    "import numpy as np\n",
    "\n",
    "# Base original General\n",
    "unique_values, counts = np.unique(y_general, return_counts=True)\n",
    "prop = counts/y_general.size\n",
    "print(unique_values,counts,prop)"
   ]
  },
  {
   "cell_type": "code",
   "execution_count": 6,
   "metadata": {},
   "outputs": [
    {
     "name": "stdout",
     "output_type": "stream",
     "text": [
      "['not planet' 'planet'] [4968 7974] [0.38386648 0.61613352]\n"
     ]
    }
   ],
   "source": [
    "# Base de treino general\n",
    "unique_values, counts = np.unique(y_general_treino, return_counts=True)\n",
    "prop = counts/y_general_treino.size\n",
    "print(unique_values,counts,prop)"
   ]
  },
  {
   "cell_type": "code",
   "execution_count": 7,
   "metadata": {},
   "outputs": [],
   "source": [
    "### Base de treino balanceada General\n",
    "from imblearn.combine import SMOTETomek\n",
    "smt = SMOTETomek(random_state=42)\n",
    "x_general_treino_bal, y_general_treino_bal = smt.fit_resample(x_general_treino, y_general_treino)"
   ]
  },
  {
   "cell_type": "code",
   "execution_count": 8,
   "metadata": {},
   "outputs": [
    {
     "name": "stdout",
     "output_type": "stream",
     "text": [
      "['not planet' 'planet'] [1271 1965] [0.39276885 0.60723115]\n"
     ]
    }
   ],
   "source": [
    "# Base de teste General\n",
    "unique_values, counts = np.unique(y_general_teste, return_counts=True)\n",
    "prop = counts/y_general_teste.size\n",
    "print(unique_values,counts,prop)"
   ]
  }
 ],
 "metadata": {
  "kernelspec": {
   "display_name": "venv",
   "language": "python",
   "name": "python3"
  },
  "language_info": {
   "codemirror_mode": {
    "name": "ipython",
    "version": 3
   },
   "file_extension": ".py",
   "mimetype": "text/x-python",
   "name": "python",
   "nbconvert_exporter": "python",
   "pygments_lexer": "ipython3",
   "version": "3.11.9"
  }
 },
 "nbformat": 4,
 "nbformat_minor": 2
}

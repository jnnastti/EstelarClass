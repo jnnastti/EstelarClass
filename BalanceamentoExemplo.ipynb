{
 "cells": [
  {
   "cell_type": "code",
   "execution_count": 1,
   "metadata": {},
   "outputs": [],
   "source": [
    "import pandas as pd\n",
    "k2 = pd.read_pickle('data\\\\k2\\\\k2_data_treated.pkl')\n",
    "k2_classification = k2[k2['classification'].isin(['planet', 'not planet'])]\n",
    "x_k2 = k2_classification.drop(['classification', 'mission'], axis=1)  # Features\n",
    "y_k2 = k2_classification['classification']  # Rótulos\n",
    "\n",
    "from sklearn.model_selection import train_test_split\n",
    "\n",
    "x_k2_treino, x_k2_teste, y_k2_treino, y_k2_teste = train_test_split(x_k2, y_k2, test_size=0.2, random_state=42)"
   ]
  },
  {
   "cell_type": "code",
   "execution_count": 2,
   "metadata": {},
   "outputs": [
    {
     "name": "stdout",
     "output_type": "stream",
     "text": [
      "['not planet' 'planet'] [ 245 1677] [0.12747138 0.87252862]\n"
     ]
    }
   ],
   "source": [
    "import numpy as np\n",
    "\n",
    "# Base treino não balanceada. Proporção\n",
    "unique_values, counts = np.unique(y_k2_treino, return_counts=True)\n",
    "prop = counts/y_k2_treino.size\n",
    "print(unique_values,counts,prop)"
   ]
  },
  {
   "cell_type": "code",
   "execution_count": 3,
   "metadata": {},
   "outputs": [],
   "source": [
    "### montando base de treino balanceada\n",
    "\n",
    "from imblearn.combine import SMOTETomek\n",
    "smt = SMOTETomek(random_state=42)\n",
    "x_k2_treino_bal, y_k2_treino_bal = smt.fit_resample(x_k2_treino, y_k2_treino)"
   ]
  },
  {
   "cell_type": "code",
   "execution_count": 4,
   "metadata": {},
   "outputs": [
    {
     "name": "stdout",
     "output_type": "stream",
     "text": [
      "['not planet' 'planet'] [1657 1657] [0.5 0.5]\n"
     ]
    }
   ],
   "source": [
    "# base de treino balanceada. Proporção\n",
    "unique_values, counts = np.unique(y_k2_treino_bal, return_counts=True)\n",
    "prop = counts/y_k2_treino_bal.size\n",
    "print(unique_values,counts,prop)"
   ]
  },
  {
   "cell_type": "code",
   "execution_count": 8,
   "metadata": {},
   "outputs": [],
   "source": [
    "from sklearn.naive_bayes import GaussianNB\n",
    "### treinando modelo com dados nao balanceados e gerando previsoes com o modelo nao balanceado\n",
    "modeloNB_nao_balanceado = GaussianNB()\n",
    "modeloNB_nao_balanceado.fit(x_k2_treino,y_k2_treino)\n",
    "y_k2_previsto_nao_balanceado = modeloNB_nao_balanceado.predict(x_k2_teste)\n",
    "\n",
    "### treinando modelo com dados balanceados e gerando previsões com modelo balanceado\n",
    "modeloNB_balanceado = GaussianNB()\n",
    "modeloNB_balanceado.fit(x_k2_treino_bal,y_k2_treino_bal)\n",
    "y_k2_previsto_balanceado = modeloNB_balanceado.predict(x_k2_teste)"
   ]
  },
  {
   "cell_type": "code",
   "execution_count": 18,
   "metadata": {},
   "outputs": [],
   "source": [
    "from sklearn.metrics import accuracy_score,precision_score,recall_score,f1_score"
   ]
  },
  {
   "cell_type": "code",
   "execution_count": 19,
   "metadata": {},
   "outputs": [],
   "source": [
    "acc_nao_balanceado = accuracy_score(y_k2_teste,y_k2_previsto_nao_balanceado)\n",
    "pre_nao_balanceado = precision_score(y_k2_teste,y_k2_previsto_nao_balanceado,pos_label='planet') \n",
    "rec_nao_balanceado = recall_score(y_k2_teste,y_k2_previsto_nao_balanceado,pos_label='planet')\n",
    "f1_nao_balanceado = f1_score(y_k2_teste,y_k2_previsto_nao_balanceado,pos_label='planet')\n",
    "\n",
    "acc_balanceado = accuracy_score(y_k2_teste,y_k2_previsto_balanceado)\n",
    "pre_balanceado = precision_score(y_k2_teste,y_k2_previsto_balanceado,pos_label='planet')\n",
    "rec_balanceado = recall_score(y_k2_teste,y_k2_previsto_balanceado,pos_label='planet')\n",
    "f1_balanceado = f1_score(y_k2_teste,y_k2_previsto_balanceado,pos_label='planet')\n",
    "\n",
    "### obs.: como nosso target não é 1 e 0, temos que informar às métricas precision, recall e f1_score quem é o target positivo. Por isso o argumento pos_label = 'planet'"
   ]
  },
  {
   "cell_type": "code",
   "execution_count": 20,
   "metadata": {},
   "outputs": [
    {
     "data": {
      "text/plain": [
       "(0.8731808731808732, 0.8378378378378378)"
      ]
     },
     "execution_count": 20,
     "metadata": {},
     "output_type": "execute_result"
    }
   ],
   "source": [
    "acc_nao_balanceado, acc_balanceado"
   ]
  },
  {
   "cell_type": "code",
   "execution_count": 21,
   "metadata": {},
   "outputs": [
    {
     "data": {
      "text/plain": [
       "(0.919431279620853, 0.9399477806788512)"
      ]
     },
     "execution_count": 21,
     "metadata": {},
     "output_type": "execute_result"
    }
   ],
   "source": [
    "pre_nao_balanceado,pre_balanceado"
   ]
  },
  {
   "cell_type": "code",
   "execution_count": 22,
   "metadata": {},
   "outputs": [
    {
     "data": {
      "text/plain": [
       "(0.9349397590361446, 0.8674698795180723)"
      ]
     },
     "execution_count": 22,
     "metadata": {},
     "output_type": "execute_result"
    }
   ],
   "source": [
    "rec_nao_balanceado,rec_balanceado"
   ]
  },
  {
   "cell_type": "code",
   "execution_count": 23,
   "metadata": {},
   "outputs": [
    {
     "data": {
      "text/plain": [
       "(0.927120669056153, 0.9022556390977443)"
      ]
     },
     "execution_count": 23,
     "metadata": {},
     "output_type": "execute_result"
    }
   ],
   "source": [
    "f1_nao_balanceado,f1_balanceado"
   ]
  }
 ],
 "metadata": {
  "kernelspec": {
   "display_name": "base",
   "language": "python",
   "name": "python3"
  },
  "language_info": {
   "codemirror_mode": {
    "name": "ipython",
    "version": 3
   },
   "file_extension": ".py",
   "mimetype": "text/x-python",
   "name": "python",
   "nbconvert_exporter": "python",
   "pygments_lexer": "ipython3",
   "version": "3.9.13"
  }
 },
 "nbformat": 4,
 "nbformat_minor": 2
}

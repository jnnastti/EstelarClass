{
 "cells": [
  {
   "cell_type": "code",
   "execution_count": 1,
   "metadata": {},
   "outputs": [],
   "source": [
    "import pandas as pd\n",
    "k2 = pd.read_pickle('data\\\\k2\\\\k2_data_treated.pkl')\n",
    "k2_classification = k2[k2['classification'].isin(['planet', 'not planet'])]\n",
    "x_k2 = k2_classification.drop(['classification', 'mission'], axis=1)  # Features\n",
    "y_k2 = k2_classification['classification']  # Rótulos\n",
    "\n",
    "from sklearn.model_selection import train_test_split\n",
    "\n",
    "x_k2_treino, x_k2_teste, y_k2_treino, y_k2_teste = train_test_split(x_k2, y_k2, test_size=0.2, random_state=42)"
   ]
  },
  {
   "cell_type": "code",
   "execution_count": 2,
   "metadata": {},
   "outputs": [
    {
     "name": "stdout",
     "output_type": "stream",
     "text": [
      "['not planet' 'planet'] [ 245 1677] [0.12747138 0.87252862]\n"
     ]
    }
   ],
   "source": [
    "import numpy as np\n",
    "\n",
    "# Base treino não balanceada. Proporção\n",
    "unique_values, counts = np.unique(y_k2_treino, return_counts=True)\n",
    "prop = counts/y_k2_treino.size\n",
    "print(unique_values,counts,prop)"
   ]
  },
  {
   "cell_type": "code",
   "execution_count": 3,
   "metadata": {},
   "outputs": [],
   "source": [
    "### montando base de treino balanceada\n",
    "\n",
    "from imblearn.combine import SMOTETomek\n",
    "smt = SMOTETomek(random_state=42)\n",
    "x_k2_treino_bal, y_k2_treino_bal = smt.fit_resample(x_k2_treino, y_k2_treino)"
   ]
  },
  {
   "cell_type": "code",
   "execution_count": 4,
   "metadata": {},
   "outputs": [
    {
     "name": "stdout",
     "output_type": "stream",
     "text": [
      "['not planet' 'planet'] [1657 1657] [0.5 0.5]\n"
     ]
    }
   ],
   "source": [
    "# base de treino balanceada. Proporção\n",
    "unique_values, counts = np.unique(y_k2_treino_bal, return_counts=True)\n",
    "prop = counts/y_k2_treino_bal.size\n",
    "print(unique_values,counts,prop)"
   ]
  },
  {
   "cell_type": "code",
   "execution_count": 8,
   "metadata": {},
   "outputs": [],
   "source": [
    "from sklearn.naive_bayes import GaussianNB\n",
    "### treinando modelo com dados nao balanceados e gerando previsoes com o modelo nao balanceado\n",
    "modeloNB_nao_balanceado = GaussianNB()\n",
    "modeloNB_nao_balanceado.fit(x_k2_treino,y_k2_treino)\n",
    "y_k2_previsto_nao_balanceado = modeloNB_nao_balanceado.predict(x_k2_teste)\n",
    "\n",
    "### treinando modelo com dados balanceados e gerando previsões com modelo balanceado\n",
    "modeloNB_balanceado = GaussianNB()\n",
    "modeloNB_balanceado.fit(x_k2_treino_bal,y_k2_treino_bal)\n",
    "y_k2_previsto_balanceado = modeloNB_balanceado.predict(x_k2_teste)"
   ]
  },
  {
   "cell_type": "code",
   "execution_count": 18,
   "metadata": {},
   "outputs": [],
   "source": [
    "from sklearn.metrics import accuracy_score,precision_score,recall_score,f1_score"
   ]
  },
  {
   "cell_type": "code",
   "execution_count": 19,
   "metadata": {},
   "outputs": [],
   "source": [
    "acc_nao_balanceado = accuracy_score(y_k2_teste,y_k2_previsto_nao_balanceado)\n",
    "pre_nao_balanceado = precision_score(y_k2_teste,y_k2_previsto_nao_balanceado,pos_label='planet') \n",
    "rec_nao_balanceado = recall_score(y_k2_teste,y_k2_previsto_nao_balanceado,pos_label='planet')\n",
    "f1_nao_balanceado = f1_score(y_k2_teste,y_k2_previsto_nao_balanceado,pos_label='planet')\n",
    "\n",
    "acc_balanceado = accuracy_score(y_k2_teste,y_k2_previsto_balanceado)\n",
    "pre_balanceado = precision_score(y_k2_teste,y_k2_previsto_balanceado,pos_label='planet')\n",
    "rec_balanceado = recall_score(y_k2_teste,y_k2_previsto_balanceado,pos_label='planet')\n",
    "f1_balanceado = f1_score(y_k2_teste,y_k2_previsto_balanceado,pos_label='planet')\n",
    "\n",
    "### obs.: como nosso target não é 1 e 0, temos que informar às métricas precision, recall e f1_score quem é o target positivo. Por isso o argumento pos_label = 'planet'"
   ]
  },
  {
   "cell_type": "code",
   "execution_count": 20,
   "metadata": {},
   "outputs": [
    {
     "data": {
      "text/plain": [
       "(0.8731808731808732, 0.8378378378378378)"
      ]
     },
     "execution_count": 20,
     "metadata": {},
     "output_type": "execute_result"
    }
   ],
   "source": [
    "acc_nao_balanceado, acc_balanceado"
   ]
  },
  {
   "cell_type": "code",
   "execution_count": 21,
   "metadata": {},
   "outputs": [
    {
     "data": {
      "text/plain": [
       "(0.919431279620853, 0.9399477806788512)"
      ]
     },
     "execution_count": 21,
     "metadata": {},
     "output_type": "execute_result"
    }
   ],
   "source": [
    "pre_nao_balanceado,pre_balanceado"
   ]
  },
  {
   "cell_type": "code",
   "execution_count": 22,
   "metadata": {},
   "outputs": [
    {
     "data": {
      "text/plain": [
       "(0.9349397590361446, 0.8674698795180723)"
      ]
     },
     "execution_count": 22,
     "metadata": {},
     "output_type": "execute_result"
    }
   ],
   "source": [
    "rec_nao_balanceado,rec_balanceado"
   ]
  },
  {
   "cell_type": "code",
   "execution_count": 23,
   "metadata": {},
   "outputs": [
    {
     "data": {
      "text/plain": [
       "(0.927120669056153, 0.9022556390977443)"
      ]
     },
     "execution_count": 23,
     "metadata": {},
     "output_type": "execute_result"
    }
   ],
   "source": [
    "f1_nao_balanceado,f1_balanceado"
   ]
  },
  {
   "cell_type": "code",
   "execution_count": 86,
   "metadata": {},
   "outputs": [],
   "source": [
    "### tratamento de outliers\n",
    "### é necessário transformar o target em númeors, pois a tecnica de identificação de outliers IsolationForest só trabalha com números\n",
    "from sklearn.preprocessing import LabelEncoder\n",
    "encoder = LabelEncoder()\n",
    "y_encoded = encoder.fit_transform(y_k2_treino) \n",
    "### juntar dados de treinos\n",
    "dados_para_analisar_outliers = np.column_stack((x_k2_treino, y_encoded))  \n",
    "### identificar os outliers (supondo 5% de contaminação na base (ajustável))\n",
    "from sklearn.ensemble import IsolationForest\n",
    "clf = IsolationForest(contamination=0.01)\n",
    "labels = clf.fit_predict(dados_para_analisar_outliers)\n",
    "### rearrumando a base removendo outliers\n",
    "dados_filtrados = dados_para_analisar_outliers[labels == 1]\n",
    "x_k2_treino_filtrado = dados_filtrados[:, :-1]\n",
    "y_k2_treino_filtrado = dados_filtrados[:, 1]\n",
    "### Utilizamos o mesmo objeto de encode para retransformar os target numéricos em categoricos\n",
    "y_k2_treino_filtrado = encoder.inverse_transform(y_k2_treino_filtrado.astype(int))"
   ]
  },
  {
   "cell_type": "code",
   "execution_count": 87,
   "metadata": {},
   "outputs": [
    {
     "data": {
      "text/plain": [
       "array([[3.08639068e-02, 6.38509162e-01, 5.27648435e-02, ...,\n",
       "        6.73032664e-05, 1.47972504e-02, 1.36198262e-02],\n",
       "       [4.46870369e-01, 7.34932325e-01, 5.31963057e-02, ...,\n",
       "        3.88865338e-05, 1.51470803e-02, 4.17581781e-03],\n",
       "       [3.45518923e-01, 8.17389233e-01, 7.27933720e-02, ...,\n",
       "        1.60723228e-05, 2.39887079e-02, 2.27063666e-03],\n",
       "       ...,\n",
       "       [1.17015825e-02, 5.01283318e-01, 6.33676155e-02, ...,\n",
       "        1.13492305e-04, 5.73701059e-03, 4.17358306e-04],\n",
       "       [5.09186138e-01, 4.13090540e-01, 7.93869975e-02, ...,\n",
       "        4.56402006e-05, 1.51506057e-02, 2.04864211e-02],\n",
       "       [4.77645256e-01, 5.99179149e-01, 5.02988048e-02, ...,\n",
       "        2.25492182e-04, 1.34146556e-03, 2.23338372e-03]])"
      ]
     },
     "execution_count": 87,
     "metadata": {},
     "output_type": "execute_result"
    }
   ],
   "source": [
    "x_k2_treino_filtrado"
   ]
  },
  {
   "cell_type": "code",
   "execution_count": 88,
   "metadata": {},
   "outputs": [],
   "source": [
    "### treinando modelo com dados com outliers removidos\n",
    "modeloNB_limpo = GaussianNB()\n",
    "modeloNB_limpo.fit(x_k2_treino_filtrado, y_k2_treino_filtrado)\n",
    "y_k2_previsto_limpo = modeloNB_limpo.predict(x_k2_teste.to_numpy())"
   ]
  },
  {
   "cell_type": "code",
   "execution_count": 89,
   "metadata": {},
   "outputs": [
    {
     "data": {
      "text/plain": [
       "(array(['not planet'], dtype=object), array([1902], dtype=int64))"
      ]
     },
     "execution_count": 89,
     "metadata": {},
     "output_type": "execute_result"
    }
   ],
   "source": [
    "valores_unicos, contagens = np.unique(y_k2_treino_filtrado, return_counts=True)\n",
    "valores_unicos, contagens"
   ]
  },
  {
   "cell_type": "code",
   "execution_count": 85,
   "metadata": {},
   "outputs": [
    {
     "name": "stderr",
     "output_type": "stream",
     "text": [
      "d:\\Drive Unesc\\Meu Drive\\2024-1\\TCC Janaína\\Projeto3\\EstelarClass\\venv\\lib\\site-packages\\sklearn\\metrics\\_classification.py:1509: UndefinedMetricWarning: Precision is ill-defined and being set to 0.0 due to no predicted samples. Use `zero_division` parameter to control this behavior.\n",
      "  _warn_prf(average, modifier, f\"{metric.capitalize()} is\", len(result))\n"
     ]
    }
   ],
   "source": [
    "acc_limpo = accuracy_score(y_k2_teste,y_k2_previsto_limpo)\n",
    "pre_limpo = precision_score(y_k2_teste,y_k2_previsto_limpo,pos_label='planet')\n",
    "rec_limpo = recall_score(y_k2_teste,y_k2_previsto_limpo,pos_label='planet')\n",
    "f1_limpo = f1_score(y_k2_teste,y_k2_previsto_limpo,pos_label='planet')"
   ]
  },
  {
   "cell_type": "code",
   "execution_count": 62,
   "metadata": {},
   "outputs": [
    {
     "data": {
      "text/plain": [
       "(0.8731808731808732, 0.13721413721413722)"
      ]
     },
     "execution_count": 62,
     "metadata": {},
     "output_type": "execute_result"
    }
   ],
   "source": [
    "acc_nao_balanceado,acc_limpo"
   ]
  },
  {
   "cell_type": "code",
   "execution_count": 58,
   "metadata": {},
   "outputs": [
    {
     "data": {
      "text/plain": [
       "(0.919431279620853, 0.0)"
      ]
     },
     "execution_count": 58,
     "metadata": {},
     "output_type": "execute_result"
    }
   ],
   "source": [
    "pre_nao_balanceado,pre_limpo"
   ]
  },
  {
   "cell_type": "code",
   "execution_count": 59,
   "metadata": {},
   "outputs": [
    {
     "data": {
      "text/plain": [
       "(0.9349397590361446, 0.0)"
      ]
     },
     "execution_count": 59,
     "metadata": {},
     "output_type": "execute_result"
    }
   ],
   "source": [
    "rec_nao_balanceado,rec_limpo"
   ]
  },
  {
   "cell_type": "code",
   "execution_count": 60,
   "metadata": {},
   "outputs": [
    {
     "data": {
      "text/plain": [
       "(0.927120669056153, 0.0)"
      ]
     },
     "execution_count": 60,
     "metadata": {},
     "output_type": "execute_result"
    }
   ],
   "source": [
    "f1_nao_balanceado,f1_limpo"
   ]
  },
  {
   "cell_type": "code",
   "execution_count": null,
   "metadata": {},
   "outputs": [],
   "source": []
  },
  {
   "cell_type": "code",
   "execution_count": null,
   "metadata": {},
   "outputs": [],
   "source": []
  }
 ],
 "metadata": {
  "kernelspec": {
   "display_name": "base",
   "language": "python",
   "name": "python3"
  },
  "language_info": {
   "codemirror_mode": {
    "name": "ipython",
    "version": 3
   },
   "file_extension": ".py",
   "mimetype": "text/x-python",
   "name": "python",
   "nbconvert_exporter": "python",
   "pygments_lexer": "ipython3",
   "version": "3.9.13"
  }
 },
 "nbformat": 4,
 "nbformat_minor": 2
}

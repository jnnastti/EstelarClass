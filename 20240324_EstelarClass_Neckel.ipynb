{
 "cells": [
  {
   "cell_type": "code",
   "execution_count": 1,
   "metadata": {},
   "outputs": [],
   "source": [
    "import pandas as pd"
   ]
  },
  {
   "cell_type": "markdown",
   "metadata": {},
   "source": [
    "Tratando colunas da Missão KEPLER "
   ]
  },
  {
   "cell_type": "code",
   "execution_count": 2,
   "metadata": {},
   "outputs": [
    {
     "data": {
      "text/html": [
       "<div>\n",
       "<style scoped>\n",
       "    .dataframe tbody tr th:only-of-type {\n",
       "        vertical-align: middle;\n",
       "    }\n",
       "\n",
       "    .dataframe tbody tr th {\n",
       "        vertical-align: top;\n",
       "    }\n",
       "\n",
       "    .dataframe thead th {\n",
       "        text-align: right;\n",
       "    }\n",
       "</style>\n",
       "<table border=\"1\" class=\"dataframe\">\n",
       "  <thead>\n",
       "    <tr style=\"text-align: right;\">\n",
       "      <th></th>\n",
       "      <th>classification</th>\n",
       "      <th>longitude</th>\n",
       "      <th>latitude</th>\n",
       "      <th>stellar_temperature</th>\n",
       "      <th>stellar_radius</th>\n",
       "      <th>planet_radius</th>\n",
       "      <th>eq_temperature</th>\n",
       "      <th>stellar_sur_gravity</th>\n",
       "      <th>orbital_period</th>\n",
       "      <th>depth</th>\n",
       "      <th>insol_flux</th>\n",
       "    </tr>\n",
       "  </thead>\n",
       "  <tbody>\n",
       "    <tr>\n",
       "      <th>0</th>\n",
       "      <td>CONFIRMED</td>\n",
       "      <td>291.93423</td>\n",
       "      <td>48.141651</td>\n",
       "      <td>5455.0</td>\n",
       "      <td>0.927</td>\n",
       "      <td>2.26</td>\n",
       "      <td>793.0</td>\n",
       "      <td>4.467</td>\n",
       "      <td>9.488036</td>\n",
       "      <td>615.8</td>\n",
       "      <td>93.59</td>\n",
       "    </tr>\n",
       "    <tr>\n",
       "      <th>1</th>\n",
       "      <td>CONFIRMED</td>\n",
       "      <td>291.93423</td>\n",
       "      <td>48.141651</td>\n",
       "      <td>5455.0</td>\n",
       "      <td>0.927</td>\n",
       "      <td>2.83</td>\n",
       "      <td>443.0</td>\n",
       "      <td>4.467</td>\n",
       "      <td>54.418383</td>\n",
       "      <td>874.8</td>\n",
       "      <td>9.11</td>\n",
       "    </tr>\n",
       "    <tr>\n",
       "      <th>2</th>\n",
       "      <td>CANDIDATE</td>\n",
       "      <td>297.00482</td>\n",
       "      <td>48.134129</td>\n",
       "      <td>5853.0</td>\n",
       "      <td>0.868</td>\n",
       "      <td>14.60</td>\n",
       "      <td>638.0</td>\n",
       "      <td>4.544</td>\n",
       "      <td>19.899140</td>\n",
       "      <td>10829.0</td>\n",
       "      <td>39.30</td>\n",
       "    </tr>\n",
       "    <tr>\n",
       "      <th>3</th>\n",
       "      <td>FALSE POSITIVE</td>\n",
       "      <td>285.53461</td>\n",
       "      <td>48.285210</td>\n",
       "      <td>5805.0</td>\n",
       "      <td>0.791</td>\n",
       "      <td>33.46</td>\n",
       "      <td>1395.0</td>\n",
       "      <td>4.564</td>\n",
       "      <td>1.736952</td>\n",
       "      <td>8079.2</td>\n",
       "      <td>891.96</td>\n",
       "    </tr>\n",
       "    <tr>\n",
       "      <th>4</th>\n",
       "      <td>CONFIRMED</td>\n",
       "      <td>288.75488</td>\n",
       "      <td>48.226200</td>\n",
       "      <td>6031.0</td>\n",
       "      <td>1.046</td>\n",
       "      <td>2.75</td>\n",
       "      <td>1406.0</td>\n",
       "      <td>4.438</td>\n",
       "      <td>2.525592</td>\n",
       "      <td>603.3</td>\n",
       "      <td>926.16</td>\n",
       "    </tr>\n",
       "  </tbody>\n",
       "</table>\n",
       "</div>"
      ],
      "text/plain": [
       "   classification  longitude   latitude  stellar_temperature  stellar_radius  \\\n",
       "0       CONFIRMED  291.93423  48.141651               5455.0           0.927   \n",
       "1       CONFIRMED  291.93423  48.141651               5455.0           0.927   \n",
       "2       CANDIDATE  297.00482  48.134129               5853.0           0.868   \n",
       "3  FALSE POSITIVE  285.53461  48.285210               5805.0           0.791   \n",
       "4       CONFIRMED  288.75488  48.226200               6031.0           1.046   \n",
       "\n",
       "   planet_radius  eq_temperature  stellar_sur_gravity  orbital_period  \\\n",
       "0           2.26           793.0                4.467        9.488036   \n",
       "1           2.83           443.0                4.467       54.418383   \n",
       "2          14.60           638.0                4.544       19.899140   \n",
       "3          33.46          1395.0                4.564        1.736952   \n",
       "4           2.75          1406.0                4.438        2.525592   \n",
       "\n",
       "     depth  insol_flux  \n",
       "0    615.8       93.59  \n",
       "1    874.8        9.11  \n",
       "2  10829.0       39.30  \n",
       "3   8079.2      891.96  \n",
       "4    603.3      926.16  "
      ]
     },
     "execution_count": 2,
     "metadata": {},
     "output_type": "execute_result"
    }
   ],
   "source": [
    "kepler = pd.read_csv('./data/kepler/kepler.csv')\n",
    "\n",
    "kepler_columns = [\n",
    "    'koi_disposition',\n",
    "    'ra',\n",
    "    'dec',\n",
    "    'koi_steff',\n",
    "    'koi_srad',\n",
    "    'koi_prad',\n",
    "    'koi_teq',\n",
    "    'koi_slogg',\n",
    "    'koi_period',\n",
    "   # 'koi_duration',\n",
    "    'koi_depth',\n",
    "    'koi_insol'\n",
    "]\n",
    "\n",
    "kepler_data = kepler[kepler_columns].copy()\n",
    "\n",
    "kepler_columns_name = {\n",
    "    'koi_disposition': 'classification',\n",
    "    'ra' : 'longitude',\n",
    "    'dec' : 'latitude',\n",
    "    'koi_steff' : 'stellar_temperature',\n",
    "    'koi_srad' : 'stellar_radius',\n",
    "    'koi_prad' : 'planet_radius',\n",
    "    'koi_teq' : 'eq_temperature',\n",
    "    'koi_slogg' : 'stellar_sur_gravity',\n",
    "    'koi_period' : 'orbital_period',\n",
    "   # 'koi_duration' : 'duration',\n",
    "    'koi_depth' : 'depth',\n",
    "    'koi_insol' : 'insol_flux'\n",
    "}\n",
    "\n",
    "kepler_data.rename(columns=kepler_columns_name, inplace=True)\n",
    "\n",
    "kepler_data.head(5)"
   ]
  },
  {
   "cell_type": "markdown",
   "metadata": {},
   "source": [
    "Tratando colunas da Missão K2"
   ]
  },
  {
   "cell_type": "code",
   "execution_count": 3,
   "metadata": {},
   "outputs": [
    {
     "data": {
      "text/html": [
       "<div>\n",
       "<style scoped>\n",
       "    .dataframe tbody tr th:only-of-type {\n",
       "        vertical-align: middle;\n",
       "    }\n",
       "\n",
       "    .dataframe tbody tr th {\n",
       "        vertical-align: top;\n",
       "    }\n",
       "\n",
       "    .dataframe thead th {\n",
       "        text-align: right;\n",
       "    }\n",
       "</style>\n",
       "<table border=\"1\" class=\"dataframe\">\n",
       "  <thead>\n",
       "    <tr style=\"text-align: right;\">\n",
       "      <th></th>\n",
       "      <th>classification</th>\n",
       "      <th>longitude_s</th>\n",
       "      <th>longitude</th>\n",
       "      <th>latitude_s</th>\n",
       "      <th>latitude</th>\n",
       "      <th>stellar_temperature</th>\n",
       "      <th>stellar_radius</th>\n",
       "      <th>planet_radius</th>\n",
       "      <th>eq_temperature</th>\n",
       "      <th>distance</th>\n",
       "      <th>stellar_sur_gravity</th>\n",
       "      <th>orbital_period</th>\n",
       "      <th>insol_flux</th>\n",
       "    </tr>\n",
       "  </thead>\n",
       "  <tbody>\n",
       "    <tr>\n",
       "      <th>0</th>\n",
       "      <td>CONFIRMED</td>\n",
       "      <td>03h34m36.27s</td>\n",
       "      <td>53.651123</td>\n",
       "      <td>+20d35m56.47s</td>\n",
       "      <td>20.599021</td>\n",
       "      <td>5766.00</td>\n",
       "      <td>1.08</td>\n",
       "      <td>2.578</td>\n",
       "      <td>NaN</td>\n",
       "      <td>179.4610</td>\n",
       "      <td>4.50</td>\n",
       "      <td>41.685500</td>\n",
       "      <td>NaN</td>\n",
       "    </tr>\n",
       "    <tr>\n",
       "      <th>1</th>\n",
       "      <td>CONFIRMED</td>\n",
       "      <td>03h34m36.27s</td>\n",
       "      <td>53.651123</td>\n",
       "      <td>+20d35m56.47s</td>\n",
       "      <td>20.599021</td>\n",
       "      <td>5766.00</td>\n",
       "      <td>0.93</td>\n",
       "      <td>2.230</td>\n",
       "      <td>546.0</td>\n",
       "      <td>179.4610</td>\n",
       "      <td>4.50</td>\n",
       "      <td>41.685500</td>\n",
       "      <td>NaN</td>\n",
       "    </tr>\n",
       "    <tr>\n",
       "      <th>2</th>\n",
       "      <td>CONFIRMED</td>\n",
       "      <td>03h34m36.27s</td>\n",
       "      <td>53.651123</td>\n",
       "      <td>+20d35m56.47s</td>\n",
       "      <td>20.599021</td>\n",
       "      <td>5703.00</td>\n",
       "      <td>0.96</td>\n",
       "      <td>2.355</td>\n",
       "      <td>NaN</td>\n",
       "      <td>179.4610</td>\n",
       "      <td>4.38</td>\n",
       "      <td>41.688644</td>\n",
       "      <td>NaN</td>\n",
       "    </tr>\n",
       "    <tr>\n",
       "      <th>3</th>\n",
       "      <td>CANDIDATE</td>\n",
       "      <td>12h15m23.10s</td>\n",
       "      <td>183.846245</td>\n",
       "      <td>-06d16m05.98s</td>\n",
       "      <td>-6.268329</td>\n",
       "      <td>4616.52</td>\n",
       "      <td>0.76</td>\n",
       "      <td>1.120</td>\n",
       "      <td>1054.0</td>\n",
       "      <td>97.1795</td>\n",
       "      <td>4.54</td>\n",
       "      <td>2.301830</td>\n",
       "      <td>NaN</td>\n",
       "    </tr>\n",
       "    <tr>\n",
       "      <th>4</th>\n",
       "      <td>CANDIDATE</td>\n",
       "      <td>12h15m23.10s</td>\n",
       "      <td>183.846245</td>\n",
       "      <td>-06d16m05.98s</td>\n",
       "      <td>-6.268329</td>\n",
       "      <td>4720.00</td>\n",
       "      <td>0.71</td>\n",
       "      <td>1.313</td>\n",
       "      <td>NaN</td>\n",
       "      <td>97.1795</td>\n",
       "      <td>4.50</td>\n",
       "      <td>2.302368</td>\n",
       "      <td>NaN</td>\n",
       "    </tr>\n",
       "  </tbody>\n",
       "</table>\n",
       "</div>"
      ],
      "text/plain": [
       "  classification   longitude_s   longitude     latitude_s   latitude  \\\n",
       "0      CONFIRMED  03h34m36.27s   53.651123  +20d35m56.47s  20.599021   \n",
       "1      CONFIRMED  03h34m36.27s   53.651123  +20d35m56.47s  20.599021   \n",
       "2      CONFIRMED  03h34m36.27s   53.651123  +20d35m56.47s  20.599021   \n",
       "3      CANDIDATE  12h15m23.10s  183.846245  -06d16m05.98s  -6.268329   \n",
       "4      CANDIDATE  12h15m23.10s  183.846245  -06d16m05.98s  -6.268329   \n",
       "\n",
       "   stellar_temperature  stellar_radius  planet_radius  eq_temperature  \\\n",
       "0              5766.00            1.08          2.578             NaN   \n",
       "1              5766.00            0.93          2.230           546.0   \n",
       "2              5703.00            0.96          2.355             NaN   \n",
       "3              4616.52            0.76          1.120          1054.0   \n",
       "4              4720.00            0.71          1.313             NaN   \n",
       "\n",
       "   distance  stellar_sur_gravity  orbital_period  insol_flux  \n",
       "0  179.4610                 4.50       41.685500         NaN  \n",
       "1  179.4610                 4.50       41.685500         NaN  \n",
       "2  179.4610                 4.38       41.688644         NaN  \n",
       "3   97.1795                 4.54        2.301830         NaN  \n",
       "4   97.1795                 4.50        2.302368         NaN  "
      ]
     },
     "execution_count": 3,
     "metadata": {},
     "output_type": "execute_result"
    }
   ],
   "source": [
    "k2 = pd.read_csv('./data/k2/k2.csv')\n",
    "\n",
    "k2_columns = [\n",
    "    'disposition',\n",
    "    'rastr',\n",
    "    'ra',\n",
    "    'decstr',\n",
    "    'dec',\n",
    "    'st_teff',\n",
    "    'st_rad',\n",
    "    'pl_rade',\n",
    "    'pl_eqt',\n",
    "    'sy_dist',\n",
    "    'st_logg',\n",
    "    'pl_orbper',\n",
    "    'pl_insol'\n",
    "]\n",
    "\n",
    "k2_data = k2[k2_columns].copy()\n",
    "\n",
    "k2_columns_name = {\n",
    "    'disposition': 'classification',\n",
    "    'rastr' : 'longitude_s',\n",
    "    'ra' : 'longitude',\n",
    "    'decstr' : 'latitude_s',\n",
    "    'dec' : 'latitude',\n",
    "    'st_teff' : 'stellar_temperature',\n",
    "    'st_rad' : 'stellar_radius',\n",
    "    'pl_rade' : 'planet_radius',\n",
    "    'pl_eqt' : 'eq_temperature',\n",
    "    'sy_dist' : 'distance',\n",
    "    'st_logg' : 'stellar_sur_gravity',\n",
    "    'pl_orbper' : 'orbital_period',\n",
    "    'pl_insol' : 'insol_flux'\n",
    "}\n",
    "\n",
    "k2_data.rename(columns=k2_columns_name, inplace=True)\n",
    "\n",
    "k2_data.head(5)"
   ]
  },
  {
   "cell_type": "markdown",
   "metadata": {},
   "source": [
    "Tratando colunas da Missão TESS"
   ]
  },
  {
   "cell_type": "code",
   "execution_count": 4,
   "metadata": {},
   "outputs": [
    {
     "data": {
      "text/html": [
       "<div>\n",
       "<style scoped>\n",
       "    .dataframe tbody tr th:only-of-type {\n",
       "        vertical-align: middle;\n",
       "    }\n",
       "\n",
       "    .dataframe tbody tr th {\n",
       "        vertical-align: top;\n",
       "    }\n",
       "\n",
       "    .dataframe thead th {\n",
       "        text-align: right;\n",
       "    }\n",
       "</style>\n",
       "<table border=\"1\" class=\"dataframe\">\n",
       "  <thead>\n",
       "    <tr style=\"text-align: right;\">\n",
       "      <th></th>\n",
       "      <th>classification</th>\n",
       "      <th>longitude_s</th>\n",
       "      <th>longitude</th>\n",
       "      <th>latitude_s</th>\n",
       "      <th>latitude</th>\n",
       "      <th>stellar_temperature</th>\n",
       "      <th>stellar_radius</th>\n",
       "      <th>planet_radius</th>\n",
       "      <th>eq_temperature</th>\n",
       "      <th>distance</th>\n",
       "      <th>stellar_sur_gravity</th>\n",
       "      <th>orbital_period</th>\n",
       "      <th>depth</th>\n",
       "      <th>insol_flux</th>\n",
       "    </tr>\n",
       "  </thead>\n",
       "  <tbody>\n",
       "    <tr>\n",
       "      <th>0</th>\n",
       "      <td>FP</td>\n",
       "      <td>07h29m25.85s</td>\n",
       "      <td>112.357708</td>\n",
       "      <td>-12d41m45.46s</td>\n",
       "      <td>-12.695960</td>\n",
       "      <td>10249.0</td>\n",
       "      <td>2.16986</td>\n",
       "      <td>5.818163</td>\n",
       "      <td>3127.204052</td>\n",
       "      <td>485.735</td>\n",
       "      <td>4.19</td>\n",
       "      <td>2.171348</td>\n",
       "      <td>656.886099</td>\n",
       "      <td>22601.948581</td>\n",
       "    </tr>\n",
       "    <tr>\n",
       "      <th>1</th>\n",
       "      <td>PC</td>\n",
       "      <td>08h10m19.31s</td>\n",
       "      <td>122.580465</td>\n",
       "      <td>-05d30m49.87s</td>\n",
       "      <td>-5.513852</td>\n",
       "      <td>7070.0</td>\n",
       "      <td>2.01000</td>\n",
       "      <td>11.215400</td>\n",
       "      <td>4045.000000</td>\n",
       "      <td>295.862</td>\n",
       "      <td>4.03</td>\n",
       "      <td>1.931646</td>\n",
       "      <td>1286.000000</td>\n",
       "      <td>44464.500000</td>\n",
       "    </tr>\n",
       "    <tr>\n",
       "      <th>2</th>\n",
       "      <td>FP</td>\n",
       "      <td>06h58m54.47s</td>\n",
       "      <td>104.726966</td>\n",
       "      <td>-10d34m49.64s</td>\n",
       "      <td>-10.580455</td>\n",
       "      <td>8924.0</td>\n",
       "      <td>5.73000</td>\n",
       "      <td>23.752900</td>\n",
       "      <td>2037.000000</td>\n",
       "      <td>943.109</td>\n",
       "      <td>NaN</td>\n",
       "      <td>1.867557</td>\n",
       "      <td>1500.000000</td>\n",
       "      <td>2860.610000</td>\n",
       "    </tr>\n",
       "    <tr>\n",
       "      <th>3</th>\n",
       "      <td>FP</td>\n",
       "      <td>07h22m14.39s</td>\n",
       "      <td>110.559945</td>\n",
       "      <td>-25d12m25.26s</td>\n",
       "      <td>-25.207017</td>\n",
       "      <td>5388.5</td>\n",
       "      <td>NaN</td>\n",
       "      <td>NaN</td>\n",
       "      <td>1631.000000</td>\n",
       "      <td>7728.170</td>\n",
       "      <td>4.15</td>\n",
       "      <td>2.743230</td>\n",
       "      <td>383.410000</td>\n",
       "      <td>1177.360000</td>\n",
       "    </tr>\n",
       "    <tr>\n",
       "      <th>4</th>\n",
       "      <td>FP</td>\n",
       "      <td>08h08m42.77s</td>\n",
       "      <td>122.178195</td>\n",
       "      <td>-48d48m10.12s</td>\n",
       "      <td>-48.802811</td>\n",
       "      <td>9219.0</td>\n",
       "      <td>2.15000</td>\n",
       "      <td>11.311300</td>\n",
       "      <td>4260.000000</td>\n",
       "      <td>356.437</td>\n",
       "      <td>4.14</td>\n",
       "      <td>3.573014</td>\n",
       "      <td>755.000000</td>\n",
       "      <td>54679.300000</td>\n",
       "    </tr>\n",
       "  </tbody>\n",
       "</table>\n",
       "</div>"
      ],
      "text/plain": [
       "  classification   longitude_s   longitude     latitude_s   latitude  \\\n",
       "0             FP  07h29m25.85s  112.357708  -12d41m45.46s -12.695960   \n",
       "1             PC  08h10m19.31s  122.580465  -05d30m49.87s  -5.513852   \n",
       "2             FP  06h58m54.47s  104.726966  -10d34m49.64s -10.580455   \n",
       "3             FP  07h22m14.39s  110.559945  -25d12m25.26s -25.207017   \n",
       "4             FP  08h08m42.77s  122.178195  -48d48m10.12s -48.802811   \n",
       "\n",
       "   stellar_temperature  stellar_radius  planet_radius  eq_temperature  \\\n",
       "0              10249.0         2.16986       5.818163     3127.204052   \n",
       "1               7070.0         2.01000      11.215400     4045.000000   \n",
       "2               8924.0         5.73000      23.752900     2037.000000   \n",
       "3               5388.5             NaN            NaN     1631.000000   \n",
       "4               9219.0         2.15000      11.311300     4260.000000   \n",
       "\n",
       "   distance  stellar_sur_gravity  orbital_period        depth    insol_flux  \n",
       "0   485.735                 4.19        2.171348   656.886099  22601.948581  \n",
       "1   295.862                 4.03        1.931646  1286.000000  44464.500000  \n",
       "2   943.109                  NaN        1.867557  1500.000000   2860.610000  \n",
       "3  7728.170                 4.15        2.743230   383.410000   1177.360000  \n",
       "4   356.437                 4.14        3.573014   755.000000  54679.300000  "
      ]
     },
     "execution_count": 4,
     "metadata": {},
     "output_type": "execute_result"
    }
   ],
   "source": [
    "tess = pd.read_csv('./data/tess/tess.csv')\n",
    "\n",
    "tess_columns = [\n",
    "    'tfopwg_disp',\n",
    "    'rastr',\n",
    "    'ra',\n",
    "    'decstr',\n",
    "    'dec',\n",
    "    'st_teff',\n",
    "    'st_rad',\n",
    "    'pl_rade',\n",
    "    'pl_eqt',\n",
    "    'st_dist',\n",
    "    'st_logg',\n",
    "    'pl_orbper',\n",
    "   # 'pl_trandurh',\n",
    "    'pl_trandep',\n",
    "    'pl_insol'\n",
    "]\n",
    "\n",
    "tess_data = tess[tess_columns].copy()\n",
    "\n",
    "tess_columns_name = {\n",
    "    'tfopwg_disp': 'classification',\n",
    "    'rastr' : 'longitude_s',\n",
    "    'ra' : 'longitude',\n",
    "    'decstr' : 'latitude_s',\n",
    "    'dec' : 'latitude',\n",
    "    'st_teff' : 'stellar_temperature',\n",
    "    'st_rad' : 'stellar_radius',\n",
    "    'pl_rade' : 'planet_radius',\n",
    "    'pl_eqt' : 'eq_temperature',\n",
    "    'st_dist' : 'distance',\n",
    "    'st_logg' : 'stellar_sur_gravity',\n",
    "    'pl_orbper' : 'orbital_period',\n",
    "   # 'pl_trandurh' : 'duration',\n",
    "    'pl_trandep' : 'depth',\n",
    "    'pl_insol' : 'insol_flux'\n",
    "}\n",
    "\n",
    "tess_data.rename(columns=tess_columns_name, inplace=True)\n",
    "\n",
    "\n",
    "tess_data.head(5)"
   ]
  },
  {
   "cell_type": "markdown",
   "metadata": {},
   "source": [
    "1 - Converter as coordenadas de Kepler (Retângulares Ascensão Retilínea - RA e Declinação - Dec (latitude e longitude)) de graus para unidades sexagesimais"
   ]
  },
  {
   "cell_type": "code",
   "execution_count": 5,
   "metadata": {},
   "outputs": [
    {
     "data": {
      "text/html": [
       "<div>\n",
       "<style scoped>\n",
       "    .dataframe tbody tr th:only-of-type {\n",
       "        vertical-align: middle;\n",
       "    }\n",
       "\n",
       "    .dataframe tbody tr th {\n",
       "        vertical-align: top;\n",
       "    }\n",
       "\n",
       "    .dataframe thead th {\n",
       "        text-align: right;\n",
       "    }\n",
       "</style>\n",
       "<table border=\"1\" class=\"dataframe\">\n",
       "  <thead>\n",
       "    <tr style=\"text-align: right;\">\n",
       "      <th></th>\n",
       "      <th>classification</th>\n",
       "      <th>longitude</th>\n",
       "      <th>latitude</th>\n",
       "      <th>stellar_temperature</th>\n",
       "      <th>stellar_radius</th>\n",
       "      <th>planet_radius</th>\n",
       "      <th>eq_temperature</th>\n",
       "      <th>stellar_sur_gravity</th>\n",
       "      <th>orbital_period</th>\n",
       "      <th>depth</th>\n",
       "      <th>insol_flux</th>\n",
       "      <th>longitude_s</th>\n",
       "      <th>latitude_s</th>\n",
       "    </tr>\n",
       "  </thead>\n",
       "  <tbody>\n",
       "    <tr>\n",
       "      <th>0</th>\n",
       "      <td>CONFIRMED</td>\n",
       "      <td>291.93423</td>\n",
       "      <td>48.141651</td>\n",
       "      <td>5455.0</td>\n",
       "      <td>0.927</td>\n",
       "      <td>2.26</td>\n",
       "      <td>793.0</td>\n",
       "      <td>4.467</td>\n",
       "      <td>9.488036</td>\n",
       "      <td>615.8</td>\n",
       "      <td>93.59</td>\n",
       "      <td>291h56m3.23s</td>\n",
       "      <td>48h8m29.94s</td>\n",
       "    </tr>\n",
       "    <tr>\n",
       "      <th>1</th>\n",
       "      <td>CONFIRMED</td>\n",
       "      <td>291.93423</td>\n",
       "      <td>48.141651</td>\n",
       "      <td>5455.0</td>\n",
       "      <td>0.927</td>\n",
       "      <td>2.83</td>\n",
       "      <td>443.0</td>\n",
       "      <td>4.467</td>\n",
       "      <td>54.418383</td>\n",
       "      <td>874.8</td>\n",
       "      <td>9.11</td>\n",
       "      <td>291h56m3.23s</td>\n",
       "      <td>48h8m29.94s</td>\n",
       "    </tr>\n",
       "    <tr>\n",
       "      <th>2</th>\n",
       "      <td>CANDIDATE</td>\n",
       "      <td>297.00482</td>\n",
       "      <td>48.134129</td>\n",
       "      <td>5853.0</td>\n",
       "      <td>0.868</td>\n",
       "      <td>14.60</td>\n",
       "      <td>638.0</td>\n",
       "      <td>4.544</td>\n",
       "      <td>19.899140</td>\n",
       "      <td>10829.0</td>\n",
       "      <td>39.30</td>\n",
       "      <td>297h0m17.35s</td>\n",
       "      <td>48h8m2.86s</td>\n",
       "    </tr>\n",
       "    <tr>\n",
       "      <th>3</th>\n",
       "      <td>FALSE POSITIVE</td>\n",
       "      <td>285.53461</td>\n",
       "      <td>48.285210</td>\n",
       "      <td>5805.0</td>\n",
       "      <td>0.791</td>\n",
       "      <td>33.46</td>\n",
       "      <td>1395.0</td>\n",
       "      <td>4.564</td>\n",
       "      <td>1.736952</td>\n",
       "      <td>8079.2</td>\n",
       "      <td>891.96</td>\n",
       "      <td>285h32m4.60s</td>\n",
       "      <td>48h17m6.76s</td>\n",
       "    </tr>\n",
       "    <tr>\n",
       "      <th>4</th>\n",
       "      <td>CONFIRMED</td>\n",
       "      <td>288.75488</td>\n",
       "      <td>48.226200</td>\n",
       "      <td>6031.0</td>\n",
       "      <td>1.046</td>\n",
       "      <td>2.75</td>\n",
       "      <td>1406.0</td>\n",
       "      <td>4.438</td>\n",
       "      <td>2.525592</td>\n",
       "      <td>603.3</td>\n",
       "      <td>926.16</td>\n",
       "      <td>288h45m17.57s</td>\n",
       "      <td>48h13m34.32s</td>\n",
       "    </tr>\n",
       "  </tbody>\n",
       "</table>\n",
       "</div>"
      ],
      "text/plain": [
       "   classification  longitude   latitude  stellar_temperature  stellar_radius  \\\n",
       "0       CONFIRMED  291.93423  48.141651               5455.0           0.927   \n",
       "1       CONFIRMED  291.93423  48.141651               5455.0           0.927   \n",
       "2       CANDIDATE  297.00482  48.134129               5853.0           0.868   \n",
       "3  FALSE POSITIVE  285.53461  48.285210               5805.0           0.791   \n",
       "4       CONFIRMED  288.75488  48.226200               6031.0           1.046   \n",
       "\n",
       "   planet_radius  eq_temperature  stellar_sur_gravity  orbital_period  \\\n",
       "0           2.26           793.0                4.467        9.488036   \n",
       "1           2.83           443.0                4.467       54.418383   \n",
       "2          14.60           638.0                4.544       19.899140   \n",
       "3          33.46          1395.0                4.564        1.736952   \n",
       "4           2.75          1406.0                4.438        2.525592   \n",
       "\n",
       "     depth  insol_flux    longitude_s    latitude_s  \n",
       "0    615.8       93.59   291h56m3.23s   48h8m29.94s  \n",
       "1    874.8        9.11   291h56m3.23s   48h8m29.94s  \n",
       "2  10829.0       39.30   297h0m17.35s    48h8m2.86s  \n",
       "3   8079.2      891.96   285h32m4.60s   48h17m6.76s  \n",
       "4    603.3      926.16  288h45m17.57s  48h13m34.32s  "
      ]
     },
     "execution_count": 5,
     "metadata": {},
     "output_type": "execute_result"
    }
   ],
   "source": [
    "def decimal_to_sexagesimal(decimal_degrees):\n",
    "    degrees = int(decimal_degrees)\n",
    "    minutes = int((decimal_degrees - degrees) * 60)\n",
    "    seconds = (decimal_degrees - degrees - minutes / 60) * 3600\n",
    "    return f\"{degrees}h{minutes}m{seconds:.2f}s\"\n",
    "\n",
    "kepler_data['longitude_s'] = kepler_data['longitude'].apply(decimal_to_sexagesimal)\n",
    "kepler_data['latitude_s'] = kepler_data['latitude'].apply(decimal_to_sexagesimal)\n",
    "\n",
    "kepler_data.head(5)"
   ]
  },
  {
   "cell_type": "markdown",
   "metadata": {},
   "source": [
    "2 - Definindo a distance da missão Kepler em pc"
   ]
  },
  {
   "cell_type": "code",
   "execution_count": 6,
   "metadata": {},
   "outputs": [
    {
     "data": {
      "text/html": [
       "<div>\n",
       "<style scoped>\n",
       "    .dataframe tbody tr th:only-of-type {\n",
       "        vertical-align: middle;\n",
       "    }\n",
       "\n",
       "    .dataframe tbody tr th {\n",
       "        vertical-align: top;\n",
       "    }\n",
       "\n",
       "    .dataframe thead th {\n",
       "        text-align: right;\n",
       "    }\n",
       "</style>\n",
       "<table border=\"1\" class=\"dataframe\">\n",
       "  <thead>\n",
       "    <tr style=\"text-align: right;\">\n",
       "      <th></th>\n",
       "      <th>classification</th>\n",
       "      <th>longitude</th>\n",
       "      <th>latitude</th>\n",
       "      <th>stellar_temperature</th>\n",
       "      <th>stellar_radius</th>\n",
       "      <th>planet_radius</th>\n",
       "      <th>eq_temperature</th>\n",
       "      <th>stellar_sur_gravity</th>\n",
       "      <th>orbital_period</th>\n",
       "      <th>depth</th>\n",
       "      <th>insol_flux</th>\n",
       "      <th>longitude_s</th>\n",
       "      <th>latitude_s</th>\n",
       "      <th>distance</th>\n",
       "    </tr>\n",
       "  </thead>\n",
       "  <tbody>\n",
       "    <tr>\n",
       "      <th>0</th>\n",
       "      <td>CONFIRMED</td>\n",
       "      <td>291.93423</td>\n",
       "      <td>48.141651</td>\n",
       "      <td>5455.0</td>\n",
       "      <td>0.927</td>\n",
       "      <td>2.26</td>\n",
       "      <td>793.0</td>\n",
       "      <td>4.467</td>\n",
       "      <td>9.488036</td>\n",
       "      <td>615.8</td>\n",
       "      <td>93.59</td>\n",
       "      <td>291h56m3.23s</td>\n",
       "      <td>48h8m29.94s</td>\n",
       "      <td>678.962909</td>\n",
       "    </tr>\n",
       "    <tr>\n",
       "      <th>1</th>\n",
       "      <td>CONFIRMED</td>\n",
       "      <td>291.93423</td>\n",
       "      <td>48.141651</td>\n",
       "      <td>5455.0</td>\n",
       "      <td>0.927</td>\n",
       "      <td>2.83</td>\n",
       "      <td>443.0</td>\n",
       "      <td>4.467</td>\n",
       "      <td>54.418383</td>\n",
       "      <td>874.8</td>\n",
       "      <td>9.11</td>\n",
       "      <td>291h56m3.23s</td>\n",
       "      <td>48h8m29.94s</td>\n",
       "      <td>2176.213925</td>\n",
       "    </tr>\n",
       "    <tr>\n",
       "      <th>2</th>\n",
       "      <td>CANDIDATE</td>\n",
       "      <td>297.00482</td>\n",
       "      <td>48.134129</td>\n",
       "      <td>5853.0</td>\n",
       "      <td>0.868</td>\n",
       "      <td>14.60</td>\n",
       "      <td>638.0</td>\n",
       "      <td>4.544</td>\n",
       "      <td>19.899140</td>\n",
       "      <td>10829.0</td>\n",
       "      <td>39.30</td>\n",
       "      <td>297h0m17.35s</td>\n",
       "      <td>48h8m2.86s</td>\n",
       "      <td>1129.463050</td>\n",
       "    </tr>\n",
       "    <tr>\n",
       "      <th>3</th>\n",
       "      <td>FALSE POSITIVE</td>\n",
       "      <td>285.53461</td>\n",
       "      <td>48.285210</td>\n",
       "      <td>5805.0</td>\n",
       "      <td>0.791</td>\n",
       "      <td>33.46</td>\n",
       "      <td>1395.0</td>\n",
       "      <td>4.564</td>\n",
       "      <td>1.736952</td>\n",
       "      <td>8079.2</td>\n",
       "      <td>891.96</td>\n",
       "      <td>285h32m4.60s</td>\n",
       "      <td>48h17m6.76s</td>\n",
       "      <td>212.519983</td>\n",
       "    </tr>\n",
       "    <tr>\n",
       "      <th>4</th>\n",
       "      <td>CONFIRMED</td>\n",
       "      <td>288.75488</td>\n",
       "      <td>48.226200</td>\n",
       "      <td>6031.0</td>\n",
       "      <td>1.046</td>\n",
       "      <td>2.75</td>\n",
       "      <td>1406.0</td>\n",
       "      <td>4.438</td>\n",
       "      <td>2.525592</td>\n",
       "      <td>603.3</td>\n",
       "      <td>926.16</td>\n",
       "      <td>288h45m17.57s</td>\n",
       "      <td>48h13m34.32s</td>\n",
       "      <td>297.686309</td>\n",
       "    </tr>\n",
       "  </tbody>\n",
       "</table>\n",
       "</div>"
      ],
      "text/plain": [
       "   classification  longitude   latitude  stellar_temperature  stellar_radius  \\\n",
       "0       CONFIRMED  291.93423  48.141651               5455.0           0.927   \n",
       "1       CONFIRMED  291.93423  48.141651               5455.0           0.927   \n",
       "2       CANDIDATE  297.00482  48.134129               5853.0           0.868   \n",
       "3  FALSE POSITIVE  285.53461  48.285210               5805.0           0.791   \n",
       "4       CONFIRMED  288.75488  48.226200               6031.0           1.046   \n",
       "\n",
       "   planet_radius  eq_temperature  stellar_sur_gravity  orbital_period  \\\n",
       "0           2.26           793.0                4.467        9.488036   \n",
       "1           2.83           443.0                4.467       54.418383   \n",
       "2          14.60           638.0                4.544       19.899140   \n",
       "3          33.46          1395.0                4.564        1.736952   \n",
       "4           2.75          1406.0                4.438        2.525592   \n",
       "\n",
       "     depth  insol_flux    longitude_s    latitude_s     distance  \n",
       "0    615.8       93.59   291h56m3.23s   48h8m29.94s   678.962909  \n",
       "1    874.8        9.11   291h56m3.23s   48h8m29.94s  2176.213925  \n",
       "2  10829.0       39.30   297h0m17.35s    48h8m2.86s  1129.463050  \n",
       "3   8079.2      891.96   285h32m4.60s   48h17m6.76s   212.519983  \n",
       "4    603.3      926.16  288h45m17.57s  48h13m34.32s   297.686309  "
      ]
     },
     "execution_count": 6,
     "metadata": {},
     "output_type": "execute_result"
    }
   ],
   "source": [
    "import numpy as np\n",
    "\n",
    "# Constante de Stefan-Boltzmann (W/m^2K^4)\n",
    "sigma = 5.67e-8  \n",
    "\n",
    "# Função para calcular a luminosidade da estrela em termos de luminosidade solar\n",
    "def calculate_luminosity(stellar_radius, stellar_temperature):\n",
    "    return 4 * np.pi * (stellar_radius ** 2) * sigma * (stellar_temperature ** 4)\n",
    "\n",
    "# Function to calculate stellar distance in parsecs\n",
    "def calculate_stellar_distance(luminosity, insolation_flux):\n",
    "    return np.sqrt(luminosity / (4 * np.pi * insolation_flux))\n",
    "\n",
    "# Calcular a luminosidade da estrela\n",
    "luminosidade = calculate_luminosity(kepler_data['stellar_radius'], kepler_data['stellar_temperature'])\n",
    "\n",
    "# Calcular a distância estelar em parsecs\n",
    "kepler_data['distance'] = calculate_stellar_distance(luminosidade, kepler_data['insol_flux'])\n",
    "\n",
    "kepler_data.head(5)"
   ]
  },
  {
   "cell_type": "markdown",
   "metadata": {},
   "source": [
    "3 - Definindo Depth da missão K2"
   ]
  },
  {
   "cell_type": "code",
   "execution_count": 7,
   "metadata": {},
   "outputs": [],
   "source": [
    "\n",
    "import numpy as np\n",
    "\n",
    "def transit_depth(planet_radius, star_radius):\n",
    "    \"\"\"\n",
    "    Calculates the transit depth of an exoplanet.\n",
    "\n",
    "    Args:\n",
    "    planet_radius (float): Radius of the planet in Earth radii.\n",
    "    star_radius (float): Radius of the star in Solar radii.\n",
    "\n",
    "    Returns:\n",
    "    float: Transit depth.\n",
    "    \"\"\"\n",
    "    depth = (planet_radius / star_radius) ** 2 * 1e6\n",
    "    return depth\n",
    "\n",
    "# Exemplo de uso:\n",
    "#resultado = transit_depth(14.60, 0.868)\n",
    "k2_data['depth'] = transit_depth(k2_data['planet_radius'], k2_data['stellar_radius'])"
   ]
  },
  {
   "cell_type": "markdown",
   "metadata": {},
   "source": [
    "Tratando dados nulos"
   ]
  },
  {
   "cell_type": "code",
   "execution_count": 8,
   "metadata": {},
   "outputs": [
    {
     "name": "stdout",
     "output_type": "stream",
     "text": [
      "<class 'pandas.core.frame.DataFrame'>\n",
      "RangeIndex: 3773 entries, 0 to 3772\n",
      "Data columns (total 14 columns):\n",
      " #   Column               Non-Null Count  Dtype  \n",
      "---  ------               --------------  -----  \n",
      " 0   classification       3773 non-null   object \n",
      " 1   longitude_s          3773 non-null   object \n",
      " 2   longitude            3773 non-null   float64\n",
      " 3   latitude_s           3773 non-null   object \n",
      " 4   latitude             3773 non-null   float64\n",
      " 5   stellar_temperature  2669 non-null   float64\n",
      " 6   stellar_radius       3651 non-null   float64\n",
      " 7   planet_radius        3016 non-null   float64\n",
      " 8   eq_temperature       700 non-null    float64\n",
      " 9   distance             3650 non-null   float64\n",
      " 10  stellar_sur_gravity  2148 non-null   float64\n",
      " 11  orbital_period       3734 non-null   float64\n",
      " 12  insol_flux           513 non-null    float64\n",
      " 13  depth                2975 non-null   float64\n",
      "dtypes: float64(11), object(3)\n",
      "memory usage: 412.8+ KB\n"
     ]
    }
   ],
   "source": [
    "k2_data.info()"
   ]
  },
  {
   "cell_type": "markdown",
   "metadata": {},
   "source": [
    "- Aqui é importante tomar um pouco mais de cuidado com duas colunas: eq_temperatura e insol_flux, pois elas tem muito menos dados não nulos que as demais. E a quantidade de nulos representa uma proporção bem grande em relação ao shape[0] do DF. Vamos exlorar um pouco"
   ]
  },
  {
   "cell_type": "code",
   "execution_count": 9,
   "metadata": {},
   "outputs": [],
   "source": [
    "import matplotlib.pyplot as plt"
   ]
  },
  {
   "cell_type": "code",
   "execution_count": 14,
   "metadata": {},
   "outputs": [
    {
     "data": {
      "text/plain": [
       "Text(0.5, 1.0, 'Histograma normalizado de k2_data.eq_temperature')"
      ]
     },
     "execution_count": 14,
     "metadata": {},
     "output_type": "execute_result"
    },
    {
     "data": {
      "image/png": "[encoded data removed]",
      "text/plain": [
       "<Figure size 640x480 with 1 Axes>"
      ]
     },
     "metadata": {},
     "output_type": "display_data"
    }
   ],
   "source": [
    "plt.hist(k2_data.eq_temperature,bins = 30,density=True)\n",
    "plt.title('Histograma normalizado de k2_data.eq_temperature')"
   ]
  },
  {
   "cell_type": "markdown",
   "metadata": {},
   "source": [
    "Tem um formato próximo a uma distribuição normal, então vale tentar imputar com valor aleatório baseado na média e desvio padrão. Mas é importante fazer um comparativo de antes e depois da imputação para ver se o formato não mudou muito"
   ]
  },
  {
   "cell_type": "code",
   "execution_count": 19,
   "metadata": {},
   "outputs": [
    {
     "data": {
      "text/plain": [
       "Text(0.5, 1.0, 'Histograma normalizado de k2_data.insol_flux')"
      ]
     },
     "execution_count": 19,
     "metadata": {},
     "output_type": "execute_result"
    },
    {
     "data": {
      "image/png": "[encoded data removed]",
      "text/plain": [
       "<Figure size 640x480 with 1 Axes>"
      ]
     },
     "metadata": {},
     "output_type": "display_data"
    }
   ],
   "source": [
    "plt.hist(k2_data.insol_flux,bins = 30,density=True)\n",
    "plt.title('Histograma normalizado de k2_data.insol_flux')"
   ]
  },
  {
   "cell_type": "markdown",
   "metadata": {},
   "source": [
    "Repare que, neste caso, não há como afirmar que esses dados são distribuídos por meio de uma normal. Vamos averiguar o describe dele"
   ]
  },
  {
   "cell_type": "code",
   "execution_count": 16,
   "metadata": {},
   "outputs": [
    {
     "data": {
      "text/plain": [
       "count     513.000000\n",
       "mean      356.533470\n",
       "std       981.891289\n",
       "min         0.130000\n",
       "25%        16.600000\n",
       "50%        68.550000\n",
       "75%       234.310000\n",
       "max      9668.660000\n",
       "Name: insol_flux, dtype: float64"
      ]
     },
     "execution_count": 16,
     "metadata": {},
     "output_type": "execute_result"
    }
   ],
   "source": [
    "k2_data.insol_flux.describe()"
   ]
  },
  {
   "cell_type": "markdown",
   "metadata": {},
   "source": [
    "50% dos dados tem valor de insol_flux igual ou menor que 68.55 (mediana). E a média é de 981.89. Aqui não faz sentido imputar com valor aleatório basead na média e desvio padrão. Entretanto, também não acho conveniente imputar um valor único (mediana, nesse caso). Aqui vejo duas possibildades:\n",
    "\n",
    "1. Imputar por um valor aleatório de uma distribuição homogênea baseado nos valores da distância interquartil (16.60 e 234.31)\n",
    "2.  Pensar em, primeiro, concatenar os 3 DFs para depois imputar os nulos. Assim teríamos mais dados para averiguar a distribuição dos dados nas colunas que possuem faltantes e tomar uma decisão melhor baseada sobre a imputação."
   ]
  },
  {
   "cell_type": "code",
   "execution_count": 9,
   "metadata": {},
   "outputs": [
    {
     "name": "stdout",
     "output_type": "stream",
     "text": [
      "<class 'pandas.core.frame.DataFrame'>\n",
      "RangeIndex: 9564 entries, 0 to 9563\n",
      "Data columns (total 14 columns):\n",
      " #   Column               Non-Null Count  Dtype  \n",
      "---  ------               --------------  -----  \n",
      " 0   classification       9564 non-null   object \n",
      " 1   longitude            9564 non-null   float64\n",
      " 2   latitude             9564 non-null   float64\n",
      " 3   stellar_temperature  9201 non-null   float64\n",
      " 4   stellar_radius       9201 non-null   float64\n",
      " 5   planet_radius        9201 non-null   float64\n",
      " 6   eq_temperature       9201 non-null   float64\n",
      " 7   stellar_sur_gravity  9201 non-null   float64\n",
      " 8   orbital_period       9564 non-null   float64\n",
      " 9   depth                9201 non-null   float64\n",
      " 10  insol_flux           9243 non-null   float64\n",
      " 11  longitude_s          9564 non-null   object \n",
      " 12  latitude_s           9564 non-null   object \n",
      " 13  distance             9201 non-null   float64\n",
      "dtypes: float64(11), object(3)\n",
      "memory usage: 1.0+ MB\n"
     ]
    }
   ],
   "source": [
    "\n",
    "kepler_data.info()"
   ]
  },
  {
   "cell_type": "code",
   "execution_count": 10,
   "metadata": {},
   "outputs": [
    {
     "name": "stdout",
     "output_type": "stream",
     "text": [
      "<class 'pandas.core.frame.DataFrame'>\n",
      "RangeIndex: 7027 entries, 0 to 7026\n",
      "Data columns (total 14 columns):\n",
      " #   Column               Non-Null Count  Dtype  \n",
      "---  ------               --------------  -----  \n",
      " 0   classification       7025 non-null   object \n",
      " 1   longitude_s          7027 non-null   object \n",
      " 2   longitude            7027 non-null   float64\n",
      " 3   latitude_s           7027 non-null   object \n",
      " 4   latitude             7027 non-null   float64\n",
      " 5   stellar_temperature  6897 non-null   float64\n",
      " 6   stellar_radius       6559 non-null   float64\n",
      " 7   planet_radius        6559 non-null   float64\n",
      " 8   eq_temperature       6748 non-null   float64\n",
      " 9   distance             6823 non-null   float64\n",
      " 10  stellar_sur_gravity  6235 non-null   float64\n",
      " 11  orbital_period       6927 non-null   float64\n",
      " 12  depth                7027 non-null   float64\n",
      " 13  insol_flux           6871 non-null   float64\n",
      "dtypes: float64(11), object(3)\n",
      "memory usage: 768.7+ KB\n"
     ]
    }
   ],
   "source": [
    "tess_data.info()"
   ]
  },
  {
   "cell_type": "markdown",
   "metadata": {},
   "source": [
    "Tanto o `kepler_data` quanto o `tess_data` não possuem muitos valores faltantes nas colunas... Então acho que não é necessário tanto cuidado assim... De qualquer forma, vamos pegar uns dois para explorar"
   ]
  },
  {
   "cell_type": "code",
   "execution_count": 31,
   "metadata": {},
   "outputs": [
    {
     "data": {
      "text/plain": [
       "Text(0.5, 1.0, 'Histograma normalizado de tess_data.stellar_sur_gravity')"
      ]
     },
     "execution_count": 31,
     "metadata": {},
     "output_type": "execute_result"
    },
    {
     "data": {
      "image/png": "[encoded data removed]",
      "text/plain": [
       "<Figure size 640x480 with 1 Axes>"
      ]
     },
     "metadata": {},
     "output_type": "display_data"
    }
   ],
   "source": [
    "plt.hist(tess_data.stellar_sur_gravity,bins = 30, density=True)\n",
    "plt.title('Histograma normalizado de tess_data.stellar_sur_gravity')"
   ]
  },
  {
   "cell_type": "markdown",
   "metadata": {},
   "source": [
    "`tess_data.stellar_sur_gravity` bem normalizado (pelo menos visualmente), possível imputar por um valor aletarório normal baseado na média e desvio padrão da variável"
   ]
  },
  {
   "cell_type": "code",
   "execution_count": 32,
   "metadata": {},
   "outputs": [
    {
     "data": {
      "text/plain": [
       "Text(0.5, 1.0, 'Histograma normalizado de tess_data.stellar_radius')"
      ]
     },
     "execution_count": 32,
     "metadata": {},
     "output_type": "execute_result"
    },
    {
     "data": {
      "image/png": "[encoded data removed]",
      "text/plain": [
       "<Figure size 640x480 with 1 Axes>"
      ]
     },
     "metadata": {},
     "output_type": "display_data"
    }
   ],
   "source": [
    "plt.hist(tess_data.stellar_radius,bins = 30, density=True)\n",
    "plt.title('Histograma normalizado de tess_data.stellar_radius')"
   ]
  },
  {
   "cell_type": "code",
   "execution_count": 33,
   "metadata": {},
   "outputs": [
    {
     "data": {
      "text/plain": [
       "count    6559.000000\n",
       "mean        1.411186\n",
       "std         1.661026\n",
       "min         0.114827\n",
       "25%         0.890000\n",
       "50%         1.240000\n",
       "75%         1.662575\n",
       "max       102.030000\n",
       "Name: stellar_radius, dtype: float64"
      ]
     },
     "execution_count": 33,
     "metadata": {},
     "output_type": "execute_result"
    }
   ],
   "source": [
    "tess_data.stellar_radius.describe()"
   ]
  },
  {
   "cell_type": "markdown",
   "metadata": {},
   "source": [
    "`tess_data.stellar_radius` não é nem de longe normal. Imputar com valor aleatório normal baseado na média e no desvio padrão não é conveniente. Novamente, acho que é interessante pensar em imputar com valor aleatório homogêneo baseado na distância inter-quartil"
   ]
  },
  {
   "cell_type": "markdown",
   "metadata": {},
   "source": [
    "## Concatenação dos DFs"
   ]
  },
  {
   "cell_type": "code",
   "execution_count": 37,
   "metadata": {},
   "outputs": [
    {
     "data": {
      "text/plain": [
       "Index(['classification', 'longitude_s', 'longitude', 'latitude_s', 'latitude',\n",
       "       'stellar_temperature', 'stellar_radius', 'planet_radius',\n",
       "       'eq_temperature', 'distance', 'stellar_sur_gravity', 'orbital_period',\n",
       "       'insol_flux', 'depth'],\n",
       "      dtype='object')"
      ]
     },
     "execution_count": 37,
     "metadata": {},
     "output_type": "execute_result"
    }
   ],
   "source": [
    "k2_data.columns"
   ]
  },
  {
   "cell_type": "code",
   "execution_count": 40,
   "metadata": {},
   "outputs": [
    {
     "data": {
      "text/plain": [
       "14"
      ]
     },
     "execution_count": 40,
     "metadata": {},
     "output_type": "execute_result"
    }
   ],
   "source": [
    "len(k2_data.columns)"
   ]
  },
  {
   "cell_type": "code",
   "execution_count": 38,
   "metadata": {},
   "outputs": [
    {
     "data": {
      "text/plain": [
       "Index(['classification', 'longitude', 'latitude', 'stellar_temperature',\n",
       "       'stellar_radius', 'planet_radius', 'eq_temperature',\n",
       "       'stellar_sur_gravity', 'orbital_period', 'depth', 'insol_flux',\n",
       "       'longitude_s', 'latitude_s', 'distance'],\n",
       "      dtype='object')"
      ]
     },
     "execution_count": 38,
     "metadata": {},
     "output_type": "execute_result"
    }
   ],
   "source": [
    "kepler_data.columns"
   ]
  },
  {
   "cell_type": "code",
   "execution_count": 41,
   "metadata": {},
   "outputs": [
    {
     "data": {
      "text/plain": [
       "14"
      ]
     },
     "execution_count": 41,
     "metadata": {},
     "output_type": "execute_result"
    }
   ],
   "source": [
    "len(kepler_data.columns)"
   ]
  },
  {
   "cell_type": "code",
   "execution_count": 39,
   "metadata": {},
   "outputs": [
    {
     "data": {
      "text/plain": [
       "Index(['classification', 'longitude_s', 'longitude', 'latitude_s', 'latitude',\n",
       "       'stellar_temperature', 'stellar_radius', 'planet_radius',\n",
       "       'eq_temperature', 'distance', 'stellar_sur_gravity', 'orbital_period',\n",
       "       'depth', 'insol_flux'],\n",
       "      dtype='object')"
      ]
     },
     "execution_count": 39,
     "metadata": {},
     "output_type": "execute_result"
    }
   ],
   "source": [
    "tess_data.columns"
   ]
  },
  {
   "cell_type": "code",
   "execution_count": 42,
   "metadata": {},
   "outputs": [
    {
     "data": {
      "text/plain": [
       "14"
      ]
     },
     "execution_count": 42,
     "metadata": {},
     "output_type": "execute_result"
    }
   ],
   "source": [
    "len(tess_data.columns)"
   ]
  },
  {
   "cell_type": "code",
   "execution_count": 46,
   "metadata": {},
   "outputs": [],
   "source": [
    "kepler_data = kepler_data[k2_data.columns]\n",
    "tess_data = tess_data[k2_data.columns]"
   ]
  },
  {
   "cell_type": "code",
   "execution_count": 49,
   "metadata": {},
   "outputs": [
    {
     "name": "stderr",
     "output_type": "stream",
     "text": [
      "C:\\Users\\necke\\AppData\\Local\\Temp\\ipykernel_6652\\1367361666.py:2: SettingWithCopyWarning: \n",
      "A value is trying to be set on a copy of a slice from a DataFrame.\n",
      "Try using .loc[row_indexer,col_indexer] = value instead\n",
      "\n",
      "See the caveats in the documentation: https://pandas.pydata.org/pandas-docs/stable/user_guide/indexing.html#returning-a-view-versus-a-copy\n",
      "  kepler_data['mission'] = 'kepler'\n"
     ]
    }
   ],
   "source": [
    "k2_data['mission'] = 'k2'\n",
    "kepler_data['mission'] = 'kepler'\n",
    "tess_data['mission'] = 'tess'"
   ]
  },
  {
   "cell_type": "code",
   "execution_count": 50,
   "metadata": {},
   "outputs": [],
   "source": [
    "general_data = pd.concat([k2_data,kepler_data],axis=0)\n",
    "general_data = pd.concat([general_data,tess_data],axis=0)"
   ]
  },
  {
   "cell_type": "code",
   "execution_count": 52,
   "metadata": {},
   "outputs": [
    {
     "name": "stdout",
     "output_type": "stream",
     "text": [
      "<class 'pandas.core.frame.DataFrame'>\n",
      "Index: 20364 entries, 0 to 7026\n",
      "Data columns (total 15 columns):\n",
      " #   Column               Non-Null Count  Dtype  \n",
      "---  ------               --------------  -----  \n",
      " 0   classification       20362 non-null  object \n",
      " 1   longitude_s          20364 non-null  object \n",
      " 2   longitude            20364 non-null  float64\n",
      " 3   latitude_s           20364 non-null  object \n",
      " 4   latitude             20364 non-null  float64\n",
      " 5   stellar_temperature  18767 non-null  float64\n",
      " 6   stellar_radius       19411 non-null  float64\n",
      " 7   planet_radius        18776 non-null  float64\n",
      " 8   eq_temperature       16649 non-null  float64\n",
      " 9   distance             19674 non-null  float64\n",
      " 10  stellar_sur_gravity  17584 non-null  float64\n",
      " 11  orbital_period       20225 non-null  float64\n",
      " 12  insol_flux           16627 non-null  float64\n",
      " 13  depth                19203 non-null  float64\n",
      " 14  mission              20364 non-null  object \n",
      "dtypes: float64(11), object(4)\n",
      "memory usage: 2.5+ MB\n"
     ]
    }
   ],
   "source": [
    "general_data.info()"
   ]
  },
  {
   "cell_type": "code",
   "execution_count": 53,
   "metadata": {},
   "outputs": [],
   "source": [
    "colunas_dados_faltantes = ['stellar_temperature','stellar_radius','planet_radius','eq_temperature','distance','stellar_sur_gravity','orbital_period','insol_flux','depth']"
   ]
  },
  {
   "cell_type": "code",
   "execution_count": 63,
   "metadata": {},
   "outputs": [
    {
     "data": {
      "image/png": "[encoded data removed]",
      "text/plain": [
       "<Figure size 700x700 with 9 Axes>"
      ]
     },
     "metadata": {},
     "output_type": "display_data"
    }
   ],
   "source": [
    "fig,ax = plt.subplots(3,3,figsize = (7,7),dpi = 100)\n",
    "ax[0,0].hist(general_data.stellar_temperature,bins = 30,density = True)\n",
    "ax[0,0].set_title('stellar_temperature')\n",
    "ax[0,1].hist(general_data.stellar_radius,bins = 30,density = True)\n",
    "ax[0,1].set_title('stellar_radius')\n",
    "ax[0,2].hist(general_data.planet_radius,bins = 30,density = True)\n",
    "ax[0,2].set_title('planet_radius')\n",
    "ax[1,0].hist(general_data.eq_temperature,bins = 30,density = True)\n",
    "ax[1,0].set_title('eq_temperature')\n",
    "ax[1,1].hist(general_data[general_data.distance!=np.inf].distance,bins = 30,density = True) ## adicionei um filtro nesse plot, pois há dados de distance iguais a infinito\n",
    "ax[1,1].set_title('distance')\n",
    "ax[1,2].hist(general_data.stellar_sur_gravity,bins = 30,density = True)\n",
    "ax[1,2].set_title('stellar_sur_gravity')\n",
    "ax[2,0].hist(general_data.orbital_period,bins = 30,density = True)\n",
    "ax[2,0].set_title('orbital_period')\n",
    "ax[2,1].hist(general_data.insol_flux,bins = 30,density = True)\n",
    "ax[2,1].set_title('insol_flux')\n",
    "ax[2,2].hist(general_data.depth,bins = 30,density = True)\n",
    "ax[2,2].set_title('depth')\n",
    "\n",
    "plt.tight_layout()"
   ]
  },
  {
   "cell_type": "markdown",
   "metadata": {},
   "source": [
    "somente `stellar_sur_gravity` pode ser considerado normal visualmente... a `eq_temperature` e `stellar_temperature` também parecem um pouco normais, mas pela largura do eixo x, temos a indicação de muitos outliers... Para facilitar, vamos imputar todos os faltantes com valor aleatório homogêneo baseado na distância interquartil das variáveis. Detalhe: vamos imputar também os valores infinitos da variável `distance`, pois também não podemos submeter valores tipo infinito para os algoritmos de ML\n",
    "\n",
    "Precisamos lembrar que, após a imputação, a distribuição dos dados não pode ser afetada. Para isso, vamos comparar os describes de antes e depois das imputações para garantir isso"
   ]
  },
  {
   "cell_type": "code",
   "execution_count": 68,
   "metadata": {},
   "outputs": [],
   "source": [
    "def impute_random(df, column_name):\n",
    "    # Calcula quartis inferiores e superiores\n",
    "    q1 = df[column_name].quantile(0.25)\n",
    "    q3 = df[column_name].quantile(0.75)\n",
    "    \n",
    "    # Calcula a amplitude interquartil\n",
    "    iqr = q3 - q1\n",
    "    \n",
    "    # Calcula os limites para valores dentro do intervalo interquartil\n",
    "    lower_bound = q1 - 1.5 * iqr\n",
    "    upper_bound = q3 + 1.5 * iqr\n",
    "    \n",
    "    # Filtra os valores não nulos dentro do intervalo interquartil\n",
    "    non_null_values = df[column_name].loc[(df[column_name] >= lower_bound) & (df[column_name] <= upper_bound)]\n",
    "    \n",
    "    # Impute os valores faltantes com valores aleatórios homogêneos\n",
    "    missing_count = df[column_name].isnull().sum()\n",
    "    imputed_values = np.random.uniform(q1, q3, missing_count)\n",
    "    dfx = df.copy()\n",
    "    # Atualiza os valores faltantes no DataFrame\n",
    "    dfx.loc[dfx[column_name].isnull(), column_name] = imputed_values\n",
    "    \n",
    "    return dfx"
   ]
  },
  {
   "cell_type": "markdown",
   "metadata": {},
   "source": [
    "Exemplo de imputação com a `stellar_temperature`"
   ]
  },
  {
   "cell_type": "code",
   "execution_count": 73,
   "metadata": {},
   "outputs": [],
   "source": [
    "dfx = impute_random(general_data,colunas_dados_faltantes[0])   \n"
   ]
  },
  {
   "cell_type": "code",
   "execution_count": 74,
   "metadata": {},
   "outputs": [
    {
     "name": "stdout",
     "output_type": "stream",
     "text": [
      "<class 'pandas.core.frame.DataFrame'>\n",
      "Index: 20364 entries, 0 to 7026\n",
      "Data columns (total 15 columns):\n",
      " #   Column               Non-Null Count  Dtype  \n",
      "---  ------               --------------  -----  \n",
      " 0   classification       20362 non-null  object \n",
      " 1   longitude_s          20364 non-null  object \n",
      " 2   longitude            20364 non-null  float64\n",
      " 3   latitude_s           20364 non-null  object \n",
      " 4   latitude             20364 non-null  float64\n",
      " 5   stellar_temperature  20364 non-null  float64\n",
      " 6   stellar_radius       19411 non-null  float64\n",
      " 7   planet_radius        18776 non-null  float64\n",
      " 8   eq_temperature       16649 non-null  float64\n",
      " 9   distance             19674 non-null  float64\n",
      " 10  stellar_sur_gravity  17584 non-null  float64\n",
      " 11  orbital_period       20225 non-null  float64\n",
      " 12  insol_flux           16627 non-null  float64\n",
      " 13  depth                19203 non-null  float64\n",
      " 14  mission              20364 non-null  object \n",
      "dtypes: float64(11), object(4)\n",
      "memory usage: 2.5+ MB\n"
     ]
    }
   ],
   "source": [
    "dfx.info()"
   ]
  },
  {
   "cell_type": "code",
   "execution_count": 75,
   "metadata": {},
   "outputs": [
    {
     "data": {
      "text/plain": [
       "count    18767.000000\n",
       "mean      5658.610170\n",
       "std       1194.915631\n",
       "min       2520.000000\n",
       "25%       5172.850000\n",
       "50%       5722.000000\n",
       "75%       6131.000000\n",
       "max      50000.000000\n",
       "Name: stellar_temperature, dtype: float64"
      ]
     },
     "execution_count": 75,
     "metadata": {},
     "output_type": "execute_result"
    }
   ],
   "source": [
    "general_data.stellar_temperature.describe()"
   ]
  },
  {
   "cell_type": "code",
   "execution_count": 76,
   "metadata": {},
   "outputs": [
    {
     "data": {
      "text/plain": [
       "count    20364.000000\n",
       "mean      5657.338776\n",
       "std       1149.727509\n",
       "min       2520.000000\n",
       "25%       5221.551849\n",
       "50%       5711.194182\n",
       "75%       6100.000000\n",
       "max      50000.000000\n",
       "Name: stellar_temperature, dtype: float64"
      ]
     },
     "execution_count": 76,
     "metadata": {},
     "output_type": "execute_result"
    }
   ],
   "source": [
    "dfx.stellar_temperature.describe()"
   ]
  },
  {
   "cell_type": "markdown",
   "metadata": {},
   "source": [
    "Generalizando"
   ]
  },
  {
   "cell_type": "code",
   "execution_count": 77,
   "metadata": {},
   "outputs": [],
   "source": [
    "dfx = general_data.copy()\n",
    "for coluna in colunas_dados_faltantes:\n",
    "    dfx = impute_random(dfx,coluna)"
   ]
  },
  {
   "cell_type": "code",
   "execution_count": 78,
   "metadata": {},
   "outputs": [
    {
     "name": "stdout",
     "output_type": "stream",
     "text": [
      "<class 'pandas.core.frame.DataFrame'>\n",
      "Index: 20364 entries, 0 to 7026\n",
      "Data columns (total 15 columns):\n",
      " #   Column               Non-Null Count  Dtype  \n",
      "---  ------               --------------  -----  \n",
      " 0   classification       20362 non-null  object \n",
      " 1   longitude_s          20364 non-null  object \n",
      " 2   longitude            20364 non-null  float64\n",
      " 3   latitude_s           20364 non-null  object \n",
      " 4   latitude             20364 non-null  float64\n",
      " 5   stellar_temperature  20364 non-null  float64\n",
      " 6   stellar_radius       20364 non-null  float64\n",
      " 7   planet_radius        20364 non-null  float64\n",
      " 8   eq_temperature       20364 non-null  float64\n",
      " 9   distance             20364 non-null  float64\n",
      " 10  stellar_sur_gravity  20364 non-null  float64\n",
      " 11  orbital_period       20364 non-null  float64\n",
      " 12  insol_flux           20364 non-null  float64\n",
      " 13  depth                20364 non-null  float64\n",
      " 14  mission              20364 non-null  object \n",
      "dtypes: float64(11), object(4)\n",
      "memory usage: 2.5+ MB\n"
     ]
    }
   ],
   "source": [
    "dfx.info()"
   ]
  },
  {
   "cell_type": "code",
   "execution_count": 82,
   "metadata": {},
   "outputs": [
    {
     "name": "stdout",
     "output_type": "stream",
     "text": [
      "comparação da coluna stellar_temperature\n",
      "count    18767.000000\n",
      "mean      5658.610170\n",
      "std       1194.915631\n",
      "min       2520.000000\n",
      "25%       5172.850000\n",
      "50%       5722.000000\n",
      "75%       6131.000000\n",
      "max      50000.000000\n",
      "Name: stellar_temperature, dtype: float64\n",
      "count    20364.000000\n",
      "mean      5657.944707\n",
      "std       1149.698595\n",
      "min       2520.000000\n",
      "25%       5222.000000\n",
      "50%       5712.000000\n",
      "75%       6100.000000\n",
      "max      50000.000000\n",
      "Name: stellar_temperature, dtype: float64\n",
      "comparação da coluna stellar_radius\n",
      "count    19411.00000\n",
      "mean         1.51890\n",
      "std          4.46347\n",
      "min          0.10900\n",
      "25%          0.81250\n",
      "50%          1.02200\n",
      "75%          1.47000\n",
      "max        229.90800\n",
      "Name: stellar_radius, dtype: float64\n",
      "count    20364.000000\n",
      "mean         1.501763\n",
      "std          4.358657\n",
      "min          0.109000\n",
      "25%          0.820000\n",
      "50%          1.031290\n",
      "75%          1.441000\n",
      "max        229.908000\n",
      "Name: stellar_radius, dtype: float64\n",
      "comparação da coluna planet_radius\n",
      "count     18776.000000\n",
      "mean         55.426552\n",
      "std        2154.920586\n",
      "min           0.080000\n",
      "25%           1.870000\n",
      "50%           3.763580\n",
      "75%          13.446996\n",
      "max      200346.000000\n",
      "Name: planet_radius, dtype: float64\n",
      "count     20364.000000\n",
      "mean         51.704878\n",
      "std        2069.229743\n",
      "min           0.080000\n",
      "25%           1.980000\n",
      "50%           4.400000\n",
      "75%          12.896034\n",
      "max      200346.000000\n",
      "Name: planet_radius, dtype: float64\n",
      "comparação da coluna eq_temperature\n",
      "count    16649.000000\n",
      "mean      1158.850082\n",
      "std        783.392355\n",
      "min         25.000000\n",
      "25%        640.026660\n",
      "50%       1006.689042\n",
      "75%       1487.000000\n",
      "max      14667.000000\n",
      "Name: eq_temperature, dtype: float64\n",
      "count    20364.000000\n",
      "mean      1142.739617\n",
      "std        716.920513\n",
      "min         25.000000\n",
      "25%        696.220419\n",
      "50%       1024.963653\n",
      "75%       1406.000000\n",
      "max      14667.000000\n",
      "Name: eq_temperature, dtype: float64\n",
      "comparação da coluna distance\n",
      "count    1.967400e+04\n",
      "mean              inf\n",
      "std               NaN\n",
      "min      3.374540e+00\n",
      "25%      2.069479e+02\n",
      "50%      4.322033e+02\n",
      "75%      8.693378e+02\n",
      "max               inf\n",
      "Name: distance, dtype: float64\n",
      "count    2.036400e+04\n",
      "mean              inf\n",
      "std               NaN\n",
      "min      3.374540e+00\n",
      "25%      2.132830e+02\n",
      "50%      4.376811e+02\n",
      "75%      8.493927e+02\n",
      "max               inf\n",
      "Name: distance, dtype: float64\n",
      "comparação da coluna stellar_sur_gravity\n",
      "count    17584.000000\n",
      "mean         4.323753\n",
      "std          0.381950\n",
      "min          0.047000\n",
      "25%          4.180000\n",
      "50%          4.415785\n",
      "75%          4.540270\n",
      "max          5.960650\n",
      "Name: stellar_sur_gravity, dtype: float64\n",
      "count    20364.000000\n",
      "mean         4.329449\n",
      "std          0.357286\n",
      "min          0.047000\n",
      "25%          4.211000\n",
      "50%          4.405118\n",
      "75%          4.525454\n",
      "max          5.960650\n",
      "Name: stellar_sur_gravity, dtype: float64\n",
      "comparação da coluna orbital_period\n",
      "count     20225.000000\n",
      "mean         49.260332\n",
      "std        1094.935109\n",
      "min           0.152076\n",
      "25%           2.614105\n",
      "50%           5.879594\n",
      "75%          16.781758\n",
      "max      129995.778400\n",
      "Name: orbital_period, dtype: float64\n",
      "count     20364.000000\n",
      "mean         48.989828\n",
      "std        1091.196576\n",
      "min           0.152076\n",
      "25%           2.628029\n",
      "50%           5.903550\n",
      "75%          16.609552\n",
      "max      129995.778400\n",
      "Name: orbital_period, dtype: float64\n",
      "comparação da coluna insol_flux\n",
      "count    1.662700e+04\n",
      "mean     5.207209e+03\n",
      "std      1.189104e+05\n",
      "min      0.000000e+00\n",
      "25%      3.694500e+01\n",
      "50%      2.211150e+02\n",
      "75%      1.001350e+03\n",
      "max      1.094755e+07\n",
      "Name: insol_flux, dtype: float64\n",
      "count    2.036400e+04\n",
      "mean     4.345797e+03\n",
      "std      1.074621e+05\n",
      "min      0.000000e+00\n",
      "25%      5.632777e+01\n",
      "50%      2.934155e+02\n",
      "75%      8.578350e+02\n",
      "max      1.094755e+07\n",
      "Name: insol_flux, dtype: float64\n",
      "comparação da coluna depth\n",
      "count    1.920300e+04\n",
      "mean     1.994262e+07\n",
      "std      1.886670e+08\n",
      "min      0.000000e+00\n",
      "25%      3.895500e+02\n",
      "50%      2.300000e+03\n",
      "75%      1.884400e+04\n",
      "max      6.457270e+09\n",
      "Name: depth, dtype: float64\n",
      "count    2.036400e+04\n",
      "mean     1.880620e+07\n",
      "std      1.832679e+08\n",
      "min      0.000000e+00\n",
      "25%      4.278000e+02\n",
      "50%      2.910750e+03\n",
      "75%      1.710662e+04\n",
      "max      6.457270e+09\n",
      "Name: depth, dtype: float64\n"
     ]
    }
   ],
   "source": [
    "for coluna in colunas_dados_faltantes:\n",
    "    print(f'comparação da coluna {coluna}')\n",
    "    print(general_data[coluna].describe())\n",
    "    print(dfx[coluna].describe())"
   ]
  },
  {
   "cell_type": "markdown",
   "metadata": {},
   "source": [
    "Tratando infinito em `distance`"
   ]
  },
  {
   "cell_type": "code",
   "execution_count": 83,
   "metadata": {},
   "outputs": [
    {
     "data": {
      "text/html": [
       "<div>\n",
       "<style scoped>\n",
       "    .dataframe tbody tr th:only-of-type {\n",
       "        vertical-align: middle;\n",
       "    }\n",
       "\n",
       "    .dataframe tbody tr th {\n",
       "        vertical-align: top;\n",
       "    }\n",
       "\n",
       "    .dataframe thead th {\n",
       "        text-align: right;\n",
       "    }\n",
       "</style>\n",
       "<table border=\"1\" class=\"dataframe\">\n",
       "  <thead>\n",
       "    <tr style=\"text-align: right;\">\n",
       "      <th></th>\n",
       "      <th>classification</th>\n",
       "      <th>longitude_s</th>\n",
       "      <th>longitude</th>\n",
       "      <th>latitude_s</th>\n",
       "      <th>latitude</th>\n",
       "      <th>stellar_temperature</th>\n",
       "      <th>stellar_radius</th>\n",
       "      <th>planet_radius</th>\n",
       "      <th>eq_temperature</th>\n",
       "      <th>distance</th>\n",
       "      <th>stellar_sur_gravity</th>\n",
       "      <th>orbital_period</th>\n",
       "      <th>insol_flux</th>\n",
       "      <th>depth</th>\n",
       "      <th>mission</th>\n",
       "    </tr>\n",
       "  </thead>\n",
       "  <tbody>\n",
       "    <tr>\n",
       "      <th>342</th>\n",
       "      <td>CANDIDATE</td>\n",
       "      <td>296h49m17.83s</td>\n",
       "      <td>296.82162</td>\n",
       "      <td>47h21m14.51s</td>\n",
       "      <td>47.354031</td>\n",
       "      <td>4500.0</td>\n",
       "      <td>0.726</td>\n",
       "      <td>2.99</td>\n",
       "      <td>25.0</td>\n",
       "      <td>inf</td>\n",
       "      <td>4.572</td>\n",
       "      <td>129995.7784</td>\n",
       "      <td>0.0</td>\n",
       "      <td>1474.9</td>\n",
       "      <td>kepler</td>\n",
       "    </tr>\n",
       "  </tbody>\n",
       "</table>\n",
       "</div>"
      ],
      "text/plain": [
       "    classification    longitude_s  longitude    latitude_s   latitude  \\\n",
       "342      CANDIDATE  296h49m17.83s  296.82162  47h21m14.51s  47.354031   \n",
       "\n",
       "     stellar_temperature  stellar_radius  planet_radius  eq_temperature  \\\n",
       "342               4500.0           0.726           2.99            25.0   \n",
       "\n",
       "     distance  stellar_sur_gravity  orbital_period  insol_flux   depth mission  \n",
       "342       inf                4.572     129995.7784         0.0  1474.9  kepler  "
      ]
     },
     "execution_count": 83,
     "metadata": {},
     "output_type": "execute_result"
    }
   ],
   "source": [
    "dfx[dfx.distance==np.inf]"
   ]
  },
  {
   "cell_type": "markdown",
   "metadata": {},
   "source": [
    "somente um dado, tratar da mesma forma que o anterior... mas antes, vou transformar essa distance em nulo"
   ]
  },
  {
   "cell_type": "code",
   "execution_count": 84,
   "metadata": {},
   "outputs": [],
   "source": [
    "dfx['distance'] = np.where(dfx['distance']==np.inf,np.nan,dfx['distance'])"
   ]
  },
  {
   "cell_type": "code",
   "execution_count": 85,
   "metadata": {},
   "outputs": [
    {
     "data": {
      "text/html": [
       "<div>\n",
       "<style scoped>\n",
       "    .dataframe tbody tr th:only-of-type {\n",
       "        vertical-align: middle;\n",
       "    }\n",
       "\n",
       "    .dataframe tbody tr th {\n",
       "        vertical-align: top;\n",
       "    }\n",
       "\n",
       "    .dataframe thead th {\n",
       "        text-align: right;\n",
       "    }\n",
       "</style>\n",
       "<table border=\"1\" class=\"dataframe\">\n",
       "  <thead>\n",
       "    <tr style=\"text-align: right;\">\n",
       "      <th></th>\n",
       "      <th>classification</th>\n",
       "      <th>longitude_s</th>\n",
       "      <th>longitude</th>\n",
       "      <th>latitude_s</th>\n",
       "      <th>latitude</th>\n",
       "      <th>stellar_temperature</th>\n",
       "      <th>stellar_radius</th>\n",
       "      <th>planet_radius</th>\n",
       "      <th>eq_temperature</th>\n",
       "      <th>distance</th>\n",
       "      <th>stellar_sur_gravity</th>\n",
       "      <th>orbital_period</th>\n",
       "      <th>insol_flux</th>\n",
       "      <th>depth</th>\n",
       "      <th>mission</th>\n",
       "    </tr>\n",
       "  </thead>\n",
       "  <tbody>\n",
       "  </tbody>\n",
       "</table>\n",
       "</div>"
      ],
      "text/plain": [
       "Empty DataFrame\n",
       "Columns: [classification, longitude_s, longitude, latitude_s, latitude, stellar_temperature, stellar_radius, planet_radius, eq_temperature, distance, stellar_sur_gravity, orbital_period, insol_flux, depth, mission]\n",
       "Index: []"
      ]
     },
     "execution_count": 85,
     "metadata": {},
     "output_type": "execute_result"
    }
   ],
   "source": [
    "dfx[dfx.distance==np.inf]"
   ]
  },
  {
   "cell_type": "code",
   "execution_count": 86,
   "metadata": {},
   "outputs": [],
   "source": [
    "dfx = impute_random(dfx,'distance')"
   ]
  },
  {
   "cell_type": "code",
   "execution_count": 87,
   "metadata": {},
   "outputs": [
    {
     "name": "stdout",
     "output_type": "stream",
     "text": [
      "<class 'pandas.core.frame.DataFrame'>\n",
      "Index: 20364 entries, 0 to 7026\n",
      "Data columns (total 15 columns):\n",
      " #   Column               Non-Null Count  Dtype  \n",
      "---  ------               --------------  -----  \n",
      " 0   classification       20362 non-null  object \n",
      " 1   longitude_s          20364 non-null  object \n",
      " 2   longitude            20364 non-null  float64\n",
      " 3   latitude_s           20364 non-null  object \n",
      " 4   latitude             20364 non-null  float64\n",
      " 5   stellar_temperature  20364 non-null  float64\n",
      " 6   stellar_radius       20364 non-null  float64\n",
      " 7   planet_radius        20364 non-null  float64\n",
      " 8   eq_temperature       20364 non-null  float64\n",
      " 9   distance             20364 non-null  float64\n",
      " 10  stellar_sur_gravity  20364 non-null  float64\n",
      " 11  orbital_period       20364 non-null  float64\n",
      " 12  insol_flux           20364 non-null  float64\n",
      " 13  depth                20364 non-null  float64\n",
      " 14  mission              20364 non-null  object \n",
      "dtypes: float64(11), object(4)\n",
      "memory usage: 2.5+ MB\n"
     ]
    }
   ],
   "source": [
    "dfx.info()"
   ]
  },
  {
   "cell_type": "code",
   "execution_count": 88,
   "metadata": {},
   "outputs": [
    {
     "data": {
      "image/png": "[encoded data removed]",
      "text/plain": [
       "<Figure size 700x700 with 9 Axes>"
      ]
     },
     "metadata": {},
     "output_type": "display_data"
    }
   ],
   "source": [
    "fig,ax = plt.subplots(3,3,figsize = (7,7),dpi = 100)\n",
    "ax[0,0].hist(dfx.stellar_temperature,bins = 30,density = True)\n",
    "ax[0,0].set_title('stellar_temperature')\n",
    "ax[0,1].hist(dfx.stellar_radius,bins = 30,density = True)\n",
    "ax[0,1].set_title('stellar_radius')\n",
    "ax[0,2].hist(dfx.planet_radius,bins = 30,density = True)\n",
    "ax[0,2].set_title('planet_radius')\n",
    "ax[1,0].hist(dfx.eq_temperature,bins = 30,density = True)\n",
    "ax[1,0].set_title('eq_temperature')\n",
    "ax[1,1].hist(dfx.distance,bins = 30,density = True)\n",
    "ax[1,1].set_title('distance')\n",
    "ax[1,2].hist(dfx.stellar_sur_gravity,bins = 30,density = True)\n",
    "ax[1,2].set_title('stellar_sur_gravity')\n",
    "ax[2,0].hist(dfx.orbital_period,bins = 30,density = True)\n",
    "ax[2,0].set_title('orbital_period')\n",
    "ax[2,1].hist(dfx.insol_flux,bins = 30,density = True)\n",
    "ax[2,1].set_title('insol_flux')\n",
    "ax[2,2].hist(dfx.depth,bins = 30,density = True)\n",
    "ax[2,2].set_title('depth')\n",
    "\n",
    "plt.tight_layout()"
   ]
  },
  {
   "cell_type": "code",
   "execution_count": 89,
   "metadata": {},
   "outputs": [
    {
     "data": {
      "text/html": [
       "<div>\n",
       "<style scoped>\n",
       "    .dataframe tbody tr th:only-of-type {\n",
       "        vertical-align: middle;\n",
       "    }\n",
       "\n",
       "    .dataframe tbody tr th {\n",
       "        vertical-align: top;\n",
       "    }\n",
       "\n",
       "    .dataframe thead th {\n",
       "        text-align: right;\n",
       "    }\n",
       "</style>\n",
       "<table border=\"1\" class=\"dataframe\">\n",
       "  <thead>\n",
       "    <tr style=\"text-align: right;\">\n",
       "      <th></th>\n",
       "      <th>classification</th>\n",
       "      <th>longitude_s</th>\n",
       "      <th>longitude</th>\n",
       "      <th>latitude_s</th>\n",
       "      <th>latitude</th>\n",
       "      <th>stellar_temperature</th>\n",
       "      <th>stellar_radius</th>\n",
       "      <th>planet_radius</th>\n",
       "      <th>eq_temperature</th>\n",
       "      <th>distance</th>\n",
       "      <th>stellar_sur_gravity</th>\n",
       "      <th>orbital_period</th>\n",
       "      <th>insol_flux</th>\n",
       "      <th>depth</th>\n",
       "      <th>mission</th>\n",
       "    </tr>\n",
       "  </thead>\n",
       "  <tbody>\n",
       "    <tr>\n",
       "      <th>2922</th>\n",
       "      <td>FALSE POSITIVE</td>\n",
       "      <td>300h9m6.70s</td>\n",
       "      <td>300.151860</td>\n",
       "      <td>45h5m22.60s</td>\n",
       "      <td>45.089611</td>\n",
       "      <td>5843.0</td>\n",
       "      <td>1.073</td>\n",
       "      <td>11.970</td>\n",
       "      <td>466.0</td>\n",
       "      <td>2608.808028</td>\n",
       "      <td>4.403</td>\n",
       "      <td>66.467462</td>\n",
       "      <td>11.18</td>\n",
       "      <td>12644.0</td>\n",
       "      <td>kepler</td>\n",
       "    </tr>\n",
       "    <tr>\n",
       "      <th>4628</th>\n",
       "      <td>FALSE POSITIVE</td>\n",
       "      <td>295h19m3.14s</td>\n",
       "      <td>295.317540</td>\n",
       "      <td>40h11m26.30s</td>\n",
       "      <td>40.190639</td>\n",
       "      <td>6184.0</td>\n",
       "      <td>1.038</td>\n",
       "      <td>1.390</td>\n",
       "      <td>1697.0</td>\n",
       "      <td>213.315467</td>\n",
       "      <td>4.448</td>\n",
       "      <td>1.525937</td>\n",
       "      <td>1963.41</td>\n",
       "      <td>159.1</td>\n",
       "      <td>kepler</td>\n",
       "    </tr>\n",
       "    <tr>\n",
       "      <th>3675</th>\n",
       "      <td>PC</td>\n",
       "      <td>06h35m56.22s</td>\n",
       "      <td>98.984253</td>\n",
       "      <td>+04d42m48.52s</td>\n",
       "      <td>4.713477</td>\n",
       "      <td>5796.8</td>\n",
       "      <td>1.560</td>\n",
       "      <td>13.975</td>\n",
       "      <td>1685.0</td>\n",
       "      <td>860.033000</td>\n",
       "      <td>4.070</td>\n",
       "      <td>2.417050</td>\n",
       "      <td>1340.72</td>\n",
       "      <td>7730.0</td>\n",
       "      <td>tess</td>\n",
       "    </tr>\n",
       "    <tr>\n",
       "      <th>2316</th>\n",
       "      <td>CONFIRMED</td>\n",
       "      <td>292h6m54.61s</td>\n",
       "      <td>292.115170</td>\n",
       "      <td>49h15m23.16s</td>\n",
       "      <td>49.256432</td>\n",
       "      <td>5790.0</td>\n",
       "      <td>0.900</td>\n",
       "      <td>2.440</td>\n",
       "      <td>487.0</td>\n",
       "      <td>1972.221573</td>\n",
       "      <td>4.528</td>\n",
       "      <td>45.090920</td>\n",
       "      <td>13.27</td>\n",
       "      <td>436.3</td>\n",
       "      <td>kepler</td>\n",
       "    </tr>\n",
       "    <tr>\n",
       "      <th>9282</th>\n",
       "      <td>FALSE POSITIVE</td>\n",
       "      <td>292h10m42.49s</td>\n",
       "      <td>292.178470</td>\n",
       "      <td>47h45m2.70s</td>\n",
       "      <td>47.750751</td>\n",
       "      <td>3885.0</td>\n",
       "      <td>0.540</td>\n",
       "      <td>0.400</td>\n",
       "      <td>1019.0</td>\n",
       "      <td>121.780044</td>\n",
       "      <td>4.710</td>\n",
       "      <td>0.933760</td>\n",
       "      <td>253.97</td>\n",
       "      <td>56.5</td>\n",
       "      <td>kepler</td>\n",
       "    </tr>\n",
       "  </tbody>\n",
       "</table>\n",
       "</div>"
      ],
      "text/plain": [
       "      classification    longitude_s   longitude     latitude_s   latitude  \\\n",
       "2922  FALSE POSITIVE    300h9m6.70s  300.151860    45h5m22.60s  45.089611   \n",
       "4628  FALSE POSITIVE   295h19m3.14s  295.317540   40h11m26.30s  40.190639   \n",
       "3675              PC   06h35m56.22s   98.984253  +04d42m48.52s   4.713477   \n",
       "2316       CONFIRMED   292h6m54.61s  292.115170   49h15m23.16s  49.256432   \n",
       "9282  FALSE POSITIVE  292h10m42.49s  292.178470    47h45m2.70s  47.750751   \n",
       "\n",
       "      stellar_temperature  stellar_radius  planet_radius  eq_temperature  \\\n",
       "2922               5843.0           1.073         11.970           466.0   \n",
       "4628               6184.0           1.038          1.390          1697.0   \n",
       "3675               5796.8           1.560         13.975          1685.0   \n",
       "2316               5790.0           0.900          2.440           487.0   \n",
       "9282               3885.0           0.540          0.400          1019.0   \n",
       "\n",
       "         distance  stellar_sur_gravity  orbital_period  insol_flux    depth  \\\n",
       "2922  2608.808028                4.403       66.467462       11.18  12644.0   \n",
       "4628   213.315467                4.448        1.525937     1963.41    159.1   \n",
       "3675   860.033000                4.070        2.417050     1340.72   7730.0   \n",
       "2316  1972.221573                4.528       45.090920       13.27    436.3   \n",
       "9282   121.780044                4.710        0.933760      253.97     56.5   \n",
       "\n",
       "     mission  \n",
       "2922  kepler  \n",
       "4628  kepler  \n",
       "3675    tess  \n",
       "2316  kepler  \n",
       "9282  kepler  "
      ]
     },
     "execution_count": 89,
     "metadata": {},
     "output_type": "execute_result"
    }
   ],
   "source": [
    "dfx.sample(5)"
   ]
  },
  {
   "cell_type": "code",
   "execution_count": null,
   "metadata": {},
   "outputs": [],
   "source": []
  },
  {
   "cell_type": "code",
   "execution_count": null,
   "metadata": {},
   "outputs": [],
   "source": []
  },
  {
   "cell_type": "code",
   "execution_count": 12,
   "metadata": {},
   "outputs": [],
   "source": [
    "# Função para tratar dados nulos imputando valores aleatórios dentro do intervalo [min, max]\n",
    "def tratar_nulos_imputar_aleatorio(df, min_val, max_val):\n",
    "    # Encontrar os índices dos valores nulos\n",
    "    nulos_idx = df[df.isnull().any(axis=1)].index\n",
    "    for col in df.columns:\n",
    "        # Gerar valores aleatórios dentro do intervalo [min_val, max_val]\n",
    "        aleatorios = np.random.uniform(min_val, max_val, size=len(nulos_idx))\n",
    "        # Substituir os valores nulos pelos valores aleatórios gerados\n",
    "        df.loc[nulos_idx, col] = aleatorios\n",
    "    return df\n",
    "\n",
    "# Tratando os dados nulos\n",
    "k2_data = tratar_nulos_imputar_aleatorio(k2_data, 0, 100)\n",
    "kepler_data = tratar_nulos_imputar_aleatorio(kepler_data, 0, 100)\n",
    "tess_data = tratar_nulos_imputar_aleatorio(tess_data, 0, 100)"
   ]
  },
  {
   "cell_type": "code",
   "execution_count": null,
   "metadata": {},
   "outputs": [],
   "source": [
    "# Função para tratar dados nulos imputando a média dos valores da coluna\n",
    "def tratar_nulos_imputar_media(df):\n",
    "    for col in df.columns:\n",
    "        # Calcular a média dos valores não nulos da coluna\n",
    "        media = df[col].mean()\n",
    "        # Substituir os valores nulos pela média da coluna\n",
    "        df[col].fillna(media, inplace=True)\n",
    "    return df\n",
    "\n",
    "# Tratando os dados nulos\n",
    "k2_data = tratar_nulos_imputar_media(k2_data)\n",
    "kepler_data = tratar_nulos_imputar_media(kepler_data)\n",
    "tess_data = tratar_nulos_imputar_media(tess_data)"
   ]
  },
  {
   "cell_type": "code",
   "execution_count": null,
   "metadata": {},
   "outputs": [],
   "source": [
    "# Função para tratar dados nulos imputando a mediana dos valores da coluna\n",
    "def tratar_nulos_imputar_mediana(df):\n",
    "    for col in df.columns:\n",
    "        # Calcular a mediana dos valores não nulos da coluna\n",
    "        mediana = df[col].median()\n",
    "        # Substituir os valores nulos pela mediana da coluna\n",
    "        df[col].fillna(mediana, inplace=True)\n",
    "    return df\n",
    "\n",
    "# Tratando os dados nulos\n",
    "k2_data = tratar_nulos_imputar_mediana(k2_data)\n",
    "kepler_data = tratar_nulos_imputar_mediana(kepler_data)\n",
    "tess_data = tratar_nulos_imputar_mediana(tess_data)"
   ]
  },
  {
   "cell_type": "code",
   "execution_count": 18,
   "metadata": {},
   "outputs": [
    {
     "name": "stdout",
     "output_type": "stream",
     "text": [
      "<class 'pandas.core.frame.DataFrame'>\n",
      "RangeIndex: 3773 entries, 0 to 3772\n",
      "Data columns (total 14 columns):\n",
      " #   Column               Non-Null Count  Dtype  \n",
      "---  ------               --------------  -----  \n",
      " 0   classification       3773 non-null   object \n",
      " 1   longitude_s          3773 non-null   object \n",
      " 2   longitude            3773 non-null   float64\n",
      " 3   latitude_s           3773 non-null   object \n",
      " 4   latitude             3773 non-null   float64\n",
      " 5   stellar_temperature  3773 non-null   float64\n",
      " 6   stellar_radius       3773 non-null   float64\n",
      " 7   planet_radius        3773 non-null   float64\n",
      " 8   eq_temperature       3773 non-null   float64\n",
      " 9   distance             3773 non-null   float64\n",
      " 10  stellar_sur_gravity  3773 non-null   float64\n",
      " 11  orbital_period       3773 non-null   float64\n",
      " 12  insol_flux           3773 non-null   float64\n",
      " 13  depth                3773 non-null   float64\n",
      "dtypes: float64(11), object(3)\n",
      "memory usage: 412.8+ KB\n"
     ]
    }
   ],
   "source": [
    "k2_data.info()"
   ]
  },
  {
   "cell_type": "code",
   "execution_count": 17,
   "metadata": {},
   "outputs": [
    {
     "data": {
      "text/html": [
       "<div>\n",
       "<style scoped>\n",
       "    .dataframe tbody tr th:only-of-type {\n",
       "        vertical-align: middle;\n",
       "    }\n",
       "\n",
       "    .dataframe tbody tr th {\n",
       "        vertical-align: top;\n",
       "    }\n",
       "\n",
       "    .dataframe thead th {\n",
       "        text-align: right;\n",
       "    }\n",
       "</style>\n",
       "<table border=\"1\" class=\"dataframe\">\n",
       "  <thead>\n",
       "    <tr style=\"text-align: right;\">\n",
       "      <th></th>\n",
       "      <th>classification</th>\n",
       "      <th>longitude_s</th>\n",
       "      <th>longitude</th>\n",
       "      <th>latitude_s</th>\n",
       "      <th>latitude</th>\n",
       "      <th>stellar_temperature</th>\n",
       "      <th>stellar_radius</th>\n",
       "      <th>planet_radius</th>\n",
       "      <th>eq_temperature</th>\n",
       "      <th>distance</th>\n",
       "      <th>stellar_sur_gravity</th>\n",
       "      <th>orbital_period</th>\n",
       "      <th>insol_flux</th>\n",
       "      <th>depth</th>\n",
       "    </tr>\n",
       "  </thead>\n",
       "  <tbody>\n",
       "    <tr>\n",
       "      <th>0</th>\n",
       "      <td>54.314539</td>\n",
       "      <td>59.648125</td>\n",
       "      <td>79.596700</td>\n",
       "      <td>0.403058</td>\n",
       "      <td>72.721059</td>\n",
       "      <td>71.400553</td>\n",
       "      <td>1.688767</td>\n",
       "      <td>69.712691</td>\n",
       "      <td>92.676097</td>\n",
       "      <td>55.206045</td>\n",
       "      <td>29.772792</td>\n",
       "      <td>93.572091</td>\n",
       "      <td>81.562592</td>\n",
       "      <td>75.398854</td>\n",
       "    </tr>\n",
       "    <tr>\n",
       "      <th>1</th>\n",
       "      <td>81.214301</td>\n",
       "      <td>41.941592</td>\n",
       "      <td>9.754487</td>\n",
       "      <td>99.076813</td>\n",
       "      <td>48.245632</td>\n",
       "      <td>9.360832</td>\n",
       "      <td>62.257200</td>\n",
       "      <td>16.907695</td>\n",
       "      <td>21.853622</td>\n",
       "      <td>38.696041</td>\n",
       "      <td>24.676746</td>\n",
       "      <td>76.146178</td>\n",
       "      <td>94.280568</td>\n",
       "      <td>76.981490</td>\n",
       "    </tr>\n",
       "    <tr>\n",
       "      <th>2</th>\n",
       "      <td>6.764939</td>\n",
       "      <td>11.096328</td>\n",
       "      <td>35.242477</td>\n",
       "      <td>96.50132</td>\n",
       "      <td>7.852349</td>\n",
       "      <td>55.826043</td>\n",
       "      <td>16.873076</td>\n",
       "      <td>17.060475</td>\n",
       "      <td>90.317717</td>\n",
       "      <td>18.382319</td>\n",
       "      <td>84.586588</td>\n",
       "      <td>93.111609</td>\n",
       "      <td>24.556473</td>\n",
       "      <td>83.173205</td>\n",
       "    </tr>\n",
       "    <tr>\n",
       "      <th>3</th>\n",
       "      <td>85.049751</td>\n",
       "      <td>69.172664</td>\n",
       "      <td>91.324152</td>\n",
       "      <td>87.858239</td>\n",
       "      <td>10.294989</td>\n",
       "      <td>93.735219</td>\n",
       "      <td>91.531937</td>\n",
       "      <td>8.335218</td>\n",
       "      <td>17.755947</td>\n",
       "      <td>59.860317</td>\n",
       "      <td>89.366068</td>\n",
       "      <td>41.411506</td>\n",
       "      <td>75.528795</td>\n",
       "      <td>38.342138</td>\n",
       "    </tr>\n",
       "    <tr>\n",
       "      <th>4</th>\n",
       "      <td>51.060768</td>\n",
       "      <td>23.662844</td>\n",
       "      <td>39.554351</td>\n",
       "      <td>8.214394</td>\n",
       "      <td>53.754404</td>\n",
       "      <td>12.854624</td>\n",
       "      <td>25.120236</td>\n",
       "      <td>6.906953</td>\n",
       "      <td>34.444053</td>\n",
       "      <td>38.853658</td>\n",
       "      <td>85.536337</td>\n",
       "      <td>45.001919</td>\n",
       "      <td>34.164161</td>\n",
       "      <td>94.394415</td>\n",
       "    </tr>\n",
       "  </tbody>\n",
       "</table>\n",
       "</div>"
      ],
      "text/plain": [
       "  classification longitude_s  longitude latitude_s   latitude  \\\n",
       "0      54.314539   59.648125  79.596700   0.403058  72.721059   \n",
       "1      81.214301   41.941592   9.754487  99.076813  48.245632   \n",
       "2       6.764939   11.096328  35.242477   96.50132   7.852349   \n",
       "3      85.049751   69.172664  91.324152  87.858239  10.294989   \n",
       "4      51.060768   23.662844  39.554351   8.214394  53.754404   \n",
       "\n",
       "   stellar_temperature  stellar_radius  planet_radius  eq_temperature  \\\n",
       "0            71.400553        1.688767      69.712691       92.676097   \n",
       "1             9.360832       62.257200      16.907695       21.853622   \n",
       "2            55.826043       16.873076      17.060475       90.317717   \n",
       "3            93.735219       91.531937       8.335218       17.755947   \n",
       "4            12.854624       25.120236       6.906953       34.444053   \n",
       "\n",
       "    distance  stellar_sur_gravity  orbital_period  insol_flux      depth  \n",
       "0  55.206045            29.772792       93.572091   81.562592  75.398854  \n",
       "1  38.696041            24.676746       76.146178   94.280568  76.981490  \n",
       "2  18.382319            84.586588       93.111609   24.556473  83.173205  \n",
       "3  59.860317            89.366068       41.411506   75.528795  38.342138  \n",
       "4  38.853658            85.536337       45.001919   34.164161  94.394415  "
      ]
     },
     "execution_count": 17,
     "metadata": {},
     "output_type": "execute_result"
    }
   ],
   "source": [
    "k2_data.head(5)"
   ]
  },
  {
   "cell_type": "code",
   "execution_count": 19,
   "metadata": {},
   "outputs": [
    {
     "name": "stdout",
     "output_type": "stream",
     "text": [
      "<class 'pandas.core.frame.DataFrame'>\n",
      "RangeIndex: 9564 entries, 0 to 9563\n",
      "Data columns (total 14 columns):\n",
      " #   Column               Non-Null Count  Dtype  \n",
      "---  ------               --------------  -----  \n",
      " 0   classification       9564 non-null   object \n",
      " 1   longitude            9564 non-null   float64\n",
      " 2   latitude             9564 non-null   float64\n",
      " 3   stellar_temperature  9564 non-null   float64\n",
      " 4   stellar_radius       9564 non-null   float64\n",
      " 5   planet_radius        9564 non-null   float64\n",
      " 6   eq_temperature       9564 non-null   float64\n",
      " 7   stellar_sur_gravity  9564 non-null   float64\n",
      " 8   orbital_period       9564 non-null   float64\n",
      " 9   depth                9564 non-null   float64\n",
      " 10  insol_flux           9564 non-null   float64\n",
      " 11  longitude_s          9564 non-null   object \n",
      " 12  latitude_s           9564 non-null   object \n",
      " 13  distance             9564 non-null   float64\n",
      "dtypes: float64(11), object(3)\n",
      "memory usage: 1.0+ MB\n"
     ]
    }
   ],
   "source": [
    "kepler_data.info()"
   ]
  },
  {
   "cell_type": "code",
   "execution_count": 20,
   "metadata": {},
   "outputs": [
    {
     "data": {
      "text/html": [
       "<div>\n",
       "<style scoped>\n",
       "    .dataframe tbody tr th:only-of-type {\n",
       "        vertical-align: middle;\n",
       "    }\n",
       "\n",
       "    .dataframe tbody tr th {\n",
       "        vertical-align: top;\n",
       "    }\n",
       "\n",
       "    .dataframe thead th {\n",
       "        text-align: right;\n",
       "    }\n",
       "</style>\n",
       "<table border=\"1\" class=\"dataframe\">\n",
       "  <thead>\n",
       "    <tr style=\"text-align: right;\">\n",
       "      <th></th>\n",
       "      <th>classification</th>\n",
       "      <th>longitude</th>\n",
       "      <th>latitude</th>\n",
       "      <th>stellar_temperature</th>\n",
       "      <th>stellar_radius</th>\n",
       "      <th>planet_radius</th>\n",
       "      <th>eq_temperature</th>\n",
       "      <th>stellar_sur_gravity</th>\n",
       "      <th>orbital_period</th>\n",
       "      <th>depth</th>\n",
       "      <th>insol_flux</th>\n",
       "      <th>longitude_s</th>\n",
       "      <th>latitude_s</th>\n",
       "      <th>distance</th>\n",
       "    </tr>\n",
       "  </thead>\n",
       "  <tbody>\n",
       "    <tr>\n",
       "      <th>0</th>\n",
       "      <td>CONFIRMED</td>\n",
       "      <td>291.93423</td>\n",
       "      <td>48.141651</td>\n",
       "      <td>5455.0</td>\n",
       "      <td>0.927</td>\n",
       "      <td>2.26</td>\n",
       "      <td>793.0</td>\n",
       "      <td>4.467</td>\n",
       "      <td>9.488036</td>\n",
       "      <td>615.8</td>\n",
       "      <td>93.59</td>\n",
       "      <td>291h56m3.23s</td>\n",
       "      <td>48h8m29.94s</td>\n",
       "      <td>678.962909</td>\n",
       "    </tr>\n",
       "    <tr>\n",
       "      <th>1</th>\n",
       "      <td>CONFIRMED</td>\n",
       "      <td>291.93423</td>\n",
       "      <td>48.141651</td>\n",
       "      <td>5455.0</td>\n",
       "      <td>0.927</td>\n",
       "      <td>2.83</td>\n",
       "      <td>443.0</td>\n",
       "      <td>4.467</td>\n",
       "      <td>54.418383</td>\n",
       "      <td>874.8</td>\n",
       "      <td>9.11</td>\n",
       "      <td>291h56m3.23s</td>\n",
       "      <td>48h8m29.94s</td>\n",
       "      <td>2176.213925</td>\n",
       "    </tr>\n",
       "    <tr>\n",
       "      <th>2</th>\n",
       "      <td>CANDIDATE</td>\n",
       "      <td>297.00482</td>\n",
       "      <td>48.134129</td>\n",
       "      <td>5853.0</td>\n",
       "      <td>0.868</td>\n",
       "      <td>14.60</td>\n",
       "      <td>638.0</td>\n",
       "      <td>4.544</td>\n",
       "      <td>19.899140</td>\n",
       "      <td>10829.0</td>\n",
       "      <td>39.30</td>\n",
       "      <td>297h0m17.35s</td>\n",
       "      <td>48h8m2.86s</td>\n",
       "      <td>1129.463050</td>\n",
       "    </tr>\n",
       "    <tr>\n",
       "      <th>3</th>\n",
       "      <td>FALSE POSITIVE</td>\n",
       "      <td>285.53461</td>\n",
       "      <td>48.285210</td>\n",
       "      <td>5805.0</td>\n",
       "      <td>0.791</td>\n",
       "      <td>33.46</td>\n",
       "      <td>1395.0</td>\n",
       "      <td>4.564</td>\n",
       "      <td>1.736952</td>\n",
       "      <td>8079.2</td>\n",
       "      <td>891.96</td>\n",
       "      <td>285h32m4.60s</td>\n",
       "      <td>48h17m6.76s</td>\n",
       "      <td>212.519983</td>\n",
       "    </tr>\n",
       "    <tr>\n",
       "      <th>4</th>\n",
       "      <td>CONFIRMED</td>\n",
       "      <td>288.75488</td>\n",
       "      <td>48.226200</td>\n",
       "      <td>6031.0</td>\n",
       "      <td>1.046</td>\n",
       "      <td>2.75</td>\n",
       "      <td>1406.0</td>\n",
       "      <td>4.438</td>\n",
       "      <td>2.525592</td>\n",
       "      <td>603.3</td>\n",
       "      <td>926.16</td>\n",
       "      <td>288h45m17.57s</td>\n",
       "      <td>48h13m34.32s</td>\n",
       "      <td>297.686309</td>\n",
       "    </tr>\n",
       "  </tbody>\n",
       "</table>\n",
       "</div>"
      ],
      "text/plain": [
       "   classification  longitude   latitude  stellar_temperature  stellar_radius  \\\n",
       "0       CONFIRMED  291.93423  48.141651               5455.0           0.927   \n",
       "1       CONFIRMED  291.93423  48.141651               5455.0           0.927   \n",
       "2       CANDIDATE  297.00482  48.134129               5853.0           0.868   \n",
       "3  FALSE POSITIVE  285.53461  48.285210               5805.0           0.791   \n",
       "4       CONFIRMED  288.75488  48.226200               6031.0           1.046   \n",
       "\n",
       "   planet_radius  eq_temperature  stellar_sur_gravity  orbital_period  \\\n",
       "0           2.26           793.0                4.467        9.488036   \n",
       "1           2.83           443.0                4.467       54.418383   \n",
       "2          14.60           638.0                4.544       19.899140   \n",
       "3          33.46          1395.0                4.564        1.736952   \n",
       "4           2.75          1406.0                4.438        2.525592   \n",
       "\n",
       "     depth  insol_flux    longitude_s    latitude_s     distance  \n",
       "0    615.8       93.59   291h56m3.23s   48h8m29.94s   678.962909  \n",
       "1    874.8        9.11   291h56m3.23s   48h8m29.94s  2176.213925  \n",
       "2  10829.0       39.30   297h0m17.35s    48h8m2.86s  1129.463050  \n",
       "3   8079.2      891.96   285h32m4.60s   48h17m6.76s   212.519983  \n",
       "4    603.3      926.16  288h45m17.57s  48h13m34.32s   297.686309  "
      ]
     },
     "execution_count": 20,
     "metadata": {},
     "output_type": "execute_result"
    }
   ],
   "source": [
    "kepler_data.head(5)"
   ]
  },
  {
   "cell_type": "code",
   "execution_count": 21,
   "metadata": {},
   "outputs": [
    {
     "name": "stdout",
     "output_type": "stream",
     "text": [
      "<class 'pandas.core.frame.DataFrame'>\n",
      "RangeIndex: 7027 entries, 0 to 7026\n",
      "Data columns (total 14 columns):\n",
      " #   Column               Non-Null Count  Dtype  \n",
      "---  ------               --------------  -----  \n",
      " 0   classification       7027 non-null   object \n",
      " 1   longitude_s          7027 non-null   object \n",
      " 2   longitude            7027 non-null   float64\n",
      " 3   latitude_s           7027 non-null   object \n",
      " 4   latitude             7027 non-null   float64\n",
      " 5   stellar_temperature  7027 non-null   float64\n",
      " 6   stellar_radius       7027 non-null   float64\n",
      " 7   planet_radius        7027 non-null   float64\n",
      " 8   eq_temperature       7027 non-null   float64\n",
      " 9   distance             7027 non-null   float64\n",
      " 10  stellar_sur_gravity  7027 non-null   float64\n",
      " 11  orbital_period       7027 non-null   float64\n",
      " 12  depth                7027 non-null   float64\n",
      " 13  insol_flux           7027 non-null   float64\n",
      "dtypes: float64(11), object(3)\n",
      "memory usage: 768.7+ KB\n"
     ]
    }
   ],
   "source": [
    "tess_data.info()"
   ]
  },
  {
   "cell_type": "code",
   "execution_count": 22,
   "metadata": {},
   "outputs": [
    {
     "data": {
      "text/html": [
       "<div>\n",
       "<style scoped>\n",
       "    .dataframe tbody tr th:only-of-type {\n",
       "        vertical-align: middle;\n",
       "    }\n",
       "\n",
       "    .dataframe tbody tr th {\n",
       "        vertical-align: top;\n",
       "    }\n",
       "\n",
       "    .dataframe thead th {\n",
       "        text-align: right;\n",
       "    }\n",
       "</style>\n",
       "<table border=\"1\" class=\"dataframe\">\n",
       "  <thead>\n",
       "    <tr style=\"text-align: right;\">\n",
       "      <th></th>\n",
       "      <th>classification</th>\n",
       "      <th>longitude_s</th>\n",
       "      <th>longitude</th>\n",
       "      <th>latitude_s</th>\n",
       "      <th>latitude</th>\n",
       "      <th>stellar_temperature</th>\n",
       "      <th>stellar_radius</th>\n",
       "      <th>planet_radius</th>\n",
       "      <th>eq_temperature</th>\n",
       "      <th>distance</th>\n",
       "      <th>stellar_sur_gravity</th>\n",
       "      <th>orbital_period</th>\n",
       "      <th>depth</th>\n",
       "      <th>insol_flux</th>\n",
       "    </tr>\n",
       "  </thead>\n",
       "  <tbody>\n",
       "    <tr>\n",
       "      <th>0</th>\n",
       "      <td>FP</td>\n",
       "      <td>07h29m25.85s</td>\n",
       "      <td>112.357708</td>\n",
       "      <td>-12d41m45.46s</td>\n",
       "      <td>-12.695960</td>\n",
       "      <td>10249.000000</td>\n",
       "      <td>2.169860</td>\n",
       "      <td>5.818163</td>\n",
       "      <td>3127.204052</td>\n",
       "      <td>485.735000</td>\n",
       "      <td>4.190000</td>\n",
       "      <td>2.171348</td>\n",
       "      <td>656.886099</td>\n",
       "      <td>22601.948581</td>\n",
       "    </tr>\n",
       "    <tr>\n",
       "      <th>1</th>\n",
       "      <td>PC</td>\n",
       "      <td>08h10m19.31s</td>\n",
       "      <td>122.580465</td>\n",
       "      <td>-05d30m49.87s</td>\n",
       "      <td>-5.513852</td>\n",
       "      <td>7070.000000</td>\n",
       "      <td>2.010000</td>\n",
       "      <td>11.215400</td>\n",
       "      <td>4045.000000</td>\n",
       "      <td>295.862000</td>\n",
       "      <td>4.030000</td>\n",
       "      <td>1.931646</td>\n",
       "      <td>1286.000000</td>\n",
       "      <td>44464.500000</td>\n",
       "    </tr>\n",
       "    <tr>\n",
       "      <th>2</th>\n",
       "      <td>10.769571</td>\n",
       "      <td>57.759931</td>\n",
       "      <td>15.655063</td>\n",
       "      <td>36.588942</td>\n",
       "      <td>41.806809</td>\n",
       "      <td>87.143323</td>\n",
       "      <td>68.083365</td>\n",
       "      <td>38.325417</td>\n",
       "      <td>25.430143</td>\n",
       "      <td>72.525570</td>\n",
       "      <td>88.117958</td>\n",
       "      <td>89.527434</td>\n",
       "      <td>66.027129</td>\n",
       "      <td>32.765364</td>\n",
       "    </tr>\n",
       "    <tr>\n",
       "      <th>3</th>\n",
       "      <td>51.512472</td>\n",
       "      <td>67.478242</td>\n",
       "      <td>85.245781</td>\n",
       "      <td>25.259908</td>\n",
       "      <td>11.617193</td>\n",
       "      <td>32.868076</td>\n",
       "      <td>34.620533</td>\n",
       "      <td>19.863091</td>\n",
       "      <td>63.706536</td>\n",
       "      <td>0.733585</td>\n",
       "      <td>21.551419</td>\n",
       "      <td>99.283169</td>\n",
       "      <td>64.696828</td>\n",
       "      <td>11.794484</td>\n",
       "    </tr>\n",
       "    <tr>\n",
       "      <th>4</th>\n",
       "      <td>FP</td>\n",
       "      <td>08h08m42.77s</td>\n",
       "      <td>122.178195</td>\n",
       "      <td>-48d48m10.12s</td>\n",
       "      <td>-48.802811</td>\n",
       "      <td>9219.000000</td>\n",
       "      <td>2.150000</td>\n",
       "      <td>11.311300</td>\n",
       "      <td>4260.000000</td>\n",
       "      <td>356.437000</td>\n",
       "      <td>4.140000</td>\n",
       "      <td>3.573014</td>\n",
       "      <td>755.000000</td>\n",
       "      <td>54679.300000</td>\n",
       "    </tr>\n",
       "  </tbody>\n",
       "</table>\n",
       "</div>"
      ],
      "text/plain": [
       "  classification   longitude_s   longitude     latitude_s   latitude  \\\n",
       "0             FP  07h29m25.85s  112.357708  -12d41m45.46s -12.695960   \n",
       "1             PC  08h10m19.31s  122.580465  -05d30m49.87s  -5.513852   \n",
       "2      10.769571     57.759931   15.655063      36.588942  41.806809   \n",
       "3      51.512472     67.478242   85.245781      25.259908  11.617193   \n",
       "4             FP  08h08m42.77s  122.178195  -48d48m10.12s -48.802811   \n",
       "\n",
       "   stellar_temperature  stellar_radius  planet_radius  eq_temperature  \\\n",
       "0         10249.000000        2.169860       5.818163     3127.204052   \n",
       "1          7070.000000        2.010000      11.215400     4045.000000   \n",
       "2            87.143323       68.083365      38.325417       25.430143   \n",
       "3            32.868076       34.620533      19.863091       63.706536   \n",
       "4          9219.000000        2.150000      11.311300     4260.000000   \n",
       "\n",
       "     distance  stellar_sur_gravity  orbital_period        depth    insol_flux  \n",
       "0  485.735000             4.190000        2.171348   656.886099  22601.948581  \n",
       "1  295.862000             4.030000        1.931646  1286.000000  44464.500000  \n",
       "2   72.525570            88.117958       89.527434    66.027129     32.765364  \n",
       "3    0.733585            21.551419       99.283169    64.696828     11.794484  \n",
       "4  356.437000             4.140000        3.573014   755.000000  54679.300000  "
      ]
     },
     "execution_count": 22,
     "metadata": {},
     "output_type": "execute_result"
    }
   ],
   "source": [
    "tess_data.head(5)"
   ]
  },
  {
   "cell_type": "code",
   "execution_count": 8,
   "metadata": {},
   "outputs": [],
   "source": [
    "# kepler_data.to_pickle('data\\\\kepler_data_treated.pkl')\n",
    "# k2_data.to_pickle('data\\\\k2_data_treated.pkl')\n",
    "# tess_data.to_pickle('data\\\\tess_data_treated.pkl')"
   ]
  }
 ],
 "metadata": {
  "kernelspec": {
   "display_name": "Python 3",
   "language": "python",
   "name": "python3"
  },
  "language_info": {
   "codemirror_mode": {
    "name": "ipython",
    "version": 3
   },
   "file_extension": ".py",
   "mimetype": "text/x-python",
   "name": "python",
   "nbconvert_exporter": "python",
   "pygments_lexer": "ipython3",
   "version": "3.9.13"
  }
 },
 "nbformat": 4,
 "nbformat_minor": 2
}

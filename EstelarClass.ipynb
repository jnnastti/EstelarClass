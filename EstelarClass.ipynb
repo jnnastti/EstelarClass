{
 "cells": [
  {
   "cell_type": "markdown",
   "metadata": {},
   "source": [
    "Carregar dados"
   ]
  },
  {
   "cell_type": "code",
   "execution_count": 1,
   "metadata": {},
   "outputs": [
    {
     "name": "stdout",
     "output_type": "stream",
     "text": [
      "importing Jupyter notebook from k2_base.ipynb\n",
      "['not planet' 'planet'] [ 311 2092] [0.12942156 0.87057844]\n",
      "['not planet' 'planet'] [ 245 1677] [0.12747138 0.87252862]\n",
      "['not planet' 'planet'] [ 66 415] [0.13721414 0.86278586]\n",
      "importing Jupyter notebook from kepler_base.ipynb\n",
      "['not planet' 'planet'] [4839 2741] [0.6383905 0.3616095]\n",
      "['not planet' 'planet'] [3890 2174] [0.64149077 0.35850923]\n",
      "['not planet' 'planet'] [949 567] [0.62598945 0.37401055]\n",
      "importing Jupyter notebook from tess_base.ipynb\n",
      "['not planet' 'planet'] [1089 5106] [0.17578692 0.82421308]\n",
      "['not planet' 'planet'] [ 864 4092] [0.17433414 0.82566586]\n",
      "['not planet' 'planet'] [ 225 1014] [0.18159806 0.81840194]\n",
      "importing Jupyter notebook from general_base.ipynb\n",
      "['not planet' 'planet'] [6239 9939] [0.38564718 0.61435282]\n",
      "['not planet' 'planet'] [4968 7974] [0.38386648 0.61613352]\n",
      "['not planet' 'planet'] [1271 1965] [0.39276885 0.60723115]\n"
     ]
    }
   ],
   "source": [
    "import import_ipynb\n",
    "from sklearn.metrics import accuracy_score\n",
    "\n",
    "import k2_base\n",
    "import kepler_base\n",
    "import tess_base\n",
    "import general_base"
   ]
  },
  {
   "cell_type": "markdown",
   "metadata": {},
   "source": [
    "Naive Bayes"
   ]
  },
  {
   "cell_type": "code",
   "execution_count": 2,
   "metadata": {},
   "outputs": [
    {
     "name": "stdout",
     "output_type": "stream",
     "text": [
      "Accuracy: 0.8731808731808732\n"
     ]
    }
   ],
   "source": [
    "from sklearn.naive_bayes import GaussianNB\n",
    "modeloNB = GaussianNB()\n",
    "\n",
    "modeloNB.fit(k2_base.x_k2_treino,k2_base.y_k2_treino)\n",
    "y_k2_previsto = modeloNB.predict(k2_base.x_k2_teste)\n",
    "\n",
    "k2_base.y_k2_teste[:10],y_k2_previsto[:10]\n",
    "\n",
    "accuracy = accuracy_score(k2_base.y_k2_teste, y_k2_previsto)\n",
    "print(\"Accuracy:\", accuracy)\n"
   ]
  },
  {
   "cell_type": "code",
   "execution_count": 3,
   "metadata": {},
   "outputs": [
    {
     "name": "stdout",
     "output_type": "stream",
     "text": [
      "Accuracy: 0.7051451187335093\n"
     ]
    }
   ],
   "source": [
    "modeloNB.fit(kepler_base.x_kepler_treino,kepler_base.y_kepler_treino)\n",
    "y_kepler_previsto = modeloNB.predict(kepler_base.x_kepler_teste)\n",
    "\n",
    "kepler_base.y_kepler_teste[:10],y_kepler_previsto[:10]\n",
    "\n",
    "accuracy = accuracy_score(kepler_base.y_kepler_teste, y_kepler_previsto)\n",
    "print(\"Accuracy:\", accuracy)"
   ]
  },
  {
   "cell_type": "code",
   "execution_count": 4,
   "metadata": {},
   "outputs": [
    {
     "name": "stdout",
     "output_type": "stream",
     "text": [
      "Accuracy: 0.837772397094431\n"
     ]
    }
   ],
   "source": [
    "modeloNB.fit(tess_base.x_tess_treino,tess_base.y_tess_treino)\n",
    "y_tess_previsto = modeloNB.predict(tess_base.x_tess_teste)\n",
    "\n",
    "tess_base.y_tess_teste[:10],y_tess_previsto[:10]\n",
    "\n",
    "accuracy = accuracy_score(tess_base.y_tess_teste, y_tess_previsto)\n",
    "print(\"Accuracy:\", accuracy)"
   ]
  },
  {
   "cell_type": "code",
   "execution_count": 5,
   "metadata": {},
   "outputs": [
    {
     "name": "stdout",
     "output_type": "stream",
     "text": [
      "Accuracy: 0.7410383189122374\n"
     ]
    }
   ],
   "source": [
    "modeloNB.fit(general_base.x_general_treino,general_base.y_general_treino)\n",
    "y_general_previsto = modeloNB.predict(general_base.x_general_teste)\n",
    "\n",
    "general_base.y_general_teste[:10],y_general_previsto[:10]\n",
    "\n",
    "accuracy = accuracy_score(general_base.y_general_teste, y_general_previsto)\n",
    "print(\"Accuracy:\", accuracy)"
   ]
  },
  {
   "cell_type": "markdown",
   "metadata": {},
   "source": [
    " K-Vizinhos Mais Próximos (K-NN)"
   ]
  },
  {
   "cell_type": "code",
   "execution_count": 6,
   "metadata": {},
   "outputs": [
    {
     "name": "stdout",
     "output_type": "stream",
     "text": [
      "Accuracy: 0.918918918918919\n"
     ]
    }
   ],
   "source": [
    "from sklearn.neighbors import KNeighborsClassifier\n",
    "modeloKNN = KNeighborsClassifier()\n",
    "\n",
    "modeloKNN.fit(k2_base.x_k2_treino,k2_base.y_k2_treino)\n",
    "y_k2_previsto = modeloKNN.predict(k2_base.x_k2_teste)\n",
    "\n",
    "k2_base.y_k2_teste[:10],y_k2_previsto[:10]\n",
    "\n",
    "accuracy = accuracy_score(k2_base.y_k2_teste, y_k2_previsto)\n",
    "print(\"Accuracy:\", accuracy)"
   ]
  },
  {
   "cell_type": "code",
   "execution_count": 7,
   "metadata": {},
   "outputs": [
    {
     "name": "stdout",
     "output_type": "stream",
     "text": [
      "Accuracy: 0.7427440633245382\n"
     ]
    }
   ],
   "source": [
    "modeloKNN.fit(kepler_base.x_kepler_treino,kepler_base.y_kepler_treino)\n",
    "y_kepler_previsto = modeloKNN.predict(kepler_base.x_kepler_teste)\n",
    "\n",
    "kepler_base.y_kepler_teste[:10],y_kepler_previsto[:10]\n",
    "\n",
    "accuracy = accuracy_score(kepler_base.y_kepler_teste, y_kepler_previsto)\n",
    "print(\"Accuracy:\", accuracy)"
   ]
  },
  {
   "cell_type": "code",
   "execution_count": 8,
   "metadata": {},
   "outputs": [
    {
     "name": "stdout",
     "output_type": "stream",
     "text": [
      "Accuracy: 0.83454398708636\n"
     ]
    }
   ],
   "source": [
    "modeloKNN.fit(tess_base.x_tess_treino,tess_base.y_tess_treino)\n",
    "y_tess_previsto = modeloKNN.predict(tess_base.x_tess_teste)\n",
    "\n",
    "tess_base.y_tess_teste[:10],y_tess_previsto[:10]\n",
    "\n",
    "accuracy = accuracy_score(tess_base.y_tess_teste, y_tess_previsto)\n",
    "print(\"Accuracy:\", accuracy)"
   ]
  },
  {
   "cell_type": "code",
   "execution_count": 9,
   "metadata": {},
   "outputs": [
    {
     "name": "stdout",
     "output_type": "stream",
     "text": [
      "Accuracy: 0.7911001236093943\n"
     ]
    }
   ],
   "source": [
    "modeloKNN.fit(general_base.x_general_treino,general_base.y_general_treino)\n",
    "y_general_previsto = modeloKNN.predict(general_base.x_general_teste)\n",
    "\n",
    "general_base.y_general_teste[:10],y_general_previsto[:10]\n",
    "\n",
    "accuracy = accuracy_score(general_base.y_general_teste, y_general_previsto)\n",
    "print(\"Accuracy:\", accuracy)"
   ]
  },
  {
   "cell_type": "markdown",
   "metadata": {},
   "source": [
    " Árvores de Decisão"
   ]
  },
  {
   "cell_type": "code",
   "execution_count": 10,
   "metadata": {},
   "outputs": [
    {
     "name": "stdout",
     "output_type": "stream",
     "text": [
      "Accuracy: 0.9542619542619543\n"
     ]
    }
   ],
   "source": [
    "from sklearn.tree import DecisionTreeClassifier\n",
    "modeloDT = DecisionTreeClassifier()\n",
    "\n",
    "modeloDT.fit(k2_base.x_k2_treino,k2_base.y_k2_treino)\n",
    "y_k2_previsto = modeloDT.predict(k2_base.x_k2_teste)\n",
    "\n",
    "k2_base.y_k2_teste[:10],y_k2_previsto[:10]\n",
    "\n",
    "accuracy = accuracy_score(k2_base.y_k2_teste, y_k2_previsto)\n",
    "print(\"Accuracy:\", accuracy)"
   ]
  },
  {
   "cell_type": "code",
   "execution_count": 11,
   "metadata": {},
   "outputs": [
    {
     "name": "stdout",
     "output_type": "stream",
     "text": [
      "Accuracy: 0.8172823218997362\n"
     ]
    }
   ],
   "source": [
    "modeloDT.fit(kepler_base.x_kepler_treino,kepler_base.y_kepler_treino)\n",
    "y_kepler_previsto = modeloDT.predict(kepler_base.x_kepler_teste)\n",
    "\n",
    "kepler_base.y_kepler_teste[:10],y_kepler_previsto[:10]\n",
    "\n",
    "accuracy = accuracy_score(kepler_base.y_kepler_teste, y_kepler_previsto)\n",
    "print(\"Accuracy:\", accuracy)"
   ]
  },
  {
   "cell_type": "code",
   "execution_count": 12,
   "metadata": {},
   "outputs": [
    {
     "name": "stdout",
     "output_type": "stream",
     "text": [
      "Accuracy: 0.7804681194511703\n"
     ]
    }
   ],
   "source": [
    "modeloDT.fit(tess_base.x_tess_treino,tess_base.y_tess_treino)\n",
    "y_tess_previsto = modeloDT.predict(tess_base.x_tess_teste)\n",
    "\n",
    "tess_base.y_tess_teste[:10],y_tess_previsto[:10]\n",
    "\n",
    "accuracy = accuracy_score(tess_base.y_tess_teste, y_tess_previsto)\n",
    "print(\"Accuracy:\", accuracy)"
   ]
  },
  {
   "cell_type": "code",
   "execution_count": 13,
   "metadata": {},
   "outputs": [
    {
     "name": "stdout",
     "output_type": "stream",
     "text": [
      "Accuracy: 0.8179851668726823\n"
     ]
    }
   ],
   "source": [
    "modeloDT.fit(general_base.x_general_treino,general_base.y_general_treino)\n",
    "y_general_previsto = modeloDT.predict(general_base.x_general_teste)\n",
    "\n",
    "general_base.y_general_teste[:10],y_general_previsto[:10]\n",
    "\n",
    "accuracy = accuracy_score(general_base.y_general_teste, y_general_previsto)\n",
    "print(\"Accuracy:\", accuracy)"
   ]
  },
  {
   "cell_type": "markdown",
   "metadata": {},
   "source": [
    "Regressão Logística"
   ]
  },
  {
   "cell_type": "code",
   "execution_count": 14,
   "metadata": {},
   "outputs": [
    {
     "name": "stdout",
     "output_type": "stream",
     "text": [
      "Accuracy: 0.8690228690228691\n"
     ]
    }
   ],
   "source": [
    "from sklearn.linear_model import LogisticRegression\n",
    "modeloLR = LogisticRegression()\n",
    "\n",
    "modeloLR.fit(k2_base.x_k2_treino,k2_base.y_k2_treino)\n",
    "y_k2_previsto = modeloLR.predict(k2_base.x_k2_teste)\n",
    "\n",
    "k2_base.y_k2_teste[:10],y_k2_previsto[:10]\n",
    "\n",
    "accuracy = accuracy_score(k2_base.y_k2_teste, y_k2_previsto)\n",
    "print(\"Accuracy:\", accuracy)"
   ]
  },
  {
   "cell_type": "code",
   "execution_count": 15,
   "metadata": {},
   "outputs": [
    {
     "name": "stdout",
     "output_type": "stream",
     "text": [
      "Accuracy: 0.7203166226912929\n"
     ]
    }
   ],
   "source": [
    "modeloLR.fit(kepler_base.x_kepler_treino,kepler_base.y_kepler_treino)\n",
    "y_kepler_previsto = modeloLR.predict(kepler_base.x_kepler_teste)\n",
    "\n",
    "kepler_base.y_kepler_teste[:10],y_kepler_previsto[:10]\n",
    "\n",
    "accuracy = accuracy_score(kepler_base.y_kepler_teste, y_kepler_previsto)\n",
    "print(\"Accuracy:\", accuracy)"
   ]
  },
  {
   "cell_type": "code",
   "execution_count": 16,
   "metadata": {},
   "outputs": [
    {
     "name": "stdout",
     "output_type": "stream",
     "text": [
      "Accuracy: 0.831315577078289\n"
     ]
    }
   ],
   "source": [
    "modeloLR.fit(tess_base.x_tess_treino,tess_base.y_tess_treino)\n",
    "y_tess_previsto = modeloLR.predict(tess_base.x_tess_teste)\n",
    "\n",
    "tess_base.y_tess_teste[:10],y_tess_previsto[:10]\n",
    "\n",
    "accuracy = accuracy_score(tess_base.y_tess_teste, y_tess_previsto)\n",
    "print(\"Accuracy:\", accuracy)"
   ]
  },
  {
   "cell_type": "code",
   "execution_count": 17,
   "metadata": {},
   "outputs": [
    {
     "name": "stdout",
     "output_type": "stream",
     "text": [
      "Accuracy: 0.7552533992583437\n"
     ]
    }
   ],
   "source": [
    "modeloLR.fit(general_base.x_general_treino,general_base.y_general_treino)\n",
    "y_general_previsto = modeloLR.predict(general_base.x_general_teste)\n",
    "\n",
    "general_base.y_general_teste[:10],y_general_previsto[:10]\n",
    "\n",
    "accuracy = accuracy_score(general_base.y_general_teste, y_general_previsto)\n",
    "print(\"Accuracy:\", accuracy)"
   ]
  }
 ],
 "metadata": {
  "kernelspec": {
   "display_name": "Python 3",
   "language": "python",
   "name": "python3"
  },
  "language_info": {
   "codemirror_mode": {
    "name": "ipython",
    "version": 3
   },
   "file_extension": ".py",
   "mimetype": "text/x-python",
   "name": "python",
   "nbconvert_exporter": "python",
   "pygments_lexer": "ipython3",
   "version": "3.11.9"
  }
 },
 "nbformat": 4,
 "nbformat_minor": 2
}

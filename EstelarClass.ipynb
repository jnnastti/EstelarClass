{
 "cells": [
  {
   "cell_type": "markdown",
   "metadata": {},
   "source": [
    "Carregar dados"
   ]
  },
  {
   "cell_type": "code",
   "execution_count": 34,
   "metadata": {},
   "outputs": [],
   "source": [
    "import import_ipynb\n",
    "from sklearn.metrics import accuracy_score\n",
    "\n",
    "import k2_base\n",
    "import kepler_base\n",
    "import tess_base"
   ]
  },
  {
   "cell_type": "markdown",
   "metadata": {},
   "source": [
    "Naive Bayes"
   ]
  },
  {
   "cell_type": "code",
   "execution_count": 35,
   "metadata": {},
   "outputs": [
    {
     "name": "stdout",
     "output_type": "stream",
     "text": [
      "Accuracy: 0.8731808731808732\n"
     ]
    }
   ],
   "source": [
    "from sklearn.naive_bayes import GaussianNB\n",
    "modeloNB = GaussianNB()\n",
    "\n",
    "modeloNB.fit(k2_base.x_k2_treino,k2_base.y_k2_treino)\n",
    "y_k2_previsto = modeloNB.predict(k2_base.x_k2_teste)\n",
    "\n",
    "k2_base.y_k2_teste[:10],y_k2_previsto[:10]\n",
    "\n",
    "accuracy = accuracy_score(k2_base.y_k2_teste, y_k2_previsto)\n",
    "print(\"Accuracy:\", accuracy)\n"
   ]
  },
  {
   "cell_type": "code",
   "execution_count": 36,
   "metadata": {},
   "outputs": [
    {
     "name": "stdout",
     "output_type": "stream",
     "text": [
      "Accuracy: 0.7051451187335093\n"
     ]
    }
   ],
   "source": [
    "modeloNB.fit(kepler_base.x_kepler_treino,kepler_base.y_kepler_treino)\n",
    "y_kepler_previsto = modeloNB.predict(kepler_base.x_kepler_teste)\n",
    "\n",
    "kepler_base.y_kepler_teste[:10],y_kepler_previsto[:10]\n",
    "\n",
    "accuracy = accuracy_score(kepler_base.y_kepler_teste, y_kepler_previsto)\n",
    "print(\"Accuracy:\", accuracy)"
   ]
  },
  {
   "cell_type": "code",
   "execution_count": 37,
   "metadata": {},
   "outputs": [
    {
     "name": "stdout",
     "output_type": "stream",
     "text": [
      "Accuracy: 0.837772397094431\n"
     ]
    }
   ],
   "source": [
    "modeloNB.fit(tess_base.x_tess_treino,tess_base.y_tess_treino)\n",
    "y_tess_previsto = modeloNB.predict(tess_base.x_tess_teste)\n",
    "\n",
    "tess_base.y_tess_teste[:10],y_tess_previsto[:10]\n",
    "\n",
    "accuracy = accuracy_score(tess_base.y_tess_teste, y_tess_previsto)\n",
    "print(\"Accuracy:\", accuracy)"
   ]
  },
  {
   "cell_type": "markdown",
   "metadata": {},
   "source": [
    " K-Vizinhos Mais Próximos (K-NN)"
   ]
  },
  {
   "cell_type": "code",
   "execution_count": 38,
   "metadata": {},
   "outputs": [
    {
     "name": "stdout",
     "output_type": "stream",
     "text": [
      "Accuracy: 0.9085239085239085\n"
     ]
    }
   ],
   "source": [
    "from sklearn.neighbors import KNeighborsClassifier\n",
    "modeloKNN = KNeighborsClassifier()\n",
    "\n",
    "modeloKNN.fit(k2_base.x_k2_treino,k2_base.y_k2_treino)\n",
    "y_k2_previsto = modeloKNN.predict(k2_base.x_k2_teste)\n",
    "\n",
    "k2_base.y_k2_teste[:10],y_k2_previsto[:10]\n",
    "\n",
    "accuracy = accuracy_score(k2_base.y_k2_teste, y_k2_previsto)\n",
    "print(\"Accuracy:\", accuracy)"
   ]
  },
  {
   "cell_type": "code",
   "execution_count": 39,
   "metadata": {},
   "outputs": [
    {
     "name": "stdout",
     "output_type": "stream",
     "text": [
      "Accuracy: 0.7440633245382586\n"
     ]
    }
   ],
   "source": [
    "modeloKNN.fit(kepler_base.x_kepler_treino,kepler_base.y_kepler_treino)\n",
    "y_kepler_previsto = modeloKNN.predict(kepler_base.x_kepler_teste)\n",
    "\n",
    "kepler_base.y_kepler_teste[:10],y_kepler_previsto[:10]\n",
    "\n",
    "accuracy = accuracy_score(kepler_base.y_kepler_teste, y_kepler_previsto)\n",
    "print(\"Accuracy:\", accuracy)"
   ]
  },
  {
   "cell_type": "code",
   "execution_count": 40,
   "metadata": {},
   "outputs": [
    {
     "name": "stdout",
     "output_type": "stream",
     "text": [
      "Accuracy: 0.83454398708636\n"
     ]
    }
   ],
   "source": [
    "modeloKNN.fit(tess_base.x_tess_treino,tess_base.y_tess_treino)\n",
    "y_tess_previsto = modeloKNN.predict(tess_base.x_tess_teste)\n",
    "\n",
    "tess_base.y_tess_teste[:10],y_tess_previsto[:10]\n",
    "\n",
    "accuracy = accuracy_score(tess_base.y_tess_teste, y_tess_previsto)\n",
    "print(\"Accuracy:\", accuracy)"
   ]
  },
  {
   "cell_type": "markdown",
   "metadata": {},
   "source": [
    " Árvores de Decisão"
   ]
  },
  {
   "cell_type": "code",
   "execution_count": 41,
   "metadata": {},
   "outputs": [
    {
     "name": "stdout",
     "output_type": "stream",
     "text": [
      "Accuracy: 0.9646569646569647\n"
     ]
    }
   ],
   "source": [
    "from sklearn.tree import DecisionTreeClassifier\n",
    "modeloDT = DecisionTreeClassifier()\n",
    "\n",
    "modeloDT.fit(k2_base.x_k2_treino,k2_base.y_k2_treino)\n",
    "y_k2_previsto = modeloDT.predict(k2_base.x_k2_teste)\n",
    "\n",
    "k2_base.y_k2_teste[:10],y_k2_previsto[:10]\n",
    "\n",
    "accuracy = accuracy_score(k2_base.y_k2_teste, y_k2_previsto)\n",
    "print(\"Accuracy:\", accuracy)"
   ]
  },
  {
   "cell_type": "code",
   "execution_count": 42,
   "metadata": {},
   "outputs": [
    {
     "name": "stdout",
     "output_type": "stream",
     "text": [
      "Accuracy: 0.8199208443271768\n"
     ]
    }
   ],
   "source": [
    "modeloDT.fit(kepler_base.x_kepler_treino,kepler_base.y_kepler_treino)\n",
    "y_kepler_previsto = modeloDT.predict(kepler_base.x_kepler_teste)\n",
    "\n",
    "kepler_base.y_kepler_teste[:10],y_kepler_previsto[:10]\n",
    "\n",
    "accuracy = accuracy_score(kepler_base.y_kepler_teste, y_kepler_previsto)\n",
    "print(\"Accuracy:\", accuracy)"
   ]
  },
  {
   "cell_type": "code",
   "execution_count": 43,
   "metadata": {},
   "outputs": [
    {
     "name": "stdout",
     "output_type": "stream",
     "text": [
      "Accuracy: 0.7885391444713479\n"
     ]
    }
   ],
   "source": [
    "modeloDT.fit(tess_base.x_tess_treino,tess_base.y_tess_treino)\n",
    "y_tess_previsto = modeloDT.predict(tess_base.x_tess_teste)\n",
    "\n",
    "tess_base.y_tess_teste[:10],y_tess_previsto[:10]\n",
    "\n",
    "accuracy = accuracy_score(tess_base.y_tess_teste, y_tess_previsto)\n",
    "print(\"Accuracy:\", accuracy)"
   ]
  },
  {
   "cell_type": "markdown",
   "metadata": {},
   "source": [
    "Regressão Logística"
   ]
  },
  {
   "cell_type": "code",
   "execution_count": 44,
   "metadata": {},
   "outputs": [
    {
     "name": "stdout",
     "output_type": "stream",
     "text": [
      "Accuracy: 0.8669438669438669\n"
     ]
    }
   ],
   "source": [
    "from sklearn.linear_model import LogisticRegression\n",
    "modeloLR = LogisticRegression()\n",
    "\n",
    "modeloLR.fit(k2_base.x_k2_treino,k2_base.y_k2_treino)\n",
    "y_k2_previsto = modeloLR.predict(k2_base.x_k2_teste)\n",
    "\n",
    "k2_base.y_k2_teste[:10],y_k2_previsto[:10]\n",
    "\n",
    "accuracy = accuracy_score(k2_base.y_k2_teste, y_k2_previsto)\n",
    "print(\"Accuracy:\", accuracy)"
   ]
  },
  {
   "cell_type": "code",
   "execution_count": 45,
   "metadata": {},
   "outputs": [
    {
     "name": "stdout",
     "output_type": "stream",
     "text": [
      "Accuracy: 0.7209762532981531\n"
     ]
    }
   ],
   "source": [
    "modeloLR.fit(kepler_base.x_kepler_treino,kepler_base.y_kepler_treino)\n",
    "y_kepler_previsto = modeloLR.predict(kepler_base.x_kepler_teste)\n",
    "\n",
    "kepler_base.y_kepler_teste[:10],y_kepler_previsto[:10]\n",
    "\n",
    "accuracy = accuracy_score(kepler_base.y_kepler_teste, y_kepler_previsto)\n",
    "print(\"Accuracy:\", accuracy)"
   ]
  },
  {
   "cell_type": "code",
   "execution_count": 46,
   "metadata": {},
   "outputs": [
    {
     "name": "stdout",
     "output_type": "stream",
     "text": [
      "Accuracy: 0.831315577078289\n"
     ]
    }
   ],
   "source": [
    "modeloLR.fit(tess_base.x_tess_treino,tess_base.y_tess_treino)\n",
    "y_tess_previsto = modeloLR.predict(tess_base.x_tess_teste)\n",
    "\n",
    "tess_base.y_tess_teste[:10],y_tess_previsto[:10]\n",
    "\n",
    "accuracy = accuracy_score(tess_base.y_tess_teste, y_tess_previsto)\n",
    "print(\"Accuracy:\", accuracy)"
   ]
  }
 ],
 "metadata": {
  "kernelspec": {
   "display_name": "Python 3",
   "language": "python",
   "name": "python3"
  },
  "language_info": {
   "codemirror_mode": {
    "name": "ipython",
    "version": 3
   },
   "file_extension": ".py",
   "mimetype": "text/x-python",
   "name": "python",
   "nbconvert_exporter": "python",
   "pygments_lexer": "ipython3",
   "version": "3.11.9"
  }
 },
 "nbformat": 4,
 "nbformat_minor": 2
}

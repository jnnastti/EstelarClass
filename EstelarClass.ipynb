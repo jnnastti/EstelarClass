{
 "cells": [
  {
   "cell_type": "markdown",
   "metadata": {},
   "source": [
    "Carregar dados"
   ]
  },
  {
   "cell_type": "code",
   "execution_count": 19,
   "metadata": {},
   "outputs": [],
   "source": [
    "import pandas as pd"
   ]
  },
  {
   "cell_type": "code",
   "execution_count": 20,
   "metadata": {},
   "outputs": [],
   "source": [
    "k2 = pd.read_pickle('data\\\\k2\\\\k2_data_treated.pkl')\n",
    "\n",
    "kepler = pd.read_pickle('data\\\\kepler\\\\kepler_data_treated.pkl')\n",
    "\n",
    "tess = pd.read_pickle('data\\\\tess\\\\tess_data_treated.pkl')"
   ]
  },
  {
   "cell_type": "code",
   "execution_count": 21,
   "metadata": {},
   "outputs": [
    {
     "data": {
      "text/html": [
       "<div>\n",
       "<style scoped>\n",
       "    .dataframe tbody tr th:only-of-type {\n",
       "        vertical-align: middle;\n",
       "    }\n",
       "\n",
       "    .dataframe tbody tr th {\n",
       "        vertical-align: top;\n",
       "    }\n",
       "\n",
       "    .dataframe thead th {\n",
       "        text-align: right;\n",
       "    }\n",
       "</style>\n",
       "<table border=\"1\" class=\"dataframe\">\n",
       "  <thead>\n",
       "    <tr style=\"text-align: right;\">\n",
       "      <th></th>\n",
       "      <th>classification</th>\n",
       "      <th>mission</th>\n",
       "      <th>longitude</th>\n",
       "      <th>latitude</th>\n",
       "      <th>stellar_temperature</th>\n",
       "      <th>stellar_radius</th>\n",
       "      <th>planet_radius</th>\n",
       "      <th>eq_temperature</th>\n",
       "      <th>distance</th>\n",
       "      <th>stellar_sur_gravity</th>\n",
       "      <th>orbital_period</th>\n",
       "      <th>insol_flux</th>\n",
       "      <th>depth</th>\n",
       "    </tr>\n",
       "  </thead>\n",
       "  <tbody>\n",
       "    <tr>\n",
       "      <th>0</th>\n",
       "      <td>planet</td>\n",
       "      <td>k2</td>\n",
       "      <td>0.129039</td>\n",
       "      <td>0.872136</td>\n",
       "      <td>0.073479</td>\n",
       "      <td>0.011427</td>\n",
       "      <td>0.002012</td>\n",
       "      <td>0.223301</td>\n",
       "      <td>0.018901</td>\n",
       "      <td>0.777778</td>\n",
       "      <td>0.000495</td>\n",
       "      <td>0.004992</td>\n",
       "      <td>0.000822</td>\n",
       "    </tr>\n",
       "    <tr>\n",
       "      <th>1</th>\n",
       "      <td>planet</td>\n",
       "      <td>k2</td>\n",
       "      <td>0.129039</td>\n",
       "      <td>0.872136</td>\n",
       "      <td>0.073479</td>\n",
       "      <td>0.009660</td>\n",
       "      <td>0.001690</td>\n",
       "      <td>0.189620</td>\n",
       "      <td>0.018901</td>\n",
       "      <td>0.777778</td>\n",
       "      <td>0.000495</td>\n",
       "      <td>0.007590</td>\n",
       "      <td>0.000830</td>\n",
       "    </tr>\n",
       "    <tr>\n",
       "      <th>2</th>\n",
       "      <td>planet</td>\n",
       "      <td>k2</td>\n",
       "      <td>0.129039</td>\n",
       "      <td>0.872136</td>\n",
       "      <td>0.072053</td>\n",
       "      <td>0.010013</td>\n",
       "      <td>0.001805</td>\n",
       "      <td>0.402781</td>\n",
       "      <td>0.018901</td>\n",
       "      <td>0.743590</td>\n",
       "      <td>0.000495</td>\n",
       "      <td>0.010895</td>\n",
       "      <td>0.000872</td>\n",
       "    </tr>\n",
       "    <tr>\n",
       "      <th>3</th>\n",
       "      <td>candidate</td>\n",
       "      <td>k2</td>\n",
       "      <td>0.502759</td>\n",
       "      <td>0.414973</td>\n",
       "      <td>0.047458</td>\n",
       "      <td>0.007657</td>\n",
       "      <td>0.000661</td>\n",
       "      <td>0.397221</td>\n",
       "      <td>0.010069</td>\n",
       "      <td>0.789174</td>\n",
       "      <td>0.000025</td>\n",
       "      <td>0.009462</td>\n",
       "      <td>0.000276</td>\n",
       "    </tr>\n",
       "    <tr>\n",
       "      <th>4</th>\n",
       "      <td>candidate</td>\n",
       "      <td>k2</td>\n",
       "      <td>0.502759</td>\n",
       "      <td>0.414973</td>\n",
       "      <td>0.049801</td>\n",
       "      <td>0.007068</td>\n",
       "      <td>0.000840</td>\n",
       "      <td>0.280005</td>\n",
       "      <td>0.010069</td>\n",
       "      <td>0.777778</td>\n",
       "      <td>0.000025</td>\n",
       "      <td>0.017895</td>\n",
       "      <td>0.000469</td>\n",
       "    </tr>\n",
       "    <tr>\n",
       "      <th>...</th>\n",
       "      <td>...</td>\n",
       "      <td>...</td>\n",
       "      <td>...</td>\n",
       "      <td>...</td>\n",
       "      <td>...</td>\n",
       "      <td>...</td>\n",
       "      <td>...</td>\n",
       "      <td>...</td>\n",
       "      <td>...</td>\n",
       "      <td>...</td>\n",
       "      <td>...</td>\n",
       "      <td>...</td>\n",
       "      <td>...</td>\n",
       "    </tr>\n",
       "    <tr>\n",
       "      <th>3768</th>\n",
       "      <td>planet</td>\n",
       "      <td>k2</td>\n",
       "      <td>0.479973</td>\n",
       "      <td>0.633318</td>\n",
       "      <td>0.081311</td>\n",
       "      <td>0.009777</td>\n",
       "      <td>0.012498</td>\n",
       "      <td>0.559869</td>\n",
       "      <td>0.014868</td>\n",
       "      <td>0.776741</td>\n",
       "      <td>0.000030</td>\n",
       "      <td>0.018074</td>\n",
       "      <td>0.033800</td>\n",
       "    </tr>\n",
       "    <tr>\n",
       "      <th>3769</th>\n",
       "      <td>planet</td>\n",
       "      <td>k2</td>\n",
       "      <td>0.479973</td>\n",
       "      <td>0.633318</td>\n",
       "      <td>0.065782</td>\n",
       "      <td>0.009071</td>\n",
       "      <td>0.009906</td>\n",
       "      <td>0.205046</td>\n",
       "      <td>0.014868</td>\n",
       "      <td>0.777778</td>\n",
       "      <td>0.000030</td>\n",
       "      <td>0.017336</td>\n",
       "      <td>0.024581</td>\n",
       "    </tr>\n",
       "    <tr>\n",
       "      <th>3770</th>\n",
       "      <td>planet</td>\n",
       "      <td>k2</td>\n",
       "      <td>0.568780</td>\n",
       "      <td>0.417168</td>\n",
       "      <td>0.049710</td>\n",
       "      <td>0.006832</td>\n",
       "      <td>0.001504</td>\n",
       "      <td>0.295464</td>\n",
       "      <td>0.004417</td>\n",
       "      <td>0.811966</td>\n",
       "      <td>0.000069</td>\n",
       "      <td>0.007185</td>\n",
       "      <td>0.001280</td>\n",
       "    </tr>\n",
       "    <tr>\n",
       "      <th>3771</th>\n",
       "      <td>planet</td>\n",
       "      <td>k2</td>\n",
       "      <td>0.568780</td>\n",
       "      <td>0.417168</td>\n",
       "      <td>0.049710</td>\n",
       "      <td>0.006832</td>\n",
       "      <td>0.001516</td>\n",
       "      <td>0.289334</td>\n",
       "      <td>0.004417</td>\n",
       "      <td>0.811966</td>\n",
       "      <td>0.000069</td>\n",
       "      <td>0.006964</td>\n",
       "      <td>0.001297</td>\n",
       "    </tr>\n",
       "    <tr>\n",
       "      <th>3772</th>\n",
       "      <td>planet</td>\n",
       "      <td>k2</td>\n",
       "      <td>0.568780</td>\n",
       "      <td>0.417168</td>\n",
       "      <td>0.049710</td>\n",
       "      <td>0.006832</td>\n",
       "      <td>0.001516</td>\n",
       "      <td>0.288925</td>\n",
       "      <td>0.004417</td>\n",
       "      <td>0.777304</td>\n",
       "      <td>0.000069</td>\n",
       "      <td>0.006678</td>\n",
       "      <td>0.001297</td>\n",
       "    </tr>\n",
       "  </tbody>\n",
       "</table>\n",
       "<p>3773 rows × 13 columns</p>\n",
       "</div>"
      ],
      "text/plain": [
       "     classification mission  longitude  latitude  stellar_temperature  \\\n",
       "0            planet      k2   0.129039  0.872136             0.073479   \n",
       "1            planet      k2   0.129039  0.872136             0.073479   \n",
       "2            planet      k2   0.129039  0.872136             0.072053   \n",
       "3         candidate      k2   0.502759  0.414973             0.047458   \n",
       "4         candidate      k2   0.502759  0.414973             0.049801   \n",
       "...             ...     ...        ...       ...                  ...   \n",
       "3768         planet      k2   0.479973  0.633318             0.081311   \n",
       "3769         planet      k2   0.479973  0.633318             0.065782   \n",
       "3770         planet      k2   0.568780  0.417168             0.049710   \n",
       "3771         planet      k2   0.568780  0.417168             0.049710   \n",
       "3772         planet      k2   0.568780  0.417168             0.049710   \n",
       "\n",
       "      stellar_radius  planet_radius  eq_temperature  distance  \\\n",
       "0           0.011427       0.002012        0.223301  0.018901   \n",
       "1           0.009660       0.001690        0.189620  0.018901   \n",
       "2           0.010013       0.001805        0.402781  0.018901   \n",
       "3           0.007657       0.000661        0.397221  0.010069   \n",
       "4           0.007068       0.000840        0.280005  0.010069   \n",
       "...              ...            ...             ...       ...   \n",
       "3768        0.009777       0.012498        0.559869  0.014868   \n",
       "3769        0.009071       0.009906        0.205046  0.014868   \n",
       "3770        0.006832       0.001504        0.295464  0.004417   \n",
       "3771        0.006832       0.001516        0.289334  0.004417   \n",
       "3772        0.006832       0.001516        0.288925  0.004417   \n",
       "\n",
       "      stellar_sur_gravity  orbital_period  insol_flux     depth  \n",
       "0                0.777778        0.000495    0.004992  0.000822  \n",
       "1                0.777778        0.000495    0.007590  0.000830  \n",
       "2                0.743590        0.000495    0.010895  0.000872  \n",
       "3                0.789174        0.000025    0.009462  0.000276  \n",
       "4                0.777778        0.000025    0.017895  0.000469  \n",
       "...                   ...             ...         ...       ...  \n",
       "3768             0.776741        0.000030    0.018074  0.033800  \n",
       "3769             0.777778        0.000030    0.017336  0.024581  \n",
       "3770             0.811966        0.000069    0.007185  0.001280  \n",
       "3771             0.811966        0.000069    0.006964  0.001297  \n",
       "3772             0.777304        0.000069    0.006678  0.001297  \n",
       "\n",
       "[3773 rows x 13 columns]"
      ]
     },
     "execution_count": 21,
     "metadata": {},
     "output_type": "execute_result"
    }
   ],
   "source": [
    "k2"
   ]
  },
  {
   "cell_type": "markdown",
   "metadata": {},
   "source": [
    "Separar dados em treinamento e teste"
   ]
  },
  {
   "cell_type": "code",
   "execution_count": 22,
   "metadata": {},
   "outputs": [],
   "source": [
    "# dados de treinamento (classificados como PLANETAS e NÃO PLANETAS)\n",
    "\n",
    "k2_classification = k2[k2['classification'].isin(['planet', 'not planet'])]\n",
    "\n",
    "kepler_classification = kepler[kepler['classification'].isin(['planet', 'not planet'])]\n",
    "\n",
    "tess_classification = tess[tess['classification'].isin(['planet', 'not planet'])]"
   ]
  },
  {
   "cell_type": "markdown",
   "metadata": {},
   "source": [
    "Separar os dados em features e rótulos"
   ]
  },
  {
   "cell_type": "code",
   "execution_count": 23,
   "metadata": {},
   "outputs": [],
   "source": [
    "x_k2 = k2_classification.drop(['classification', 'mission'], axis=1)  # Features\n",
    "y_k2 = k2_classification['classification']  # Rótulos\n",
    "\n",
    "x_kepler = kepler_classification.drop(['classification', 'mission'], axis=1)  # Features\n",
    "y_kepler = kepler_classification['classification']  # Rótulos\n",
    "\n",
    "x_tess = tess_classification.drop(['classification', 'mission'], axis=1)  # Features\n",
    "y_tess = tess_classification['classification']  # Rótulos"
   ]
  },
  {
   "cell_type": "code",
   "execution_count": 24,
   "metadata": {},
   "outputs": [],
   "source": [
    "from sklearn.model_selection import train_test_split\n",
    "\n",
    "x_k2_treino, x_k2_teste, y_k2_treino, y_k2_teste = train_test_split(x_k2, y_k2, test_size=0.2, random_state=42)\n",
    "\n",
    "x_kepler_treino, x_kepler_teste, y_kepler_treino, y_kepler_teste = train_test_split(x_kepler, y_kepler, test_size=0.2, random_state=42)\n",
    "\n",
    "x_tess_treino, x_tess_teste, y_tess_treino, y_tess_teste = train_test_split(x_tess, y_tess, test_size=0.2, random_state=42)"
   ]
  },
  {
   "cell_type": "markdown",
   "metadata": {},
   "source": [
    "Averiguando a distribuição de classes antes e depois da separação"
   ]
  },
  {
   "cell_type": "code",
   "execution_count": 25,
   "metadata": {},
   "outputs": [
    {
     "name": "stdout",
     "output_type": "stream",
     "text": [
      "['not planet' 'planet'] [ 311 2092] [0.12942156 0.87057844]\n"
     ]
    }
   ],
   "source": [
    "import numpy as np\n",
    "\n",
    "# Base original\n",
    "unique_values, counts = np.unique(y_k2, return_counts=True)\n",
    "prop = counts/y_k2.size\n",
    "print(unique_values,counts,prop)"
   ]
  },
  {
   "cell_type": "code",
   "execution_count": 26,
   "metadata": {},
   "outputs": [
    {
     "name": "stdout",
     "output_type": "stream",
     "text": [
      "['not planet' 'planet'] [ 245 1677] [0.12747138 0.87252862]\n"
     ]
    }
   ],
   "source": [
    "# Base de treino\n",
    "unique_values, counts = np.unique(y_k2_treino, return_counts=True)\n",
    "prop = counts/y_k2_treino.size\n",
    "print(unique_values,counts,prop)"
   ]
  },
  {
   "cell_type": "code",
   "execution_count": 27,
   "metadata": {},
   "outputs": [
    {
     "name": "stdout",
     "output_type": "stream",
     "text": [
      "['not planet' 'planet'] [ 66 415] [0.13721414 0.86278586]\n"
     ]
    }
   ],
   "source": [
    "# Base de teste\n",
    "unique_values, counts = np.unique(y_k2_teste, return_counts=True)\n",
    "prop = counts/y_k2_teste.size\n",
    "print(unique_values,counts,prop)"
   ]
  },
  {
   "cell_type": "code",
   "execution_count": 28,
   "metadata": {},
   "outputs": [
    {
     "name": "stdout",
     "output_type": "stream",
     "text": [
      "['not planet' 'planet'] [4839 2741] [0.6383905 0.3616095]\n"
     ]
    }
   ],
   "source": [
    "# Base original\n",
    "unique_values, counts = np.unique(y_kepler, return_counts=True)\n",
    "prop = counts/y_kepler.size\n",
    "print(unique_values,counts,prop)"
   ]
  },
  {
   "cell_type": "code",
   "execution_count": 29,
   "metadata": {},
   "outputs": [
    {
     "name": "stdout",
     "output_type": "stream",
     "text": [
      "['not planet' 'planet'] [3890 2174] [0.64149077 0.35850923]\n"
     ]
    }
   ],
   "source": [
    "# Base de treino\n",
    "unique_values, counts = np.unique(y_kepler_treino, return_counts=True)\n",
    "prop = counts/y_kepler_treino.size\n",
    "print(unique_values,counts,prop)"
   ]
  },
  {
   "cell_type": "code",
   "execution_count": 30,
   "metadata": {},
   "outputs": [
    {
     "name": "stdout",
     "output_type": "stream",
     "text": [
      "['not planet' 'planet'] [949 567] [0.62598945 0.37401055]\n"
     ]
    }
   ],
   "source": [
    "# Base de teste\n",
    "unique_values, counts = np.unique(y_kepler_teste, return_counts=True)\n",
    "prop = counts/y_kepler_teste.size\n",
    "print(unique_values,counts,prop)"
   ]
  },
  {
   "cell_type": "code",
   "execution_count": 31,
   "metadata": {},
   "outputs": [
    {
     "name": "stdout",
     "output_type": "stream",
     "text": [
      "['not planet' 'planet'] [1089 5106] [0.17578692 0.82421308]\n"
     ]
    }
   ],
   "source": [
    "# Base original\n",
    "unique_values, counts = np.unique(y_tess, return_counts=True)\n",
    "prop = counts/y_tess.size\n",
    "print(unique_values,counts,prop)"
   ]
  },
  {
   "cell_type": "code",
   "execution_count": 32,
   "metadata": {},
   "outputs": [
    {
     "name": "stdout",
     "output_type": "stream",
     "text": [
      "['not planet' 'planet'] [ 864 4092] [0.17433414 0.82566586]\n"
     ]
    }
   ],
   "source": [
    "# Base de treino\n",
    "unique_values, counts = np.unique(y_tess_treino, return_counts=True)\n",
    "prop = counts/y_tess_treino.size\n",
    "print(unique_values,counts,prop)"
   ]
  },
  {
   "cell_type": "code",
   "execution_count": 33,
   "metadata": {},
   "outputs": [
    {
     "name": "stdout",
     "output_type": "stream",
     "text": [
      "['not planet' 'planet'] [ 225 1014] [0.18159806 0.81840194]\n"
     ]
    }
   ],
   "source": [
    "# Base de teste\n",
    "unique_values, counts = np.unique(y_tess_teste, return_counts=True)\n",
    "prop = counts/y_tess_teste.size\n",
    "print(unique_values,counts,prop)"
   ]
  },
  {
   "cell_type": "markdown",
   "metadata": {},
   "source": [
    "Naive Bayes"
   ]
  },
  {
   "cell_type": "code",
   "execution_count": 34,
   "metadata": {},
   "outputs": [
    {
     "data": {
      "text/plain": [
       "(1107    not planet\n",
       " 3608        planet\n",
       " 2156        planet\n",
       " 917         planet\n",
       " 1901        planet\n",
       " 3409        planet\n",
       " 2133        planet\n",
       " 3447        planet\n",
       " 294     not planet\n",
       " 3361        planet\n",
       " Name: classification, dtype: object,\n",
       " array(['not planet', 'planet', 'not planet', 'planet', 'planet', 'planet',\n",
       "        'planet', 'planet', 'planet', 'planet'], dtype='<U10'))"
      ]
     },
     "execution_count": 34,
     "metadata": {},
     "output_type": "execute_result"
    }
   ],
   "source": [
    "from sklearn.naive_bayes import GaussianNB\n",
    "modeloNB = GaussianNB()\n",
    "\n",
    "modeloNB.fit(x_k2_treino,y_k2_treino)\n",
    "y_k2_previsto = modeloNB.predict(x_k2_teste)\n",
    "\n",
    "y_k2_teste[:10],y_k2_previsto[:10]\n"
   ]
  },
  {
   "cell_type": "code",
   "execution_count": 35,
   "metadata": {},
   "outputs": [
    {
     "data": {
      "text/plain": [
       "(840     not planet\n",
       " 698         planet\n",
       " 954     not planet\n",
       " 5221    not planet\n",
       " 8853    not planet\n",
       " 5694    not planet\n",
       " 9441    not planet\n",
       " 2799    not planet\n",
       " 9335    not planet\n",
       " 5867    not planet\n",
       " Name: classification, dtype: object,\n",
       " array(['planet', 'planet', 'not planet', 'not planet', 'not planet',\n",
       "        'not planet', 'not planet', 'not planet', 'not planet', 'planet'],\n",
       "       dtype='<U10'))"
      ]
     },
     "execution_count": 35,
     "metadata": {},
     "output_type": "execute_result"
    }
   ],
   "source": [
    "modeloNB.fit(x_kepler_treino,y_kepler_treino)\n",
    "y_kepler_previsto = modeloNB.predict(x_kepler_teste)\n",
    "\n",
    "y_kepler_teste[:10],y_kepler_previsto[:10]"
   ]
  },
  {
   "cell_type": "code",
   "execution_count": 36,
   "metadata": {},
   "outputs": [
    {
     "data": {
      "text/plain": [
       "(3467    not planet\n",
       " 2827        planet\n",
       " 2041        planet\n",
       " 5747        planet\n",
       " 1529        planet\n",
       " 2140        planet\n",
       " 1041        planet\n",
       " 199         planet\n",
       " 2005        planet\n",
       " 5870        planet\n",
       " Name: classification, dtype: object,\n",
       " array(['planet', 'planet', 'planet', 'planet', 'planet', 'planet',\n",
       "        'planet', 'planet', 'planet', 'planet'], dtype='<U10'))"
      ]
     },
     "execution_count": 36,
     "metadata": {},
     "output_type": "execute_result"
    }
   ],
   "source": [
    "modeloNB.fit(x_tess_treino,y_tess_treino)\n",
    "y_tess_previsto = modeloNB.predict(x_tess_teste)\n",
    "\n",
    "y_tess_teste[:10],y_tess_previsto[:10]"
   ]
  },
  {
   "cell_type": "markdown",
   "metadata": {},
   "source": [
    " K-Vizinhos Mais Próximos (K-NN)"
   ]
  },
  {
   "cell_type": "code",
   "execution_count": 37,
   "metadata": {},
   "outputs": [
    {
     "data": {
      "text/plain": [
       "(1107    not planet\n",
       " 3608        planet\n",
       " 2156        planet\n",
       " 917         planet\n",
       " 1901        planet\n",
       " 3409        planet\n",
       " 2133        planet\n",
       " 3447        planet\n",
       " 294     not planet\n",
       " 3361        planet\n",
       " Name: classification, dtype: object,\n",
       " array(['not planet', 'planet', 'planet', 'planet', 'planet', 'planet',\n",
       "        'planet', 'planet', 'not planet', 'planet'], dtype=object))"
      ]
     },
     "execution_count": 37,
     "metadata": {},
     "output_type": "execute_result"
    }
   ],
   "source": [
    "from sklearn.neighbors import KNeighborsClassifier\n",
    "modeloKNN = KNeighborsClassifier()\n",
    "\n",
    "modeloKNN.fit(x_k2_treino,y_k2_treino)\n",
    "y_k2_previsto = modeloKNN.predict(x_k2_teste)\n",
    "\n",
    "y_k2_teste[:10],y_k2_previsto[:10]"
   ]
  },
  {
   "cell_type": "code",
   "execution_count": 38,
   "metadata": {},
   "outputs": [
    {
     "data": {
      "text/plain": [
       "(840     not planet\n",
       " 698         planet\n",
       " 954     not planet\n",
       " 5221    not planet\n",
       " 8853    not planet\n",
       " 5694    not planet\n",
       " 9441    not planet\n",
       " 2799    not planet\n",
       " 9335    not planet\n",
       " 5867    not planet\n",
       " Name: classification, dtype: object,\n",
       " array(['planet', 'planet', 'not planet', 'planet', 'not planet', 'planet',\n",
       "        'not planet', 'not planet', 'not planet', 'not planet'],\n",
       "       dtype=object))"
      ]
     },
     "execution_count": 38,
     "metadata": {},
     "output_type": "execute_result"
    }
   ],
   "source": [
    "modeloKNN.fit(x_kepler_treino,y_kepler_treino)\n",
    "y_kepler_previsto = modeloKNN.predict(x_kepler_teste)\n",
    "\n",
    "y_kepler_teste[:10],y_kepler_previsto[:10]"
   ]
  },
  {
   "cell_type": "code",
   "execution_count": 39,
   "metadata": {},
   "outputs": [
    {
     "data": {
      "text/plain": [
       "(3467    not planet\n",
       " 2827        planet\n",
       " 2041        planet\n",
       " 5747        planet\n",
       " 1529        planet\n",
       " 2140        planet\n",
       " 1041        planet\n",
       " 199         planet\n",
       " 2005        planet\n",
       " 5870        planet\n",
       " Name: classification, dtype: object,\n",
       " array(['planet', 'planet', 'planet', 'planet', 'planet', 'planet',\n",
       "        'planet', 'planet', 'not planet', 'planet'], dtype=object))"
      ]
     },
     "execution_count": 39,
     "metadata": {},
     "output_type": "execute_result"
    }
   ],
   "source": [
    "modeloKNN.fit(x_tess_treino,y_tess_treino)\n",
    "y_tess_previsto = modeloKNN.predict(x_tess_teste)\n",
    "\n",
    "y_tess_teste[:10],y_tess_previsto[:10]"
   ]
  },
  {
   "cell_type": "markdown",
   "metadata": {},
   "source": [
    " Árvores de Decisão"
   ]
  },
  {
   "cell_type": "code",
   "execution_count": 40,
   "metadata": {},
   "outputs": [
    {
     "data": {
      "text/plain": [
       "(1107    not planet\n",
       " 3608        planet\n",
       " 2156        planet\n",
       " 917         planet\n",
       " 1901        planet\n",
       " 3409        planet\n",
       " 2133        planet\n",
       " 3447        planet\n",
       " 294     not planet\n",
       " 3361        planet\n",
       " Name: classification, dtype: object,\n",
       " array(['not planet', 'planet', 'planet', 'planet', 'planet', 'planet',\n",
       "        'planet', 'planet', 'not planet', 'planet'], dtype=object))"
      ]
     },
     "execution_count": 40,
     "metadata": {},
     "output_type": "execute_result"
    }
   ],
   "source": [
    "from sklearn.tree import DecisionTreeClassifier\n",
    "modeloDT = DecisionTreeClassifier()\n",
    "\n",
    "modeloDT.fit(x_k2_treino,y_k2_treino)\n",
    "y_k2_previsto = modeloDT.predict(x_k2_teste)\n",
    "\n",
    "y_k2_teste[:10],y_k2_previsto[:10]"
   ]
  },
  {
   "cell_type": "code",
   "execution_count": 41,
   "metadata": {},
   "outputs": [
    {
     "data": {
      "text/plain": [
       "(840     not planet\n",
       " 698         planet\n",
       " 954     not planet\n",
       " 5221    not planet\n",
       " 8853    not planet\n",
       " 5694    not planet\n",
       " 9441    not planet\n",
       " 2799    not planet\n",
       " 9335    not planet\n",
       " 5867    not planet\n",
       " Name: classification, dtype: object,\n",
       " array(['not planet', 'planet', 'not planet', 'not planet', 'not planet',\n",
       "        'not planet', 'not planet', 'not planet', 'not planet',\n",
       "        'not planet'], dtype=object))"
      ]
     },
     "execution_count": 41,
     "metadata": {},
     "output_type": "execute_result"
    }
   ],
   "source": [
    "modeloDT.fit(x_kepler_treino,y_kepler_treino)\n",
    "y_kepler_previsto = modeloDT.predict(x_kepler_teste)\n",
    "\n",
    "y_kepler_teste[:10],y_kepler_previsto[:10]"
   ]
  },
  {
   "cell_type": "code",
   "execution_count": 42,
   "metadata": {},
   "outputs": [
    {
     "data": {
      "text/plain": [
       "(3467    not planet\n",
       " 2827        planet\n",
       " 2041        planet\n",
       " 5747        planet\n",
       " 1529        planet\n",
       " 2140        planet\n",
       " 1041        planet\n",
       " 199         planet\n",
       " 2005        planet\n",
       " 5870        planet\n",
       " Name: classification, dtype: object,\n",
       " array(['planet', 'planet', 'planet', 'planet', 'not planet', 'planet',\n",
       "        'planet', 'planet', 'planet', 'planet'], dtype=object))"
      ]
     },
     "execution_count": 42,
     "metadata": {},
     "output_type": "execute_result"
    }
   ],
   "source": [
    "modeloDT.fit(x_tess_treino,y_tess_treino)\n",
    "y_tess_previsto = modeloDT.predict(x_tess_teste)\n",
    "\n",
    "y_tess_teste[:10],y_tess_previsto[:10]"
   ]
  },
  {
   "cell_type": "markdown",
   "metadata": {},
   "source": [
    "Regressão Logística"
   ]
  },
  {
   "cell_type": "code",
   "execution_count": 43,
   "metadata": {},
   "outputs": [
    {
     "data": {
      "text/plain": [
       "(1107    not planet\n",
       " 3608        planet\n",
       " 2156        planet\n",
       " 917         planet\n",
       " 1901        planet\n",
       " 3409        planet\n",
       " 2133        planet\n",
       " 3447        planet\n",
       " 294     not planet\n",
       " 3361        planet\n",
       " Name: classification, dtype: object,\n",
       " array(['planet', 'planet', 'planet', 'planet', 'planet', 'planet',\n",
       "        'planet', 'planet', 'planet', 'planet'], dtype=object))"
      ]
     },
     "execution_count": 43,
     "metadata": {},
     "output_type": "execute_result"
    }
   ],
   "source": [
    "from sklearn.linear_model import LogisticRegression\n",
    "modeloLR = LogisticRegression()\n",
    "\n",
    "modeloLR.fit(x_k2_treino,y_k2_treino)\n",
    "y_k2_previsto = modeloLR.predict(x_k2_teste)\n",
    "\n",
    "y_k2_teste[:10],y_k2_previsto[:10]"
   ]
  },
  {
   "cell_type": "code",
   "execution_count": 44,
   "metadata": {},
   "outputs": [
    {
     "data": {
      "text/plain": [
       "(840     not planet\n",
       " 698         planet\n",
       " 954     not planet\n",
       " 5221    not planet\n",
       " 8853    not planet\n",
       " 5694    not planet\n",
       " 9441    not planet\n",
       " 2799    not planet\n",
       " 9335    not planet\n",
       " 5867    not planet\n",
       " Name: classification, dtype: object,\n",
       " array(['planet', 'not planet', 'planet', 'not planet', 'not planet',\n",
       "        'not planet', 'not planet', 'not planet', 'not planet',\n",
       "        'not planet'], dtype=object))"
      ]
     },
     "execution_count": 44,
     "metadata": {},
     "output_type": "execute_result"
    }
   ],
   "source": [
    "modeloLR.fit(x_kepler_treino,y_kepler_treino)\n",
    "y_kepler_previsto = modeloLR.predict(x_kepler_teste)\n",
    "\n",
    "y_kepler_teste[:10],y_kepler_previsto[:10]"
   ]
  },
  {
   "cell_type": "code",
   "execution_count": 45,
   "metadata": {},
   "outputs": [
    {
     "data": {
      "text/plain": [
       "(3467    not planet\n",
       " 2827        planet\n",
       " 2041        planet\n",
       " 5747        planet\n",
       " 1529        planet\n",
       " 2140        planet\n",
       " 1041        planet\n",
       " 199         planet\n",
       " 2005        planet\n",
       " 5870        planet\n",
       " Name: classification, dtype: object,\n",
       " array(['planet', 'planet', 'planet', 'planet', 'planet', 'planet',\n",
       "        'planet', 'planet', 'planet', 'planet'], dtype=object))"
      ]
     },
     "execution_count": 45,
     "metadata": {},
     "output_type": "execute_result"
    }
   ],
   "source": [
    "modeloLR.fit(x_tess_treino,y_tess_treino)\n",
    "y_tess_previsto = modeloLR.predict(x_tess_teste)\n",
    "\n",
    "y_tess_teste[:10],y_tess_previsto[:10]"
   ]
  },
  {
   "cell_type": "code",
   "execution_count": null,
   "metadata": {},
   "outputs": [],
   "source": []
  }
 ],
 "metadata": {
  "kernelspec": {
   "display_name": "Python 3",
   "language": "python",
   "name": "python3"
  },
  "language_info": {
   "codemirror_mode": {
    "name": "ipython",
    "version": 3
   },
   "file_extension": ".py",
   "mimetype": "text/x-python",
   "name": "python",
   "nbconvert_exporter": "python",
   "pygments_lexer": "ipython3",
   "version": "3.9.13"
  }
 },
 "nbformat": 4,
 "nbformat_minor": 2
}
